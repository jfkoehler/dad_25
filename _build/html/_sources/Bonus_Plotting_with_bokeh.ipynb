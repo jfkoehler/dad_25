{
 "cells": [
  {
   "cell_type": "markdown",
   "metadata": {
    "id": "-Mu-MdtpdRQp"
   },
   "source": [
    "# Plotting with `bokeh`\n",
    "\n",
    "Similar to `plotly`, the `bokeh` library offers plots that are interactive and come with basic tools like zoom, pan, and save.  Personally, I find `bokeh` nicer to work with than `plotly` and they have very good documentation.  One of the key differences with `bokeh` is that you can create a plot object (`figure()`) and assign this to a variable that you then interact with and show at your leisure (using the `show` function)."
   ]
  },
  {
   "cell_type": "code",
   "execution_count": 1,
   "metadata": {
    "id": "3_p86gUfdRQr"
   },
   "outputs": [],
   "source": [
    "import seaborn as sns\n",
    "import matplotlib.pyplot as plt\n",
    "import numpy as np\n",
    "import pandas as pd"
   ]
  },
  {
   "cell_type": "markdown",
   "metadata": {
    "id": "a-PP-8KRjV0M"
   },
   "source": [
    "To begin, a basic plot will be created with the `figure` function and the display of the plot is handled with the `show` function.  To display the plots in a notebook enviornment you should execute the `output_notebook` function at the start of the notebook."
   ]
  },
  {
   "cell_type": "code",
   "execution_count": 3,
   "metadata": {},
   "outputs": [
    {
     "name": "stdout",
     "output_type": "stream",
     "text": [
      "Collecting bokeh\n",
      "  Downloading bokeh-3.8.0-py3-none-any.whl.metadata (10 kB)\n",
      "Requirement already satisfied: Jinja2>=2.9 in /Library/Frameworks/Python.framework/Versions/3.12/lib/python3.12/site-packages (from bokeh) (3.1.2)\n",
      "Requirement already satisfied: contourpy>=1.2 in /Library/Frameworks/Python.framework/Versions/3.12/lib/python3.12/site-packages (from bokeh) (1.2.0)\n",
      "Collecting narwhals>=1.13 (from bokeh)\n",
      "  Downloading narwhals-2.5.0-py3-none-any.whl.metadata (11 kB)\n",
      "Requirement already satisfied: numpy>=1.16 in /Library/Frameworks/Python.framework/Versions/3.12/lib/python3.12/site-packages (from bokeh) (1.26.4)\n",
      "Requirement already satisfied: packaging>=16.8 in /Library/Frameworks/Python.framework/Versions/3.12/lib/python3.12/site-packages (from bokeh) (23.2)\n",
      "Requirement already satisfied: pandas>=1.2 in /Library/Frameworks/Python.framework/Versions/3.12/lib/python3.12/site-packages (from bokeh) (2.2.3)\n",
      "Requirement already satisfied: pillow>=7.1.0 in /Library/Frameworks/Python.framework/Versions/3.12/lib/python3.12/site-packages (from bokeh) (10.2.0)\n",
      "Requirement already satisfied: PyYAML>=3.10 in /Library/Frameworks/Python.framework/Versions/3.12/lib/python3.12/site-packages (from bokeh) (6.0.1)\n",
      "Requirement already satisfied: tornado>=6.2 in /Library/Frameworks/Python.framework/Versions/3.12/lib/python3.12/site-packages (from bokeh) (6.4)\n",
      "Requirement already satisfied: xyzservices>=2021.09.1 in /Library/Frameworks/Python.framework/Versions/3.12/lib/python3.12/site-packages (from bokeh) (2025.1.0)\n",
      "Requirement already satisfied: MarkupSafe>=2.0 in /Library/Frameworks/Python.framework/Versions/3.12/lib/python3.12/site-packages (from Jinja2>=2.9->bokeh) (2.1.3)\n",
      "Requirement already satisfied: python-dateutil>=2.8.2 in /Library/Frameworks/Python.framework/Versions/3.12/lib/python3.12/site-packages (from pandas>=1.2->bokeh) (2.8.2)\n",
      "Requirement already satisfied: pytz>=2020.1 in /Library/Frameworks/Python.framework/Versions/3.12/lib/python3.12/site-packages (from pandas>=1.2->bokeh) (2023.3.post1)\n",
      "Requirement already satisfied: tzdata>=2022.7 in /Library/Frameworks/Python.framework/Versions/3.12/lib/python3.12/site-packages (from pandas>=1.2->bokeh) (2023.3)\n",
      "Requirement already satisfied: six>=1.5 in /Library/Frameworks/Python.framework/Versions/3.12/lib/python3.12/site-packages (from python-dateutil>=2.8.2->pandas>=1.2->bokeh) (1.16.0)\n",
      "Downloading bokeh-3.8.0-py3-none-any.whl (7.2 MB)\n",
      "\u001b[2K   \u001b[90m━━━━━━━━━━━━━━━━━━━━━━━━━━━━━━━━━━━━━━━━\u001b[0m \u001b[32m7.2/7.2 MB\u001b[0m \u001b[31m18.5 MB/s\u001b[0m eta \u001b[36m0:00:00\u001b[0m00:01\u001b[0m00:01\u001b[0m\n",
      "\u001b[?25hDownloading narwhals-2.5.0-py3-none-any.whl (407 kB)\n",
      "Installing collected packages: narwhals, bokeh\n",
      "Successfully installed bokeh-3.8.0 narwhals-2.5.0\n",
      "\n",
      "\u001b[1m[\u001b[0m\u001b[34;49mnotice\u001b[0m\u001b[1;39;49m]\u001b[0m\u001b[39;49m A new release of pip is available: \u001b[0m\u001b[31;49m24.3.1\u001b[0m\u001b[39;49m -> \u001b[0m\u001b[32;49m25.2\u001b[0m\n",
      "\u001b[1m[\u001b[0m\u001b[34;49mnotice\u001b[0m\u001b[1;39;49m]\u001b[0m\u001b[39;49m To update, run: \u001b[0m\u001b[32;49mpip install --upgrade pip\u001b[0m\n"
     ]
    }
   ],
   "source": [
    "!pip install bokeh"
   ]
  },
  {
   "cell_type": "code",
   "execution_count": 4,
   "metadata": {
    "id": "flM82Lo6dRQz"
   },
   "outputs": [],
   "source": [
    "from bokeh.plotting import figure\n",
    "from bokeh.io import output_notebook, show"
   ]
  },
  {
   "cell_type": "code",
   "execution_count": 5,
   "metadata": {
    "id": "RlG2PZOAdRQz"
   },
   "outputs": [
    {
     "data": {
      "text/html": [
       "    <style>\n",
       "        .bk-notebook-logo {\n",
       "            display: block;\n",
       "            width: 20px;\n",
       "            height: 20px;\n",
       "            background-image: url(data:image/png;base64,iVBORw0KGgoAAAANSUhEUgAAABQAAAAUCAYAAACNiR0NAAAABHNCSVQICAgIfAhkiAAAAAlwSFlzAAALEgAACxIB0t1+/AAAABx0RVh0U29mdHdhcmUAQWRvYmUgRmlyZXdvcmtzIENTNui8sowAAAOkSURBVDiNjZRtaJVlGMd/1/08zzln5zjP1LWcU9N0NkN8m2CYjpgQYQXqSs0I84OLIC0hkEKoPtiH3gmKoiJDU7QpLgoLjLIQCpEsNJ1vqUOdO7ppbuec5+V+rj4ctwzd8IIbbi6u+8f1539dt3A78eXC7QizUF7gyV1fD1Yqg4JWz84yffhm0qkFqBogB9rM8tZdtwVsPUhWhGcFJngGeWrPzHm5oaMmkfEg1usvLFyc8jLRqDOMru7AyC8saQr7GG7f5fvDeH7Ej8CM66nIF+8yngt6HWaKh7k49Soy9nXurCi1o3qUbS3zWfrYeQDTB/Qj6kX6Ybhw4B+bOYoLKCC9H3Nu/leUTZ1JdRWkkn2ldcCamzrcf47KKXdAJllSlxAOkRgyHsGC/zRday5Qld9DyoM4/q/rUoy/CXh3jzOu3bHUVZeU+DEn8FInkPBFlu3+nW3Nw0mk6vCDiWg8CeJaxEwuHS3+z5RgY+YBR6V1Z1nxSOfoaPa4LASWxxdNp+VWTk7+4vzaou8v8PN+xo+KY2xsw6une2frhw05CTYOmQvsEhjhWjn0bmXPjpE1+kplmmkP3suftwTubK9Vq22qKmrBhpY4jvd5afdRA3wGjFAgcnTK2s4hY0/GPNIb0nErGMCRxWOOX64Z8RAC4oCXdklmEvcL8o0BfkNK4lUg9HTl+oPlQxdNo3Mg4Nv175e/1LDGzZen30MEjRUtmXSfiTVu1kK8W4txyV6BMKlbgk3lMwYCiusNy9fVfvvwMxv8Ynl6vxoByANLTWplvuj/nF9m2+PDtt1eiHPBr1oIfhCChQMBw6Aw0UulqTKZdfVvfG7VcfIqLG9bcldL/+pdWTLxLUy8Qq38heUIjh4XlzZxzQm19lLFlr8vdQ97rjZVOLf8nclzckbcD4wxXMidpX30sFd37Fv/GtwwhzhxGVAprjbg0gCAEeIgwCZyTV2Z1REEW8O4py0wsjeloKoMr6iCY6dP92H6Vw/oTyICIthibxjm/DfN9lVz8IqtqKYLUXfoKVMVQVVJOElGjrnnUt9T9wbgp8AyYKaGlqingHZU/uG2NTZSVqwHQTWkx9hxjkpWDaCg6Ckj5qebgBVbT3V3NNXMSiWSDdGV3hrtzla7J+duwPOToIg42ChPQOQjspnSlp1V+Gjdged7+8UN5CRAV7a5EdFNwCjEaBR27b3W890TE7g24NAP/mMDXRWrGoFPQI9ls/MWO2dWFAar/xcOIImbbpA3zgAAAABJRU5ErkJggg==);\n",
       "        }\n",
       "    </style>\n",
       "    <div>\n",
       "        <a href=\"https://bokeh.org\" target=\"_blank\" class=\"bk-notebook-logo\"></a>\n",
       "        <span id=\"f9465ffc-d740-4503-b3c2-2077f3a04726\">Loading BokehJS ...</span>\n",
       "    </div>\n"
      ]
     },
     "metadata": {},
     "output_type": "display_data"
    },
    {
     "data": {
      "application/javascript": [
       "'use strict';\n",
       "(function(root) {\n",
       "  function now() {\n",
       "    return new Date();\n",
       "  }\n",
       "\n",
       "  const force = true;\n",
       "\n",
       "  if (typeof root._bokeh_onload_callbacks === \"undefined\" || force === true) {\n",
       "    root._bokeh_onload_callbacks = [];\n",
       "    root._bokeh_is_loading = undefined;\n",
       "  }\n",
       "\n",
       "const JS_MIME_TYPE = 'application/javascript';\n",
       "  const HTML_MIME_TYPE = 'text/html';\n",
       "  const EXEC_MIME_TYPE = 'application/vnd.bokehjs_exec.v0+json';\n",
       "  const CLASS_NAME = 'output_bokeh rendered_html';\n",
       "\n",
       "  /**\n",
       "   * Render data to the DOM node\n",
       "   */\n",
       "  function render(props, node) {\n",
       "    const script = document.createElement(\"script\");\n",
       "    node.appendChild(script);\n",
       "  }\n",
       "\n",
       "  /**\n",
       "   * Handle when an output is cleared or removed\n",
       "   */\n",
       "  function handleClearOutput(event, handle) {\n",
       "    function drop(id) {\n",
       "      const view = Bokeh.index.get_by_id(id)\n",
       "      if (view != null) {\n",
       "        view.model.document.clear()\n",
       "        Bokeh.index.delete(view)\n",
       "      }\n",
       "    }\n",
       "\n",
       "    const cell = handle.cell;\n",
       "\n",
       "    const id = cell.output_area._bokeh_element_id;\n",
       "    const server_id = cell.output_area._bokeh_server_id;\n",
       "\n",
       "    // Clean up Bokeh references\n",
       "    if (id != null) {\n",
       "      drop(id)\n",
       "    }\n",
       "\n",
       "    if (server_id !== undefined) {\n",
       "      // Clean up Bokeh references\n",
       "      const cmd_clean = \"from bokeh.io.state import curstate; print(curstate().uuid_to_server['\" + server_id + \"'].get_sessions()[0].document.roots[0]._id)\";\n",
       "      cell.notebook.kernel.execute(cmd_clean, {\n",
       "        iopub: {\n",
       "          output: function(msg) {\n",
       "            const id = msg.content.text.trim()\n",
       "            drop(id)\n",
       "          }\n",
       "        }\n",
       "      });\n",
       "      // Destroy server and session\n",
       "      const cmd_destroy = \"import bokeh.io.notebook as ion; ion.destroy_server('\" + server_id + \"')\";\n",
       "      cell.notebook.kernel.execute(cmd_destroy);\n",
       "    }\n",
       "  }\n",
       "\n",
       "  /**\n",
       "   * Handle when a new output is added\n",
       "   */\n",
       "  function handleAddOutput(event, handle) {\n",
       "    const output_area = handle.output_area;\n",
       "    const output = handle.output;\n",
       "\n",
       "    // limit handleAddOutput to display_data with EXEC_MIME_TYPE content only\n",
       "    if ((output.output_type != \"display_data\") || (!Object.prototype.hasOwnProperty.call(output.data, EXEC_MIME_TYPE))) {\n",
       "      return\n",
       "    }\n",
       "\n",
       "    const toinsert = output_area.element.find(\".\" + CLASS_NAME.split(' ')[0]);\n",
       "\n",
       "    if (output.metadata[EXEC_MIME_TYPE][\"id\"] !== undefined) {\n",
       "      toinsert[toinsert.length - 1].firstChild.textContent = output.data[JS_MIME_TYPE];\n",
       "      // store reference to embed id on output_area\n",
       "      output_area._bokeh_element_id = output.metadata[EXEC_MIME_TYPE][\"id\"];\n",
       "    }\n",
       "    if (output.metadata[EXEC_MIME_TYPE][\"server_id\"] !== undefined) {\n",
       "      const bk_div = document.createElement(\"div\");\n",
       "      bk_div.innerHTML = output.data[HTML_MIME_TYPE];\n",
       "      const script_attrs = bk_div.children[0].attributes;\n",
       "      for (let i = 0; i < script_attrs.length; i++) {\n",
       "        toinsert[toinsert.length - 1].firstChild.setAttribute(script_attrs[i].name, script_attrs[i].value);\n",
       "        toinsert[toinsert.length - 1].firstChild.textContent = bk_div.children[0].textContent\n",
       "      }\n",
       "      // store reference to server id on output_area\n",
       "      output_area._bokeh_server_id = output.metadata[EXEC_MIME_TYPE][\"server_id\"];\n",
       "    }\n",
       "  }\n",
       "\n",
       "  function register_renderer(events, OutputArea) {\n",
       "\n",
       "    function append_mime(data, metadata, element) {\n",
       "      // create a DOM node to render to\n",
       "      const toinsert = this.create_output_subarea(\n",
       "        metadata,\n",
       "        CLASS_NAME,\n",
       "        EXEC_MIME_TYPE\n",
       "      );\n",
       "      this.keyboard_manager.register_events(toinsert);\n",
       "      // Render to node\n",
       "      const props = {data: data, metadata: metadata[EXEC_MIME_TYPE]};\n",
       "      render(props, toinsert[toinsert.length - 1]);\n",
       "      element.append(toinsert);\n",
       "      return toinsert\n",
       "    }\n",
       "\n",
       "    /* Handle when an output is cleared or removed */\n",
       "    events.on('clear_output.CodeCell', handleClearOutput);\n",
       "    events.on('delete.Cell', handleClearOutput);\n",
       "\n",
       "    /* Handle when a new output is added */\n",
       "    events.on('output_added.OutputArea', handleAddOutput);\n",
       "\n",
       "    /**\n",
       "     * Register the mime type and append_mime function with output_area\n",
       "     */\n",
       "    OutputArea.prototype.register_mime_type(EXEC_MIME_TYPE, append_mime, {\n",
       "      /* Is output safe? */\n",
       "      safe: true,\n",
       "      /* Index of renderer in `output_area.display_order` */\n",
       "      index: 0\n",
       "    });\n",
       "  }\n",
       "\n",
       "  // register the mime type if in Jupyter Notebook environment and previously unregistered\n",
       "  if (root.Jupyter !== undefined) {\n",
       "    const events = require('base/js/events');\n",
       "    const OutputArea = require('notebook/js/outputarea').OutputArea;\n",
       "\n",
       "    if (OutputArea.prototype.mime_types().indexOf(EXEC_MIME_TYPE) == -1) {\n",
       "      register_renderer(events, OutputArea);\n",
       "    }\n",
       "  }\n",
       "  if (typeof (root._bokeh_timeout) === \"undefined\" || force === true) {\n",
       "    root._bokeh_timeout = Date.now() + 5000;\n",
       "    root._bokeh_failed_load = false;\n",
       "  }\n",
       "\n",
       "  const NB_LOAD_WARNING = {'data': {'text/html':\n",
       "     \"<div style='background-color: #fdd'>\\n\"+\n",
       "     \"<p>\\n\"+\n",
       "     \"BokehJS does not appear to have successfully loaded. If loading BokehJS from CDN, this \\n\"+\n",
       "     \"may be due to a slow or bad network connection. Possible fixes:\\n\"+\n",
       "     \"</p>\\n\"+\n",
       "     \"<ul>\\n\"+\n",
       "     \"<li>re-rerun `output_notebook()` to attempt to load from CDN again, or</li>\\n\"+\n",
       "     \"<li>use INLINE resources instead, as so:</li>\\n\"+\n",
       "     \"</ul>\\n\"+\n",
       "     \"<code>\\n\"+\n",
       "     \"from bokeh.resources import INLINE\\n\"+\n",
       "     \"output_notebook(resources=INLINE)\\n\"+\n",
       "     \"</code>\\n\"+\n",
       "     \"</div>\"}};\n",
       "\n",
       "  function display_loaded(error = null) {\n",
       "    const el = document.getElementById(\"f9465ffc-d740-4503-b3c2-2077f3a04726\");\n",
       "    if (el != null) {\n",
       "      const html = (() => {\n",
       "        if (typeof root.Bokeh === \"undefined\") {\n",
       "          if (error == null) {\n",
       "            return \"BokehJS is loading ...\";\n",
       "          } else {\n",
       "            return \"BokehJS failed to load.\";\n",
       "          }\n",
       "        } else {\n",
       "          const prefix = `BokehJS ${root.Bokeh.version}`;\n",
       "          if (error == null) {\n",
       "            return `${prefix} successfully loaded.`;\n",
       "          } else {\n",
       "            return `${prefix} <b>encountered errors</b> while loading and may not function as expected.`;\n",
       "          }\n",
       "        }\n",
       "      })();\n",
       "      el.innerHTML = html;\n",
       "\n",
       "      if (error != null) {\n",
       "        const wrapper = document.createElement(\"div\");\n",
       "        wrapper.style.overflow = \"auto\";\n",
       "        wrapper.style.height = \"5em\";\n",
       "        wrapper.style.resize = \"vertical\";\n",
       "        const content = document.createElement(\"div\");\n",
       "        content.style.fontFamily = \"monospace\";\n",
       "        content.style.whiteSpace = \"pre-wrap\";\n",
       "        content.style.backgroundColor = \"rgb(255, 221, 221)\";\n",
       "        content.textContent = error.stack ?? error.toString();\n",
       "        wrapper.append(content);\n",
       "        el.append(wrapper);\n",
       "      }\n",
       "    } else if (Date.now() < root._bokeh_timeout) {\n",
       "      setTimeout(() => display_loaded(error), 100);\n",
       "    }\n",
       "  }\n",
       "\n",
       "  function run_callbacks() {\n",
       "    try {\n",
       "      root._bokeh_onload_callbacks.forEach(function(callback) {\n",
       "        if (callback != null)\n",
       "          callback();\n",
       "      });\n",
       "    } finally {\n",
       "      delete root._bokeh_onload_callbacks\n",
       "    }\n",
       "    console.debug(\"Bokeh: all callbacks have finished\");\n",
       "  }\n",
       "\n",
       "  function load_libs(css_urls, js_urls, callback) {\n",
       "    if (css_urls == null) css_urls = [];\n",
       "    if (js_urls == null) js_urls = [];\n",
       "\n",
       "    root._bokeh_onload_callbacks.push(callback);\n",
       "    if (root._bokeh_is_loading > 0) {\n",
       "      console.debug(\"Bokeh: BokehJS is being loaded, scheduling callback at\", now());\n",
       "      return null;\n",
       "    }\n",
       "    if (js_urls == null || js_urls.length === 0) {\n",
       "      run_callbacks();\n",
       "      return null;\n",
       "    }\n",
       "    console.debug(\"Bokeh: BokehJS not loaded, scheduling load and callback at\", now());\n",
       "    root._bokeh_is_loading = css_urls.length + js_urls.length;\n",
       "\n",
       "    function on_load() {\n",
       "      root._bokeh_is_loading--;\n",
       "      if (root._bokeh_is_loading === 0) {\n",
       "        console.debug(\"Bokeh: all BokehJS libraries/stylesheets loaded\");\n",
       "        run_callbacks()\n",
       "      }\n",
       "    }\n",
       "\n",
       "    function on_error(url) {\n",
       "      console.error(\"failed to load \" + url);\n",
       "    }\n",
       "\n",
       "    for (let i = 0; i < css_urls.length; i++) {\n",
       "      const url = css_urls[i];\n",
       "      const element = document.createElement(\"link\");\n",
       "      element.onload = on_load;\n",
       "      element.onerror = on_error.bind(null, url);\n",
       "      element.rel = \"stylesheet\";\n",
       "      element.type = \"text/css\";\n",
       "      element.href = url;\n",
       "      console.debug(\"Bokeh: injecting link tag for BokehJS stylesheet: \", url);\n",
       "      document.body.appendChild(element);\n",
       "    }\n",
       "\n",
       "    for (let i = 0; i < js_urls.length; i++) {\n",
       "      const url = js_urls[i];\n",
       "      const element = document.createElement('script');\n",
       "      element.onload = on_load;\n",
       "      element.onerror = on_error.bind(null, url);\n",
       "      element.async = false;\n",
       "      element.src = url;\n",
       "      console.debug(\"Bokeh: injecting script tag for BokehJS library: \", url);\n",
       "      document.head.appendChild(element);\n",
       "    }\n",
       "  };\n",
       "\n",
       "  function inject_raw_css(css) {\n",
       "    const element = document.createElement(\"style\");\n",
       "    element.appendChild(document.createTextNode(css));\n",
       "    document.body.appendChild(element);\n",
       "  }\n",
       "\n",
       "  const js_urls = [\"https://cdn.bokeh.org/bokeh/release/bokeh-3.8.0.min.js\", \"https://cdn.bokeh.org/bokeh/release/bokeh-gl-3.8.0.min.js\", \"https://cdn.bokeh.org/bokeh/release/bokeh-widgets-3.8.0.min.js\", \"https://cdn.bokeh.org/bokeh/release/bokeh-tables-3.8.0.min.js\", \"https://cdn.bokeh.org/bokeh/release/bokeh-mathjax-3.8.0.min.js\"];\n",
       "  const css_urls = [];\n",
       "\n",
       "  const inline_js = [    function(Bokeh) {\n",
       "      Bokeh.set_log_level(\"info\");\n",
       "    },\n",
       "function(Bokeh) {\n",
       "    }\n",
       "  ];\n",
       "\n",
       "  function run_inline_js() {\n",
       "    if (root.Bokeh !== undefined || force === true) {\n",
       "      try {\n",
       "            for (let i = 0; i < inline_js.length; i++) {\n",
       "      inline_js[i].call(root, root.Bokeh);\n",
       "    }\n",
       "\n",
       "      } catch (error) {display_loaded(error);throw error;\n",
       "      }if (force === true) {\n",
       "        display_loaded();\n",
       "      }} else if (Date.now() < root._bokeh_timeout) {\n",
       "      setTimeout(run_inline_js, 100);\n",
       "    } else if (!root._bokeh_failed_load) {\n",
       "      console.log(\"Bokeh: BokehJS failed to load within specified timeout.\");\n",
       "      root._bokeh_failed_load = true;\n",
       "    } else if (force !== true) {\n",
       "      const cell = $(document.getElementById(\"f9465ffc-d740-4503-b3c2-2077f3a04726\")).parents('.cell').data().cell;\n",
       "      cell.output_area.append_execute_result(NB_LOAD_WARNING)\n",
       "    }\n",
       "  }\n",
       "\n",
       "  if (root._bokeh_is_loading === 0) {\n",
       "    console.debug(\"Bokeh: BokehJS loaded, going straight to plotting\");\n",
       "    run_inline_js();\n",
       "  } else {\n",
       "    load_libs(css_urls, js_urls, function() {\n",
       "      console.debug(\"Bokeh: BokehJS plotting callback run at\", now());\n",
       "      run_inline_js();\n",
       "    });\n",
       "  }\n",
       "}(window));"
      ],
      "application/vnd.bokehjs_load.v0+json": "'use strict';\n(function(root) {\n  function now() {\n    return new Date();\n  }\n\n  const force = true;\n\n  if (typeof root._bokeh_onload_callbacks === \"undefined\" || force === true) {\n    root._bokeh_onload_callbacks = [];\n    root._bokeh_is_loading = undefined;\n  }\n\n\n  if (typeof (root._bokeh_timeout) === \"undefined\" || force === true) {\n    root._bokeh_timeout = Date.now() + 5000;\n    root._bokeh_failed_load = false;\n  }\n\n  const NB_LOAD_WARNING = {'data': {'text/html':\n     \"<div style='background-color: #fdd'>\\n\"+\n     \"<p>\\n\"+\n     \"BokehJS does not appear to have successfully loaded. If loading BokehJS from CDN, this \\n\"+\n     \"may be due to a slow or bad network connection. Possible fixes:\\n\"+\n     \"</p>\\n\"+\n     \"<ul>\\n\"+\n     \"<li>re-rerun `output_notebook()` to attempt to load from CDN again, or</li>\\n\"+\n     \"<li>use INLINE resources instead, as so:</li>\\n\"+\n     \"</ul>\\n\"+\n     \"<code>\\n\"+\n     \"from bokeh.resources import INLINE\\n\"+\n     \"output_notebook(resources=INLINE)\\n\"+\n     \"</code>\\n\"+\n     \"</div>\"}};\n\n  function display_loaded(error = null) {\n    const el = document.getElementById(\"f9465ffc-d740-4503-b3c2-2077f3a04726\");\n    if (el != null) {\n      const html = (() => {\n        if (typeof root.Bokeh === \"undefined\") {\n          if (error == null) {\n            return \"BokehJS is loading ...\";\n          } else {\n            return \"BokehJS failed to load.\";\n          }\n        } else {\n          const prefix = `BokehJS ${root.Bokeh.version}`;\n          if (error == null) {\n            return `${prefix} successfully loaded.`;\n          } else {\n            return `${prefix} <b>encountered errors</b> while loading and may not function as expected.`;\n          }\n        }\n      })();\n      el.innerHTML = html;\n\n      if (error != null) {\n        const wrapper = document.createElement(\"div\");\n        wrapper.style.overflow = \"auto\";\n        wrapper.style.height = \"5em\";\n        wrapper.style.resize = \"vertical\";\n        const content = document.createElement(\"div\");\n        content.style.fontFamily = \"monospace\";\n        content.style.whiteSpace = \"pre-wrap\";\n        content.style.backgroundColor = \"rgb(255, 221, 221)\";\n        content.textContent = error.stack ?? error.toString();\n        wrapper.append(content);\n        el.append(wrapper);\n      }\n    } else if (Date.now() < root._bokeh_timeout) {\n      setTimeout(() => display_loaded(error), 100);\n    }\n  }\n\n  function run_callbacks() {\n    try {\n      root._bokeh_onload_callbacks.forEach(function(callback) {\n        if (callback != null)\n          callback();\n      });\n    } finally {\n      delete root._bokeh_onload_callbacks\n    }\n    console.debug(\"Bokeh: all callbacks have finished\");\n  }\n\n  function load_libs(css_urls, js_urls, callback) {\n    if (css_urls == null) css_urls = [];\n    if (js_urls == null) js_urls = [];\n\n    root._bokeh_onload_callbacks.push(callback);\n    if (root._bokeh_is_loading > 0) {\n      console.debug(\"Bokeh: BokehJS is being loaded, scheduling callback at\", now());\n      return null;\n    }\n    if (js_urls == null || js_urls.length === 0) {\n      run_callbacks();\n      return null;\n    }\n    console.debug(\"Bokeh: BokehJS not loaded, scheduling load and callback at\", now());\n    root._bokeh_is_loading = css_urls.length + js_urls.length;\n\n    function on_load() {\n      root._bokeh_is_loading--;\n      if (root._bokeh_is_loading === 0) {\n        console.debug(\"Bokeh: all BokehJS libraries/stylesheets loaded\");\n        run_callbacks()\n      }\n    }\n\n    function on_error(url) {\n      console.error(\"failed to load \" + url);\n    }\n\n    for (let i = 0; i < css_urls.length; i++) {\n      const url = css_urls[i];\n      const element = document.createElement(\"link\");\n      element.onload = on_load;\n      element.onerror = on_error.bind(null, url);\n      element.rel = \"stylesheet\";\n      element.type = \"text/css\";\n      element.href = url;\n      console.debug(\"Bokeh: injecting link tag for BokehJS stylesheet: \", url);\n      document.body.appendChild(element);\n    }\n\n    for (let i = 0; i < js_urls.length; i++) {\n      const url = js_urls[i];\n      const element = document.createElement('script');\n      element.onload = on_load;\n      element.onerror = on_error.bind(null, url);\n      element.async = false;\n      element.src = url;\n      console.debug(\"Bokeh: injecting script tag for BokehJS library: \", url);\n      document.head.appendChild(element);\n    }\n  };\n\n  function inject_raw_css(css) {\n    const element = document.createElement(\"style\");\n    element.appendChild(document.createTextNode(css));\n    document.body.appendChild(element);\n  }\n\n  const js_urls = [\"https://cdn.bokeh.org/bokeh/release/bokeh-3.8.0.min.js\", \"https://cdn.bokeh.org/bokeh/release/bokeh-gl-3.8.0.min.js\", \"https://cdn.bokeh.org/bokeh/release/bokeh-widgets-3.8.0.min.js\", \"https://cdn.bokeh.org/bokeh/release/bokeh-tables-3.8.0.min.js\", \"https://cdn.bokeh.org/bokeh/release/bokeh-mathjax-3.8.0.min.js\"];\n  const css_urls = [];\n\n  const inline_js = [    function(Bokeh) {\n      Bokeh.set_log_level(\"info\");\n    },\nfunction(Bokeh) {\n    }\n  ];\n\n  function run_inline_js() {\n    if (root.Bokeh !== undefined || force === true) {\n      try {\n            for (let i = 0; i < inline_js.length; i++) {\n      inline_js[i].call(root, root.Bokeh);\n    }\n\n      } catch (error) {display_loaded(error);throw error;\n      }if (force === true) {\n        display_loaded();\n      }} else if (Date.now() < root._bokeh_timeout) {\n      setTimeout(run_inline_js, 100);\n    } else if (!root._bokeh_failed_load) {\n      console.log(\"Bokeh: BokehJS failed to load within specified timeout.\");\n      root._bokeh_failed_load = true;\n    } else if (force !== true) {\n      const cell = $(document.getElementById(\"f9465ffc-d740-4503-b3c2-2077f3a04726\")).parents('.cell').data().cell;\n      cell.output_area.append_execute_result(NB_LOAD_WARNING)\n    }\n  }\n\n  if (root._bokeh_is_loading === 0) {\n    console.debug(\"Bokeh: BokehJS loaded, going straight to plotting\");\n    run_inline_js();\n  } else {\n    load_libs(css_urls, js_urls, function() {\n      console.debug(\"Bokeh: BokehJS plotting callback run at\", now());\n      run_inline_js();\n    });\n  }\n}(window));"
     },
     "metadata": {},
     "output_type": "display_data"
    }
   ],
   "source": [
    "output_notebook()"
   ]
  },
  {
   "cell_type": "code",
   "execution_count": 6,
   "metadata": {
    "id": "aFlJIs7vdRQz"
   },
   "outputs": [],
   "source": [
    "x = np.random.normal(loc = 3, scale = 2, size = 100)\n",
    "epsilon = np.random.normal(loc = 4, scale = 3, size = 100)"
   ]
  },
  {
   "cell_type": "code",
   "execution_count": null,
   "metadata": {},
   "outputs": [],
   "source": []
  },
  {
   "cell_type": "code",
   "execution_count": 8,
   "metadata": {
    "colab": {
     "base_uri": "https://localhost:8080/",
     "height": 317
    },
    "id": "SWDIa4XqdRQz",
    "outputId": "34a0d66c-774a-4b0c-e28c-56b6cfb36be1"
   },
   "outputs": [
    {
     "data": {
      "text/html": [
       "\n",
       "  <div id=\"aa61d5dd-f79b-4a27-9792-e35e349832ac\" data-root-id=\"p1055\" style=\"display: contents;\"></div>\n"
      ]
     },
     "metadata": {},
     "output_type": "display_data"
    },
    {
     "data": {
      "application/javascript": [
       "(function(root) {\n",
       "  function embed_document(root) {\n",
       "  const docs_json = {\"629462b8-17c7-4f05-b09d-da894f07c6a9\":{\"version\":\"3.8.0\",\"title\":\"Bokeh Application\",\"config\":{\"type\":\"object\",\"name\":\"DocumentConfig\",\"id\":\"p1098\",\"attributes\":{\"notifications\":{\"type\":\"object\",\"name\":\"Notifications\",\"id\":\"p1099\"}}},\"roots\":[{\"type\":\"object\",\"name\":\"Figure\",\"id\":\"p1055\",\"attributes\":{\"height\":300,\"x_range\":{\"type\":\"object\",\"name\":\"DataRange1d\",\"id\":\"p1056\"},\"y_range\":{\"type\":\"object\",\"name\":\"DataRange1d\",\"id\":\"p1057\"},\"x_scale\":{\"type\":\"object\",\"name\":\"LinearScale\",\"id\":\"p1064\"},\"y_scale\":{\"type\":\"object\",\"name\":\"LinearScale\",\"id\":\"p1065\"},\"title\":{\"type\":\"object\",\"name\":\"Title\",\"id\":\"p1062\"},\"renderers\":[{\"type\":\"object\",\"name\":\"GlyphRenderer\",\"id\":\"p1095\",\"attributes\":{\"data_source\":{\"type\":\"object\",\"name\":\"ColumnDataSource\",\"id\":\"p1089\",\"attributes\":{\"selected\":{\"type\":\"object\",\"name\":\"Selection\",\"id\":\"p1090\",\"attributes\":{\"indices\":[],\"line_indices\":[]}},\"selection_policy\":{\"type\":\"object\",\"name\":\"UnionRenderers\",\"id\":\"p1091\"},\"data\":{\"type\":\"map\",\"entries\":[[\"x\",{\"type\":\"ndarray\",\"array\":{\"type\":\"bytes\",\"data\":\"H4sIAAEAAAAC/wEgA9/8wVyO5aWwBkDk14Osvt8CQF8pe2wX+wBAnXwsJRJ/E0AUipV2U+fjP43oga7bhwdAGoEMkNZc9D/b0npmOUoAQNioOh6jruC/8i/KHUpSGEABJLxDcTQIQJdG0LC1EQZAyj/3ZhhJEkBfUJI0hAHzPw4/1GNUFQ9ADN4mish06r8buCGLrWf+P33XpwFm+RFAoh0DPPYWB0D5AHwfGjEHQHVuQg+HLw1AYBOkqZEu6T+vOd7idooBQHekBVeqsP8/UH3qKcZB8T+RDq1JpxwPQDAdLwl31BJAV/u7feB8CkDmjFcrWKoGQK4s0V+mKxFA7kikkOgg/D+W9lOb2p0SQB4rj20ZlRJAdKkLvLCrAkBmdy+IB38GQOzOGwW9JAtACOjW8Oa55T/oLj2c0YsPQMmZdya0HQFAnO1h/K6LAEBFgYKE5jjyP+GG3P82tRFAxI1mZyVv+D/SBMNyV8ryP2LXSc0um/8/uQYxc/ycEEAoZtQwJ5L1vwhCeIITuhBAxnOp0Lw88j9aZzpC1poSQDjQd9AwNA9AiiDWMCqYCUAivNgtUHcTQKGJMhwrGQ1AXCa+vAtdDkAmqwN20aEgQFrIVRgxSRNAOP8SWqTN6D+J0n/yC04TQIT7KW7WXRBAjaOpVpR7GkBxPqwLp1wUQJpFWuFOKhlAVA9GHV2E5b/gPkEifUsRQBUA+rsu5BVAvxiUPgbuC0Cxt9X/3EYPQBD1i/4aDOM/5keHayWlBUC2OeyJdewYQCfk7P7Su/A/DMlgygd5BUCnZzMiD9UVQCSCOvWFMwlAIxbI2nlgBEC38ct07TQPQPBP/7Yght8/1/DVCQg0B0Ckt4e3RwUEQMA9Kpn3eek/nJwd4VY1DkA+xhRaJ74NQDzjphzXROg/LQigGri9CEABIJOr630HQDLc+J6QHCFAG76knzJ6CUAMi3x/tUTsP3Qai0OJbQdA23KPm/i6D0A1rxJvnOwUQIRE7steMwlAYgV6OM87E0AKRfB74jEVQO/aPRm0NRFA4mSlTV0HF0AGM2+PTyESQCV+4M8lhRhA1q5qDtt+9D9JGNhbIAMAAA==\"},\"shape\":[100],\"dtype\":\"float64\",\"order\":\"little\"}],[\"y\",{\"type\":\"ndarray\",\"array\":{\"type\":\"bytes\",\"data\":\"H4sIAAEAAAAC/wEgA9/8f2k0A4LwLEDSajl8fwwnQLAYvOLFgDBADmaPuAwGQEA/6jf+yjYkQG0hf88tlDNAeo4UrISLHkApARc3pxghQFgVxDaL9ghAOrENeWIkPUDQY/WVuSk1QDjtF5042ShAlUw78+luM0AzmuUe3N8fQKrQk63zYjJAUYFS/mT0I0CSGGP8t9AuQAe7lxPeWTZAndykDgPBMEASgUJJ5ZwuQDRELeHociVAyOoKuE8bIkBnjkY6eFklQAxfY9mK7TJAYrhju9BFLkD3/GJ8jIYtQLGhauru6jVAcCNvHkM5NkByPR9lcSEyQBxy1tZhRDNAKYHYE12QK0CRDt8NW8Y4QFwgbu9U5TZA70B1IUZbMEC0QDg2rn8xQLrIPC+UXTFAwA4U/UU7KkARXf6zFwE1QEvR/Ddn1yhAmLVHHnXqMEBWkbFQK/8uQPpQC3pLZjdAXaYdCN0WMUC/Sd+giVMkQEhmvK674SpAAHuI9nM8NkBIpDqqcb8KQHSeaZ3mrDFAta1UdaTsLkA2H+G7UFoxQFkcrusUCjNAwryKvNwgOED0BscVuE06QF2wdLSoPzJAuuVuoku+MUCCi5+mFFdEQGs7hzT5tTFAcGenqQaAIkASYTbEwi41QM/3Pa9a6TVAyOQkRteIO0CAi2xNpU43QGou1uTKZDpAjxxGOBwiIUBgpbFnti42QIw+XATVGDVASn7P1qnzK0BOUkacb+0wQMPl2fMs4SJAHBSqYF4oKkAUmY9GlXs8QPl5hluLSSVArkJfI6mHMkBGQQGSu94sQLTEq7CfwTNAJOzumvLoMEA6q/6U7Nc3QG7HKrc+0gJAUZVKqfOnLEDm8J/G87QyQEhjV4KLFSVA4qYaw0HrMEAXnS0XCekyQLZAnBiRjjBAXTEc5m/GMEDxOO+Y9+MyQL5OdyPCgkFAmLgj/UocM0Brj7wUKvkqQKDl8eVAUSVATotxqR47M0DIbkJFYyM7QBLXH1XFhTVAfzNUXO3FNUBYQpRwHn05QLoU8hJiqDNAggkO0C7AO0AKw+F4LTozQJlxxBZdOTdAyB+Hs0wYIECi1p+wIAMAAA==\"},\"shape\":[100],\"dtype\":\"float64\",\"order\":\"little\"}]]}}},\"view\":{\"type\":\"object\",\"name\":\"CDSView\",\"id\":\"p1096\",\"attributes\":{\"filter\":{\"type\":\"object\",\"name\":\"AllIndices\",\"id\":\"p1097\"}}},\"glyph\":{\"type\":\"object\",\"name\":\"Scatter\",\"id\":\"p1092\",\"attributes\":{\"x\":{\"type\":\"field\",\"field\":\"x\"},\"y\":{\"type\":\"field\",\"field\":\"y\"},\"line_color\":{\"type\":\"value\",\"value\":\"#1f77b4\"},\"fill_color\":{\"type\":\"value\",\"value\":\"#1f77b4\"}}},\"nonselection_glyph\":{\"type\":\"object\",\"name\":\"Scatter\",\"id\":\"p1093\",\"attributes\":{\"x\":{\"type\":\"field\",\"field\":\"x\"},\"y\":{\"type\":\"field\",\"field\":\"y\"},\"line_color\":{\"type\":\"value\",\"value\":\"#1f77b4\"},\"line_alpha\":{\"type\":\"value\",\"value\":0.1},\"fill_color\":{\"type\":\"value\",\"value\":\"#1f77b4\"},\"fill_alpha\":{\"type\":\"value\",\"value\":0.1},\"hatch_alpha\":{\"type\":\"value\",\"value\":0.1}}},\"muted_glyph\":{\"type\":\"object\",\"name\":\"Scatter\",\"id\":\"p1094\",\"attributes\":{\"x\":{\"type\":\"field\",\"field\":\"x\"},\"y\":{\"type\":\"field\",\"field\":\"y\"},\"line_color\":{\"type\":\"value\",\"value\":\"#1f77b4\"},\"line_alpha\":{\"type\":\"value\",\"value\":0.2},\"fill_color\":{\"type\":\"value\",\"value\":\"#1f77b4\"},\"fill_alpha\":{\"type\":\"value\",\"value\":0.2},\"hatch_alpha\":{\"type\":\"value\",\"value\":0.2}}}}}],\"toolbar\":{\"type\":\"object\",\"name\":\"Toolbar\",\"id\":\"p1063\",\"attributes\":{\"tools\":[{\"type\":\"object\",\"name\":\"PanTool\",\"id\":\"p1076\"},{\"type\":\"object\",\"name\":\"WheelZoomTool\",\"id\":\"p1077\",\"attributes\":{\"renderers\":\"auto\"}},{\"type\":\"object\",\"name\":\"BoxZoomTool\",\"id\":\"p1078\",\"attributes\":{\"dimensions\":\"both\",\"overlay\":{\"type\":\"object\",\"name\":\"BoxAnnotation\",\"id\":\"p1079\",\"attributes\":{\"syncable\":false,\"line_color\":\"black\",\"line_alpha\":1.0,\"line_width\":2,\"line_dash\":[4,4],\"fill_color\":\"lightgrey\",\"fill_alpha\":0.5,\"level\":\"overlay\",\"visible\":false,\"left\":{\"type\":\"number\",\"value\":\"nan\"},\"right\":{\"type\":\"number\",\"value\":\"nan\"},\"top\":{\"type\":\"number\",\"value\":\"nan\"},\"bottom\":{\"type\":\"number\",\"value\":\"nan\"},\"left_units\":\"canvas\",\"right_units\":\"canvas\",\"top_units\":\"canvas\",\"bottom_units\":\"canvas\",\"handles\":{\"type\":\"object\",\"name\":\"BoxInteractionHandles\",\"id\":\"p1085\",\"attributes\":{\"all\":{\"type\":\"object\",\"name\":\"AreaVisuals\",\"id\":\"p1084\",\"attributes\":{\"fill_color\":\"white\",\"hover_fill_color\":\"lightgray\"}}}}}}}},{\"type\":\"object\",\"name\":\"SaveTool\",\"id\":\"p1086\"},{\"type\":\"object\",\"name\":\"ResetTool\",\"id\":\"p1087\"},{\"type\":\"object\",\"name\":\"HelpTool\",\"id\":\"p1088\"}]}},\"left\":[{\"type\":\"object\",\"name\":\"LinearAxis\",\"id\":\"p1071\",\"attributes\":{\"ticker\":{\"type\":\"object\",\"name\":\"BasicTicker\",\"id\":\"p1072\",\"attributes\":{\"mantissas\":[1,2,5]}},\"formatter\":{\"type\":\"object\",\"name\":\"BasicTickFormatter\",\"id\":\"p1073\"},\"major_label_policy\":{\"type\":\"object\",\"name\":\"AllLabels\",\"id\":\"p1074\"}}}],\"below\":[{\"type\":\"object\",\"name\":\"LinearAxis\",\"id\":\"p1066\",\"attributes\":{\"ticker\":{\"type\":\"object\",\"name\":\"BasicTicker\",\"id\":\"p1067\",\"attributes\":{\"mantissas\":[1,2,5]}},\"formatter\":{\"type\":\"object\",\"name\":\"BasicTickFormatter\",\"id\":\"p1068\"},\"major_label_policy\":{\"type\":\"object\",\"name\":\"AllLabels\",\"id\":\"p1069\"}}}],\"center\":[{\"type\":\"object\",\"name\":\"Grid\",\"id\":\"p1070\",\"attributes\":{\"axis\":{\"id\":\"p1066\"}}},{\"type\":\"object\",\"name\":\"Grid\",\"id\":\"p1075\",\"attributes\":{\"dimension\":1,\"axis\":{\"id\":\"p1071\"}}}]}}]}};\n",
       "  const render_items = [{\"docid\":\"629462b8-17c7-4f05-b09d-da894f07c6a9\",\"roots\":{\"p1055\":\"aa61d5dd-f79b-4a27-9792-e35e349832ac\"},\"root_ids\":[\"p1055\"]}];\n",
       "  void root.Bokeh.embed.embed_items_notebook(docs_json, render_items);\n",
       "  }\n",
       "  if (root.Bokeh !== undefined) {\n",
       "    embed_document(root);\n",
       "  } else {\n",
       "    let attempts = 0;\n",
       "    const timer = setInterval(function(root) {\n",
       "      if (root.Bokeh !== undefined) {\n",
       "        clearInterval(timer);\n",
       "        embed_document(root);\n",
       "      } else {\n",
       "        attempts++;\n",
       "        if (attempts > 100) {\n",
       "          clearInterval(timer);\n",
       "          console.log(\"Bokeh: ERROR: Unable to run BokehJS code because BokehJS library is missing\");\n",
       "        }\n",
       "      }\n",
       "    }, 10, root)\n",
       "  }\n",
       "})(window);"
      ],
      "application/vnd.bokehjs_exec.v0+json": ""
     },
     "metadata": {
      "application/vnd.bokehjs_exec.v0+json": {
       "id": "p1055"
      }
     },
     "output_type": "display_data"
    }
   ],
   "source": [
    "p = figure(width = 600, height = 300)\n",
    "p.scatter(x, 3*x + 4 + epsilon)\n",
    "show(p)"
   ]
  },
  {
   "cell_type": "code",
   "execution_count": 9,
   "metadata": {
    "colab": {
     "base_uri": "https://localhost:8080/",
     "height": 317
    },
    "id": "vsg9IVy3dRQz",
    "outputId": "e4ab4b75-e3e3-4362-b0d4-a596d34ac30a"
   },
   "outputs": [
    {
     "data": {
      "text/html": [
       "\n",
       "  <div id=\"b0e018d3-12a7-480f-b0e1-15d0022d709d\" data-root-id=\"p1102\" style=\"display: contents;\"></div>\n"
      ]
     },
     "metadata": {},
     "output_type": "display_data"
    },
    {
     "data": {
      "application/javascript": [
       "(function(root) {\n",
       "  function embed_document(root) {\n",
       "  const docs_json = {\"1e810f32-5282-4ebf-ba75-d6ddd0d1d48f\":{\"version\":\"3.8.0\",\"title\":\"Bokeh Application\",\"config\":{\"type\":\"object\",\"name\":\"DocumentConfig\",\"id\":\"p1146\",\"attributes\":{\"notifications\":{\"type\":\"object\",\"name\":\"Notifications\",\"id\":\"p1147\"}}},\"roots\":[{\"type\":\"object\",\"name\":\"Figure\",\"id\":\"p1102\",\"attributes\":{\"height\":300,\"x_range\":{\"type\":\"object\",\"name\":\"DataRange1d\",\"id\":\"p1103\"},\"y_range\":{\"type\":\"object\",\"name\":\"DataRange1d\",\"id\":\"p1104\"},\"x_scale\":{\"type\":\"object\",\"name\":\"LinearScale\",\"id\":\"p1112\"},\"y_scale\":{\"type\":\"object\",\"name\":\"LinearScale\",\"id\":\"p1113\"},\"title\":{\"type\":\"object\",\"name\":\"Title\",\"id\":\"p1105\",\"attributes\":{\"text\":\"Linear function with gaussian noise\"}},\"renderers\":[{\"type\":\"object\",\"name\":\"GlyphRenderer\",\"id\":\"p1143\",\"attributes\":{\"data_source\":{\"type\":\"object\",\"name\":\"ColumnDataSource\",\"id\":\"p1137\",\"attributes\":{\"selected\":{\"type\":\"object\",\"name\":\"Selection\",\"id\":\"p1138\",\"attributes\":{\"indices\":[],\"line_indices\":[]}},\"selection_policy\":{\"type\":\"object\",\"name\":\"UnionRenderers\",\"id\":\"p1139\"},\"data\":{\"type\":\"map\",\"entries\":[[\"x\",{\"type\":\"ndarray\",\"array\":{\"type\":\"bytes\",\"data\":\"H4sIAAEAAAAC/wEgA9/8wVyO5aWwBkDk14Osvt8CQF8pe2wX+wBAnXwsJRJ/E0AUipV2U+fjP43oga7bhwdAGoEMkNZc9D/b0npmOUoAQNioOh6jruC/8i/KHUpSGEABJLxDcTQIQJdG0LC1EQZAyj/3ZhhJEkBfUJI0hAHzPw4/1GNUFQ9ADN4mish06r8buCGLrWf+P33XpwFm+RFAoh0DPPYWB0D5AHwfGjEHQHVuQg+HLw1AYBOkqZEu6T+vOd7idooBQHekBVeqsP8/UH3qKcZB8T+RDq1JpxwPQDAdLwl31BJAV/u7feB8CkDmjFcrWKoGQK4s0V+mKxFA7kikkOgg/D+W9lOb2p0SQB4rj20ZlRJAdKkLvLCrAkBmdy+IB38GQOzOGwW9JAtACOjW8Oa55T/oLj2c0YsPQMmZdya0HQFAnO1h/K6LAEBFgYKE5jjyP+GG3P82tRFAxI1mZyVv+D/SBMNyV8ryP2LXSc0um/8/uQYxc/ycEEAoZtQwJ5L1vwhCeIITuhBAxnOp0Lw88j9aZzpC1poSQDjQd9AwNA9AiiDWMCqYCUAivNgtUHcTQKGJMhwrGQ1AXCa+vAtdDkAmqwN20aEgQFrIVRgxSRNAOP8SWqTN6D+J0n/yC04TQIT7KW7WXRBAjaOpVpR7GkBxPqwLp1wUQJpFWuFOKhlAVA9GHV2E5b/gPkEifUsRQBUA+rsu5BVAvxiUPgbuC0Cxt9X/3EYPQBD1i/4aDOM/5keHayWlBUC2OeyJdewYQCfk7P7Su/A/DMlgygd5BUCnZzMiD9UVQCSCOvWFMwlAIxbI2nlgBEC38ct07TQPQPBP/7Yght8/1/DVCQg0B0Ckt4e3RwUEQMA9Kpn3eek/nJwd4VY1DkA+xhRaJ74NQDzjphzXROg/LQigGri9CEABIJOr630HQDLc+J6QHCFAG76knzJ6CUAMi3x/tUTsP3Qai0OJbQdA23KPm/i6D0A1rxJvnOwUQIRE7steMwlAYgV6OM87E0AKRfB74jEVQO/aPRm0NRFA4mSlTV0HF0AGM2+PTyESQCV+4M8lhRhA1q5qDtt+9D9JGNhbIAMAAA==\"},\"shape\":[100],\"dtype\":\"float64\",\"order\":\"little\"}],[\"y\",{\"type\":\"ndarray\",\"array\":{\"type\":\"bytes\",\"data\":\"H4sIAAEAAAAC/wEgA9/8f2k0A4LwLEDSajl8fwwnQLAYvOLFgDBADmaPuAwGQEA/6jf+yjYkQG0hf88tlDNAeo4UrISLHkApARc3pxghQFgVxDaL9ghAOrENeWIkPUDQY/WVuSk1QDjtF5042ShAlUw78+luM0AzmuUe3N8fQKrQk63zYjJAUYFS/mT0I0CSGGP8t9AuQAe7lxPeWTZAndykDgPBMEASgUJJ5ZwuQDRELeHociVAyOoKuE8bIkBnjkY6eFklQAxfY9mK7TJAYrhju9BFLkD3/GJ8jIYtQLGhauru6jVAcCNvHkM5NkByPR9lcSEyQBxy1tZhRDNAKYHYE12QK0CRDt8NW8Y4QFwgbu9U5TZA70B1IUZbMEC0QDg2rn8xQLrIPC+UXTFAwA4U/UU7KkARXf6zFwE1QEvR/Ddn1yhAmLVHHnXqMEBWkbFQK/8uQPpQC3pLZjdAXaYdCN0WMUC/Sd+giVMkQEhmvK674SpAAHuI9nM8NkBIpDqqcb8KQHSeaZ3mrDFAta1UdaTsLkA2H+G7UFoxQFkcrusUCjNAwryKvNwgOED0BscVuE06QF2wdLSoPzJAuuVuoku+MUCCi5+mFFdEQGs7hzT5tTFAcGenqQaAIkASYTbEwi41QM/3Pa9a6TVAyOQkRteIO0CAi2xNpU43QGou1uTKZDpAjxxGOBwiIUBgpbFnti42QIw+XATVGDVASn7P1qnzK0BOUkacb+0wQMPl2fMs4SJAHBSqYF4oKkAUmY9GlXs8QPl5hluLSSVArkJfI6mHMkBGQQGSu94sQLTEq7CfwTNAJOzumvLoMEA6q/6U7Nc3QG7HKrc+0gJAUZVKqfOnLEDm8J/G87QyQEhjV4KLFSVA4qYaw0HrMEAXnS0XCekyQLZAnBiRjjBAXTEc5m/GMEDxOO+Y9+MyQL5OdyPCgkFAmLgj/UocM0Brj7wUKvkqQKDl8eVAUSVATotxqR47M0DIbkJFYyM7QBLXH1XFhTVAfzNUXO3FNUBYQpRwHn05QLoU8hJiqDNAggkO0C7AO0AKw+F4LTozQJlxxBZdOTdAyB+Hs0wYIECi1p+wIAMAAA==\"},\"shape\":[100],\"dtype\":\"float64\",\"order\":\"little\"}]]}}},\"view\":{\"type\":\"object\",\"name\":\"CDSView\",\"id\":\"p1144\",\"attributes\":{\"filter\":{\"type\":\"object\",\"name\":\"AllIndices\",\"id\":\"p1145\"}}},\"glyph\":{\"type\":\"object\",\"name\":\"Scatter\",\"id\":\"p1140\",\"attributes\":{\"x\":{\"type\":\"field\",\"field\":\"x\"},\"y\":{\"type\":\"field\",\"field\":\"y\"},\"size\":{\"type\":\"value\",\"value\":10},\"line_color\":{\"type\":\"value\",\"value\":\"red\"},\"line_alpha\":{\"type\":\"value\",\"value\":0.5},\"fill_color\":{\"type\":\"value\",\"value\":\"red\"},\"fill_alpha\":{\"type\":\"value\",\"value\":0.5},\"hatch_color\":{\"type\":\"value\",\"value\":\"red\"},\"hatch_alpha\":{\"type\":\"value\",\"value\":0.5}}},\"nonselection_glyph\":{\"type\":\"object\",\"name\":\"Scatter\",\"id\":\"p1141\",\"attributes\":{\"x\":{\"type\":\"field\",\"field\":\"x\"},\"y\":{\"type\":\"field\",\"field\":\"y\"},\"size\":{\"type\":\"value\",\"value\":10},\"line_color\":{\"type\":\"value\",\"value\":\"red\"},\"line_alpha\":{\"type\":\"value\",\"value\":0.1},\"fill_color\":{\"type\":\"value\",\"value\":\"red\"},\"fill_alpha\":{\"type\":\"value\",\"value\":0.1},\"hatch_color\":{\"type\":\"value\",\"value\":\"red\"},\"hatch_alpha\":{\"type\":\"value\",\"value\":0.1}}},\"muted_glyph\":{\"type\":\"object\",\"name\":\"Scatter\",\"id\":\"p1142\",\"attributes\":{\"x\":{\"type\":\"field\",\"field\":\"x\"},\"y\":{\"type\":\"field\",\"field\":\"y\"},\"size\":{\"type\":\"value\",\"value\":10},\"line_color\":{\"type\":\"value\",\"value\":\"red\"},\"line_alpha\":{\"type\":\"value\",\"value\":0.2},\"fill_color\":{\"type\":\"value\",\"value\":\"red\"},\"fill_alpha\":{\"type\":\"value\",\"value\":0.2},\"hatch_color\":{\"type\":\"value\",\"value\":\"red\"},\"hatch_alpha\":{\"type\":\"value\",\"value\":0.2}}}}}],\"toolbar\":{\"type\":\"object\",\"name\":\"Toolbar\",\"id\":\"p1111\",\"attributes\":{\"tools\":[{\"type\":\"object\",\"name\":\"PanTool\",\"id\":\"p1124\"},{\"type\":\"object\",\"name\":\"WheelZoomTool\",\"id\":\"p1125\",\"attributes\":{\"renderers\":\"auto\"}},{\"type\":\"object\",\"name\":\"BoxZoomTool\",\"id\":\"p1126\",\"attributes\":{\"dimensions\":\"both\",\"overlay\":{\"type\":\"object\",\"name\":\"BoxAnnotation\",\"id\":\"p1127\",\"attributes\":{\"syncable\":false,\"line_color\":\"black\",\"line_alpha\":1.0,\"line_width\":2,\"line_dash\":[4,4],\"fill_color\":\"lightgrey\",\"fill_alpha\":0.5,\"level\":\"overlay\",\"visible\":false,\"left\":{\"type\":\"number\",\"value\":\"nan\"},\"right\":{\"type\":\"number\",\"value\":\"nan\"},\"top\":{\"type\":\"number\",\"value\":\"nan\"},\"bottom\":{\"type\":\"number\",\"value\":\"nan\"},\"left_units\":\"canvas\",\"right_units\":\"canvas\",\"top_units\":\"canvas\",\"bottom_units\":\"canvas\",\"handles\":{\"type\":\"object\",\"name\":\"BoxInteractionHandles\",\"id\":\"p1133\",\"attributes\":{\"all\":{\"type\":\"object\",\"name\":\"AreaVisuals\",\"id\":\"p1132\",\"attributes\":{\"fill_color\":\"white\",\"hover_fill_color\":\"lightgray\"}}}}}}}},{\"type\":\"object\",\"name\":\"SaveTool\",\"id\":\"p1134\"},{\"type\":\"object\",\"name\":\"ResetTool\",\"id\":\"p1135\"},{\"type\":\"object\",\"name\":\"HelpTool\",\"id\":\"p1136\"}]}},\"left\":[{\"type\":\"object\",\"name\":\"LinearAxis\",\"id\":\"p1119\",\"attributes\":{\"ticker\":{\"type\":\"object\",\"name\":\"BasicTicker\",\"id\":\"p1120\",\"attributes\":{\"mantissas\":[1,2,5]}},\"formatter\":{\"type\":\"object\",\"name\":\"BasicTickFormatter\",\"id\":\"p1121\"},\"major_label_policy\":{\"type\":\"object\",\"name\":\"AllLabels\",\"id\":\"p1122\"}}}],\"below\":[{\"type\":\"object\",\"name\":\"LinearAxis\",\"id\":\"p1114\",\"attributes\":{\"ticker\":{\"type\":\"object\",\"name\":\"BasicTicker\",\"id\":\"p1115\",\"attributes\":{\"mantissas\":[1,2,5]}},\"formatter\":{\"type\":\"object\",\"name\":\"BasicTickFormatter\",\"id\":\"p1116\"},\"major_label_policy\":{\"type\":\"object\",\"name\":\"AllLabels\",\"id\":\"p1117\"}}}],\"center\":[{\"type\":\"object\",\"name\":\"Grid\",\"id\":\"p1118\",\"attributes\":{\"axis\":{\"id\":\"p1114\"}}},{\"type\":\"object\",\"name\":\"Grid\",\"id\":\"p1123\",\"attributes\":{\"dimension\":1,\"axis\":{\"id\":\"p1119\"}}}]}}]}};\n",
       "  const render_items = [{\"docid\":\"1e810f32-5282-4ebf-ba75-d6ddd0d1d48f\",\"roots\":{\"p1102\":\"b0e018d3-12a7-480f-b0e1-15d0022d709d\"},\"root_ids\":[\"p1102\"]}];\n",
       "  void root.Bokeh.embed.embed_items_notebook(docs_json, render_items);\n",
       "  }\n",
       "  if (root.Bokeh !== undefined) {\n",
       "    embed_document(root);\n",
       "  } else {\n",
       "    let attempts = 0;\n",
       "    const timer = setInterval(function(root) {\n",
       "      if (root.Bokeh !== undefined) {\n",
       "        clearInterval(timer);\n",
       "        embed_document(root);\n",
       "      } else {\n",
       "        attempts++;\n",
       "        if (attempts > 100) {\n",
       "          clearInterval(timer);\n",
       "          console.log(\"Bokeh: ERROR: Unable to run BokehJS code because BokehJS library is missing\");\n",
       "        }\n",
       "      }\n",
       "    }, 10, root)\n",
       "  }\n",
       "})(window);"
      ],
      "application/vnd.bokehjs_exec.v0+json": ""
     },
     "metadata": {
      "application/vnd.bokehjs_exec.v0+json": {
       "id": "p1102"
      }
     },
     "output_type": "display_data"
    }
   ],
   "source": [
    "p = figure(width = 600, height = 300, title = 'Linear function with gaussian noise')\n",
    "p.scatter(x, 3*x + 4 + epsilon,  color = 'red', size = 10, alpha = 0.5)\n",
    "\n",
    "show(p)"
   ]
  },
  {
   "cell_type": "markdown",
   "metadata": {
    "id": "mC0mhjwWo8h7"
   },
   "source": [
    "### Hovering\n",
    "\n",
    "Adding interactivity through hovering is accomplished using the `tooltips` argument and connecting this to a data source with `ColumnDataSource` -- the way to easily plot from `DataFrame`'s as well."
   ]
  },
  {
   "cell_type": "code",
   "execution_count": 10,
   "metadata": {
    "id": "po2YO28DlJYY"
   },
   "outputs": [],
   "source": [
    "from bokeh.models import ColumnDataSource\n",
    "from bokeh.layouts import gridplot"
   ]
  },
  {
   "cell_type": "code",
   "execution_count": 11,
   "metadata": {
    "colab": {
     "base_uri": "https://localhost:8080/",
     "height": 317
    },
    "id": "BGd83C-kkLQ-",
    "outputId": "544c261f-641c-4677-f2f6-95f7e99e7de3"
   },
   "outputs": [
    {
     "data": {
      "text/html": [
       "\n",
       "  <div id=\"b77d274b-7b2c-4d9e-99e2-528573b67d36\" data-root-id=\"p1153\" style=\"display: contents;\"></div>\n"
      ]
     },
     "metadata": {},
     "output_type": "display_data"
    },
    {
     "data": {
      "application/javascript": [
       "(function(root) {\n",
       "  function embed_document(root) {\n",
       "  const docs_json = {\"43fe7f66-8e84-4195-8c37-d68f976a5adf\":{\"version\":\"3.8.0\",\"title\":\"Bokeh Application\",\"config\":{\"type\":\"object\",\"name\":\"DocumentConfig\",\"id\":\"p1198\",\"attributes\":{\"notifications\":{\"type\":\"object\",\"name\":\"Notifications\",\"id\":\"p1199\"}}},\"roots\":[{\"type\":\"object\",\"name\":\"Figure\",\"id\":\"p1153\",\"attributes\":{\"height\":300,\"x_range\":{\"type\":\"object\",\"name\":\"DataRange1d\",\"id\":\"p1154\"},\"y_range\":{\"type\":\"object\",\"name\":\"DataRange1d\",\"id\":\"p1155\"},\"x_scale\":{\"type\":\"object\",\"name\":\"LinearScale\",\"id\":\"p1163\"},\"y_scale\":{\"type\":\"object\",\"name\":\"LinearScale\",\"id\":\"p1164\"},\"title\":{\"type\":\"object\",\"name\":\"Title\",\"id\":\"p1156\",\"attributes\":{\"text\":\"Linear function with gaussian noise\"}},\"renderers\":[{\"type\":\"object\",\"name\":\"GlyphRenderer\",\"id\":\"p1195\",\"attributes\":{\"data_source\":{\"type\":\"object\",\"name\":\"ColumnDataSource\",\"id\":\"p1150\",\"attributes\":{\"selected\":{\"type\":\"object\",\"name\":\"Selection\",\"id\":\"p1151\",\"attributes\":{\"indices\":[],\"line_indices\":[]}},\"selection_policy\":{\"type\":\"object\",\"name\":\"UnionRenderers\",\"id\":\"p1152\"},\"data\":{\"type\":\"map\",\"entries\":[[\"x\",{\"type\":\"ndarray\",\"array\":{\"type\":\"bytes\",\"data\":\"H4sIAAEAAAAC/wEgA9/8wVyO5aWwBkDk14Osvt8CQF8pe2wX+wBAnXwsJRJ/E0AUipV2U+fjP43oga7bhwdAGoEMkNZc9D/b0npmOUoAQNioOh6jruC/8i/KHUpSGEABJLxDcTQIQJdG0LC1EQZAyj/3ZhhJEkBfUJI0hAHzPw4/1GNUFQ9ADN4mish06r8buCGLrWf+P33XpwFm+RFAoh0DPPYWB0D5AHwfGjEHQHVuQg+HLw1AYBOkqZEu6T+vOd7idooBQHekBVeqsP8/UH3qKcZB8T+RDq1JpxwPQDAdLwl31BJAV/u7feB8CkDmjFcrWKoGQK4s0V+mKxFA7kikkOgg/D+W9lOb2p0SQB4rj20ZlRJAdKkLvLCrAkBmdy+IB38GQOzOGwW9JAtACOjW8Oa55T/oLj2c0YsPQMmZdya0HQFAnO1h/K6LAEBFgYKE5jjyP+GG3P82tRFAxI1mZyVv+D/SBMNyV8ryP2LXSc0um/8/uQYxc/ycEEAoZtQwJ5L1vwhCeIITuhBAxnOp0Lw88j9aZzpC1poSQDjQd9AwNA9AiiDWMCqYCUAivNgtUHcTQKGJMhwrGQ1AXCa+vAtdDkAmqwN20aEgQFrIVRgxSRNAOP8SWqTN6D+J0n/yC04TQIT7KW7WXRBAjaOpVpR7GkBxPqwLp1wUQJpFWuFOKhlAVA9GHV2E5b/gPkEifUsRQBUA+rsu5BVAvxiUPgbuC0Cxt9X/3EYPQBD1i/4aDOM/5keHayWlBUC2OeyJdewYQCfk7P7Su/A/DMlgygd5BUCnZzMiD9UVQCSCOvWFMwlAIxbI2nlgBEC38ct07TQPQPBP/7Yght8/1/DVCQg0B0Ckt4e3RwUEQMA9Kpn3eek/nJwd4VY1DkA+xhRaJ74NQDzjphzXROg/LQigGri9CEABIJOr630HQDLc+J6QHCFAG76knzJ6CUAMi3x/tUTsP3Qai0OJbQdA23KPm/i6D0A1rxJvnOwUQIRE7steMwlAYgV6OM87E0AKRfB74jEVQO/aPRm0NRFA4mSlTV0HF0AGM2+PTyESQCV+4M8lhRhA1q5qDtt+9D9JGNhbIAMAAA==\"},\"shape\":[100],\"dtype\":\"float64\",\"order\":\"little\"}],[\"y\",{\"type\":\"ndarray\",\"array\":{\"type\":\"bytes\",\"data\":\"H4sIAAEAAAAC/wEgA9/8f2k0A4LwLEDSajl8fwwnQLAYvOLFgDBADmaPuAwGQEA/6jf+yjYkQG0hf88tlDNAeo4UrISLHkApARc3pxghQFgVxDaL9ghAOrENeWIkPUDQY/WVuSk1QDjtF5042ShAlUw78+luM0AzmuUe3N8fQKrQk63zYjJAUYFS/mT0I0CSGGP8t9AuQAe7lxPeWTZAndykDgPBMEASgUJJ5ZwuQDRELeHociVAyOoKuE8bIkBnjkY6eFklQAxfY9mK7TJAYrhju9BFLkD3/GJ8jIYtQLGhauru6jVAcCNvHkM5NkByPR9lcSEyQBxy1tZhRDNAKYHYE12QK0CRDt8NW8Y4QFwgbu9U5TZA70B1IUZbMEC0QDg2rn8xQLrIPC+UXTFAwA4U/UU7KkARXf6zFwE1QEvR/Ddn1yhAmLVHHnXqMEBWkbFQK/8uQPpQC3pLZjdAXaYdCN0WMUC/Sd+giVMkQEhmvK674SpAAHuI9nM8NkBIpDqqcb8KQHSeaZ3mrDFAta1UdaTsLkA2H+G7UFoxQFkcrusUCjNAwryKvNwgOED0BscVuE06QF2wdLSoPzJAuuVuoku+MUCCi5+mFFdEQGs7hzT5tTFAcGenqQaAIkASYTbEwi41QM/3Pa9a6TVAyOQkRteIO0CAi2xNpU43QGou1uTKZDpAjxxGOBwiIUBgpbFnti42QIw+XATVGDVASn7P1qnzK0BOUkacb+0wQMPl2fMs4SJAHBSqYF4oKkAUmY9GlXs8QPl5hluLSSVArkJfI6mHMkBGQQGSu94sQLTEq7CfwTNAJOzumvLoMEA6q/6U7Nc3QG7HKrc+0gJAUZVKqfOnLEDm8J/G87QyQEhjV4KLFSVA4qYaw0HrMEAXnS0XCekyQLZAnBiRjjBAXTEc5m/GMEDxOO+Y9+MyQL5OdyPCgkFAmLgj/UocM0Brj7wUKvkqQKDl8eVAUSVATotxqR47M0DIbkJFYyM7QBLXH1XFhTVAfzNUXO3FNUBYQpRwHn05QLoU8hJiqDNAggkO0C7AO0AKw+F4LTozQJlxxBZdOTdAyB+Hs0wYIECi1p+wIAMAAA==\"},\"shape\":[100],\"dtype\":\"float64\",\"order\":\"little\"}]]}}},\"view\":{\"type\":\"object\",\"name\":\"CDSView\",\"id\":\"p1196\",\"attributes\":{\"filter\":{\"type\":\"object\",\"name\":\"AllIndices\",\"id\":\"p1197\"}}},\"glyph\":{\"type\":\"object\",\"name\":\"Scatter\",\"id\":\"p1192\",\"attributes\":{\"x\":{\"type\":\"field\",\"field\":\"x\"},\"y\":{\"type\":\"field\",\"field\":\"y\"},\"size\":{\"type\":\"value\",\"value\":10},\"line_color\":{\"type\":\"value\",\"value\":\"red\"},\"line_alpha\":{\"type\":\"value\",\"value\":0.5},\"fill_color\":{\"type\":\"value\",\"value\":\"red\"},\"fill_alpha\":{\"type\":\"value\",\"value\":0.5},\"hatch_color\":{\"type\":\"value\",\"value\":\"red\"},\"hatch_alpha\":{\"type\":\"value\",\"value\":0.5}}},\"nonselection_glyph\":{\"type\":\"object\",\"name\":\"Scatter\",\"id\":\"p1193\",\"attributes\":{\"x\":{\"type\":\"field\",\"field\":\"x\"},\"y\":{\"type\":\"field\",\"field\":\"y\"},\"size\":{\"type\":\"value\",\"value\":10},\"line_color\":{\"type\":\"value\",\"value\":\"red\"},\"line_alpha\":{\"type\":\"value\",\"value\":0.1},\"fill_color\":{\"type\":\"value\",\"value\":\"red\"},\"fill_alpha\":{\"type\":\"value\",\"value\":0.1},\"hatch_color\":{\"type\":\"value\",\"value\":\"red\"},\"hatch_alpha\":{\"type\":\"value\",\"value\":0.1}}},\"muted_glyph\":{\"type\":\"object\",\"name\":\"Scatter\",\"id\":\"p1194\",\"attributes\":{\"x\":{\"type\":\"field\",\"field\":\"x\"},\"y\":{\"type\":\"field\",\"field\":\"y\"},\"size\":{\"type\":\"value\",\"value\":10},\"line_color\":{\"type\":\"value\",\"value\":\"red\"},\"line_alpha\":{\"type\":\"value\",\"value\":0.2},\"fill_color\":{\"type\":\"value\",\"value\":\"red\"},\"fill_alpha\":{\"type\":\"value\",\"value\":0.2},\"hatch_color\":{\"type\":\"value\",\"value\":\"red\"},\"hatch_alpha\":{\"type\":\"value\",\"value\":0.2}}}}}],\"toolbar\":{\"type\":\"object\",\"name\":\"Toolbar\",\"id\":\"p1162\",\"attributes\":{\"tools\":[{\"type\":\"object\",\"name\":\"PanTool\",\"id\":\"p1175\"},{\"type\":\"object\",\"name\":\"WheelZoomTool\",\"id\":\"p1176\",\"attributes\":{\"renderers\":\"auto\"}},{\"type\":\"object\",\"name\":\"BoxZoomTool\",\"id\":\"p1177\",\"attributes\":{\"dimensions\":\"both\",\"overlay\":{\"type\":\"object\",\"name\":\"BoxAnnotation\",\"id\":\"p1178\",\"attributes\":{\"syncable\":false,\"line_color\":\"black\",\"line_alpha\":1.0,\"line_width\":2,\"line_dash\":[4,4],\"fill_color\":\"lightgrey\",\"fill_alpha\":0.5,\"level\":\"overlay\",\"visible\":false,\"left\":{\"type\":\"number\",\"value\":\"nan\"},\"right\":{\"type\":\"number\",\"value\":\"nan\"},\"top\":{\"type\":\"number\",\"value\":\"nan\"},\"bottom\":{\"type\":\"number\",\"value\":\"nan\"},\"left_units\":\"canvas\",\"right_units\":\"canvas\",\"top_units\":\"canvas\",\"bottom_units\":\"canvas\",\"handles\":{\"type\":\"object\",\"name\":\"BoxInteractionHandles\",\"id\":\"p1184\",\"attributes\":{\"all\":{\"type\":\"object\",\"name\":\"AreaVisuals\",\"id\":\"p1183\",\"attributes\":{\"fill_color\":\"white\",\"hover_fill_color\":\"lightgray\"}}}}}}}},{\"type\":\"object\",\"name\":\"SaveTool\",\"id\":\"p1185\"},{\"type\":\"object\",\"name\":\"ResetTool\",\"id\":\"p1186\"},{\"type\":\"object\",\"name\":\"HelpTool\",\"id\":\"p1187\"},{\"type\":\"object\",\"name\":\"HoverTool\",\"id\":\"p1188\",\"attributes\":{\"renderers\":\"auto\",\"tooltips\":[[\"(x, y)\",\"($x, $y)\"]],\"sort_by\":null}}]}},\"left\":[{\"type\":\"object\",\"name\":\"LinearAxis\",\"id\":\"p1170\",\"attributes\":{\"ticker\":{\"type\":\"object\",\"name\":\"BasicTicker\",\"id\":\"p1171\",\"attributes\":{\"mantissas\":[1,2,5]}},\"formatter\":{\"type\":\"object\",\"name\":\"BasicTickFormatter\",\"id\":\"p1172\"},\"major_label_policy\":{\"type\":\"object\",\"name\":\"AllLabels\",\"id\":\"p1173\"}}}],\"below\":[{\"type\":\"object\",\"name\":\"LinearAxis\",\"id\":\"p1165\",\"attributes\":{\"ticker\":{\"type\":\"object\",\"name\":\"BasicTicker\",\"id\":\"p1166\",\"attributes\":{\"mantissas\":[1,2,5]}},\"formatter\":{\"type\":\"object\",\"name\":\"BasicTickFormatter\",\"id\":\"p1167\"},\"major_label_policy\":{\"type\":\"object\",\"name\":\"AllLabels\",\"id\":\"p1168\"}}}],\"center\":[{\"type\":\"object\",\"name\":\"Grid\",\"id\":\"p1169\",\"attributes\":{\"axis\":{\"id\":\"p1165\"}}},{\"type\":\"object\",\"name\":\"Grid\",\"id\":\"p1174\",\"attributes\":{\"dimension\":1,\"axis\":{\"id\":\"p1170\"}}}]}}]}};\n",
       "  const render_items = [{\"docid\":\"43fe7f66-8e84-4195-8c37-d68f976a5adf\",\"roots\":{\"p1153\":\"b77d274b-7b2c-4d9e-99e2-528573b67d36\"},\"root_ids\":[\"p1153\"]}];\n",
       "  void root.Bokeh.embed.embed_items_notebook(docs_json, render_items);\n",
       "  }\n",
       "  if (root.Bokeh !== undefined) {\n",
       "    embed_document(root);\n",
       "  } else {\n",
       "    let attempts = 0;\n",
       "    const timer = setInterval(function(root) {\n",
       "      if (root.Bokeh !== undefined) {\n",
       "        clearInterval(timer);\n",
       "        embed_document(root);\n",
       "      } else {\n",
       "        attempts++;\n",
       "        if (attempts > 100) {\n",
       "          clearInterval(timer);\n",
       "          console.log(\"Bokeh: ERROR: Unable to run BokehJS code because BokehJS library is missing\");\n",
       "        }\n",
       "      }\n",
       "    }, 10, root)\n",
       "  }\n",
       "})(window);"
      ],
      "application/vnd.bokehjs_exec.v0+json": ""
     },
     "metadata": {
      "application/vnd.bokehjs_exec.v0+json": {
       "id": "p1153"
      }
     },
     "output_type": "display_data"
    }
   ],
   "source": [
    "source = ColumnDataSource(data = dict(\n",
    "    x = x,\n",
    "    y = 3*x + 4 + epsilon))\n",
    "TOOLTIPS = [ (\"(x, y)\", \"($x, $y)\")]\n",
    "\n",
    "\n",
    "p = figure(width = 600, height = 300, title = 'Linear function with gaussian noise',\n",
    "           tooltips = TOOLTIPS)\n",
    "p.scatter('x', 'y', color = 'red', size = 10, alpha = 0.5, source = source)\n",
    "\n",
    "show(p)"
   ]
  },
  {
   "cell_type": "markdown",
   "metadata": {
    "id": "sk5fnsWl9rWj"
   },
   "source": [
    "Below, a similar example using a `DataFrame` as the source is shown."
   ]
  },
  {
   "cell_type": "code",
   "execution_count": 12,
   "metadata": {
    "colab": {
     "base_uri": "https://localhost:8080/",
     "height": 317
    },
    "id": "Wk6ZVaBP8UT5",
    "outputId": "919843d4-9843-4758-9415-c2822f3f8414"
   },
   "outputs": [
    {
     "data": {
      "text/html": [
       "\n",
       "  <div id=\"c30d76a8-9f1b-4dc8-8b34-4d92624e78e3\" data-root-id=\"p1205\" style=\"display: contents;\"></div>\n"
      ]
     },
     "metadata": {},
     "output_type": "display_data"
    },
    {
     "data": {
      "application/javascript": [
       "(function(root) {\n",
       "  function embed_document(root) {\n",
       "  const docs_json = {\"cfb4c7de-d40c-46d3-84c3-c8fc85ddc72d\":{\"version\":\"3.8.0\",\"title\":\"Bokeh Application\",\"config\":{\"type\":\"object\",\"name\":\"DocumentConfig\",\"id\":\"p1250\",\"attributes\":{\"notifications\":{\"type\":\"object\",\"name\":\"Notifications\",\"id\":\"p1251\"}}},\"roots\":[{\"type\":\"object\",\"name\":\"Figure\",\"id\":\"p1205\",\"attributes\":{\"height\":300,\"x_range\":{\"type\":\"object\",\"name\":\"DataRange1d\",\"id\":\"p1206\"},\"y_range\":{\"type\":\"object\",\"name\":\"DataRange1d\",\"id\":\"p1207\"},\"x_scale\":{\"type\":\"object\",\"name\":\"LinearScale\",\"id\":\"p1215\"},\"y_scale\":{\"type\":\"object\",\"name\":\"LinearScale\",\"id\":\"p1216\"},\"title\":{\"type\":\"object\",\"name\":\"Title\",\"id\":\"p1208\",\"attributes\":{\"text\":\"Happiness and Economy\"}},\"renderers\":[{\"type\":\"object\",\"name\":\"GlyphRenderer\",\"id\":\"p1247\",\"attributes\":{\"data_source\":{\"type\":\"object\",\"name\":\"ColumnDataSource\",\"id\":\"p1202\",\"attributes\":{\"selected\":{\"type\":\"object\",\"name\":\"Selection\",\"id\":\"p1203\",\"attributes\":{\"indices\":[],\"line_indices\":[]}},\"selection_policy\":{\"type\":\"object\",\"name\":\"UnionRenderers\",\"id\":\"p1204\"},\"data\":{\"type\":\"map\",\"entries\":[[\"index\",{\"type\":\"ndarray\",\"array\":{\"type\":\"bytes\",\"data\":\"H4sIAAEAAAAC/w3DBzcWAAAAwI9EVlHICGWkJCGSrWVTWjJCUiqUrSUjO1IU8Wu7e+8CgUAgyGCPGeJxQw3zhOFGGGmU0Z70lDHGetozxhlvgmdNNMlkUzxnqmmme94LZphpltleNMdLXjbXK+Z51XyvWWChRV632BJvWOpNyyy3wkqrrLbGWm952zve9Z511ttgo00222Krbd73ge0+9JGPfeJTO3xmp1122+Nze+2z3xcO+NJBX/naId/41ncOO+Ko7/3gmONOOOmU084460c/+dkvfnXOb8674KJLfnfZFVddc90NN/3hltv+dMdf/nbXPf/4130P/OehR/4H+mBib2wCAAA=\"},\"shape\":[155],\"dtype\":\"int32\",\"order\":\"little\"}],[\"Country\",{\"type\":\"ndarray\",\"array\":[\"Norway\",\"Denmark\",\"Iceland\",\"Switzerland\",\"Finland\",\"Netherlands\",\"Canada\",\"New Zealand\",\"Sweden\",\"Australia\",\"Israel\",\"Costa Rica\",\"Austria\",\"United States\",\"Ireland\",\"Germany\",\"Belgium\",\"Luxembourg\",\"United Kingdom\",\"Chile\",\"United Arab Emirates\",\"Brazil\",\"Czech Republic\",\"Argentina\",\"Mexico\",\"Singapore\",\"Malta\",\"Uruguay\",\"Guatemala\",\"Panama\",\"France\",\"Thailand\",\"Taiwan Province of China\",\"Spain\",\"Qatar\",\"Colombia\",\"Saudi Arabia\",\"Trinidad and Tobago\",\"Kuwait\",\"Slovakia\",\"Bahrain\",\"Malaysia\",\"Nicaragua\",\"Ecuador\",\"El Salvador\",\"Poland\",\"Uzbekistan\",\"Italy\",\"Russia\",\"Belize\",\"Japan\",\"Lithuania\",\"Algeria\",\"Latvia\",\"South Korea\",\"Moldova\",\"Romania\",\"Bolivia\",\"Turkmenistan\",\"Kazakhstan\",\"North Cyprus\",\"Slovenia\",\"Peru\",\"Mauritius\",\"Cyprus\",\"Estonia\",\"Belarus\",\"Libya\",\"Turkey\",\"Paraguay\",\"Hong Kong S.A.R., China\",\"Philippines\",\"Serbia\",\"Jordan\",\"Hungary\",\"Jamaica\",\"Croatia\",\"Kosovo\",\"China\",\"Pakistan\",\"Indonesia\",\"Venezuela\",\"Montenegro\",\"Morocco\",\"Azerbaijan\",\"Dominican Republic\",\"Greece\",\"Lebanon\",\"Portugal\",\"Bosnia and Herzegovina\",\"Honduras\",\"Macedonia\",\"Somalia\",\"Vietnam\",\"Nigeria\",\"Tajikistan\",\"Bhutan\",\"Kyrgyzstan\",\"Nepal\",\"Mongolia\",\"South Africa\",\"Tunisia\",\"Palestinian Territories\",\"Egypt\",\"Bulgaria\",\"Sierra Leone\",\"Cameroon\",\"Iran\",\"Albania\",\"Bangladesh\",\"Namibia\",\"Kenya\",\"Mozambique\",\"Myanmar\",\"Senegal\",\"Zambia\",\"Iraq\",\"Gabon\",\"Ethiopia\",\"Sri Lanka\",\"Armenia\",\"India\",\"Mauritania\",\"Congo (Brazzaville)\",\"Georgia\",\"Congo (Kinshasa)\",\"Mali\",\"Ivory Coast\",\"Cambodia\",\"Sudan\",\"Ghana\",\"Ukraine\",\"Uganda\",\"Burkina Faso\",\"Niger\",\"Malawi\",\"Chad\",\"Zimbabwe\",\"Lesotho\",\"Angola\",\"Afghanistan\",\"Botswana\",\"Benin\",\"Madagascar\",\"Haiti\",\"Yemen\",\"South Sudan\",\"Liberia\",\"Guinea\",\"Togo\",\"Rwanda\",\"Syria\",\"Tanzania\",\"Burundi\",\"Central African Republic\"],\"shape\":[155],\"dtype\":\"object\",\"order\":\"little\"}],[\"Happiness.Rank\",{\"type\":\"ndarray\",\"array\":{\"type\":\"bytes\",\"data\":\"H4sIAAEAAAAC/w3DBzcWAAAAwC9ZSUshiZKi7JSU0bRJVjZZoSgRoUJIkjKikD/b3Xt3JBAIBHnUYEMMNcxwjxnhcSM94UlPedozRnnWc0YbY6znjfOC8V40wUQvedkkr5jsVa+ZYqrXvWGa6WaYaZbZ5njTXG952zzvmO9d71lgoUUWe98HPvSRj31iiaWWWW6FlVZZbY1PrfWZddbbYKNNPrfZFltts90OO+2y2xf22Guf/Q740kGHHPaVrx1x1De+dcx3jjvheyed8oPTzjjrRz/52TnnXfCLiy657FdX/Oaq313zh+v+9Jcbbrrltr/dcdc//nXPfQ/856H/AbghcbNsAgAA\"},\"shape\":[155],\"dtype\":\"int32\",\"order\":\"little\"}],[\"Happiness_Score\",{\"type\":\"ndarray\",\"array\":{\"type\":\"bytes\",\"data\":\"H4sIAAEAAAAC/0VTa0hUURC+5hN3Xe/evXfvPt3FLJIsCCH6Y3tsKbIHvShMwl2k/BO9wx8W7BZFWPSiRMpiFyKCEBGLMH+0i0hFVJhRYha7ZU9EyqDSNG9n5kz562PmzHwz882cacMIDc8pYpmS5D9hL2JZkhR3ZBUxidtDE142S5KilWkvmzKMgPmolxmGEWkOeiGeNVUipvuKZ5DHxz2vPOwP5/2w3gM86ZIcD/ilF+NuyE/s/+yGOtLzJ27kqTvnhjh254CbZfD44iEXy+Z4vdUFNjvdgna04qQLeBNX97ggn4V3uIAvkFqHGOquojy3S9Tvc/5HzuMffIp2rLXXCfMYZZ3oT/o7nNCH1HbFCX3wSojh87ucYv6wk03zOnltDqjrP77TwSYNw1ezHe2ofasD6vuytjiw39srHcDvW5TngH7CSibFv9chLrX2nU5z6qSXjrqP9es4p9qu0/w65MVGD2NcuL6e4mtmkOclH6/RYa5IcpVOOqA/fWMF2rG9FTr1g7Yx77Vd7PmYHfyhT4fQlm7us1OeHeaNXXLahR6SnfanQR1j0zBiakOXBvmpxosa9BmSqxFj91fje6JhqSZ0K9NQ/06vJvapoz9x0KYBf7LKrFEdDer4O76rwJO69k0V+/6qCt1HVLofVejxUcW7bX+ggl6stlvFOavvIgbKbyEmYpdV6msGQf/JUuSJB00q3b0q9jlog7jIyDMb3bFNzLvERrrYqD+F9qiI/b9UqB+F7kwRc15AjLTsVqg+5sWXL1ZEn+WK2PtC9EsDs9FvbLaI+NEpK+3NCryB/AErxIXP9liB15dzhOxlIi5jvpXmQ9v3psSK99xV9C9Ppv3JdNeyqHdG2G8bZXGndbK4y434Huv1y+KfeGTiKaT7LKT9FbJcvs+HDRZm4lbpNgv7yd89NRbwx3v9FjbO+ZsqC4Av8mVuAZvg72P9ZpbH8xrumdlv/l7bbWb5XI/moJl0MOM+en6YSFcTxEsLOhGjyUf5dOe57BfH4Kls9he19Kf32AQAAA==\"},\"shape\":[155],\"dtype\":\"float64\",\"order\":\"little\"}],[\"Whisker.high\",{\"type\":\"ndarray\",\"array\":{\"type\":\"bytes\",\"data\":\"H4sIAAEAAAAC/x2Ue1ATVxjFYxxtCcS8drPJmqylgGaK7xXRVPSoYJgpmmZ84CPYIBipokZmYmlGi1JTH6DB1opBxEdGsBYRRTDtFKURrExTK1SbFrV26wNtFJnSAOKg3fTP74977rnn/L67xFsR22BhMF1U6qxdyCDWuW5faAuDfb5Q8uxZDGKc6wZZDYNMayVztl4Lt9v98NhuLc4Zjq+q2KHFXceinOUWLdr9xQMJ67U4b4ju2M9oMYnt2RxXrcE488+nM1I1qGOcbXlpGlwK6TKzx2owRCC4XDhMg6GCpmpf+0gkcx3NHedG8ufqFpS9PRI3/GnqV//SGG02rrTcp2HyMg7uEQ2hQLBp3nc0bnkmnj7po+FlWk7NPkuj1P179JBiGlnWylG+bBpGLyMSTqABUXq5I5nGfp/94216GjqzcWOclMYdx81niyNoaJzxmR8NqPn7ilnzX2p0mqa1MvNozBKlL/3juhqZLl/5L1fVeI8baKv9TI3PffYPSppVeGzKby+rVyHdJXySelGFqWzPgTSvCkU+e4vksor3icVZuSqstVZGztyowoakPZfZRBW2BWWpmrkq3k/C9CvxKmRbK1cJRqlw2sDdf9GqQpcpX1fQS+HToKkHXRTmcvrglScUvjIcL1lWQyGkM79fV0vxuUr64k9QSBJRC5rPULxP4ajqIxSqbIMduXsoXj+UvIifr/ujZnQepPDM5E2xraTQ4el+sWEWhTiz65UlqAz3sea320qkcPrGqiYlNhNd/RVfKnHAF7Kw9Uqeh6AhNlOJMrc6IsmoxAJvxY1rk5U4YRs05o5X8n2xESv7SLh8Ca/jfyQhq3ljU0M5iWksO3H5QiWGBWIix+8neX+FDWV2EpKazlvd80ikcvq9R20k2j3dx1Z8SGK5q7DqiYPkORho0meQsLgKx75MIREZyIrPn0zib1N+om01iUS2Z5F4Pok6QzSxm9dZY300wMWQ+IYZdqmPJvk8HzHtU0i0hE7lXlCS4b4r5/cTaPX7m28cJFDuVk/Z+SuBayHdXnUegXdF6USSieBzKu5VmAm+1/7B/mQCBk4/hlUS+EdXfrvxoiL8nu2luxU4btuKoTsVuMCk3HuepoBA0HTp5VQFzhq4SMkaBd4xS3JOTVDgkHtZW+YkBaKdXz91ChVhPg9bfPIwB/cChALqmh+OrD8q5/UaDTUqBb9v9qxP7PKwn3ZRjpzX3ZZd8oWc7zOpbNdWObYTXaJGvTzMmfT7eDle6Mx3vp0q5/ei4szzuzLQzqJk2xYZHjpujksslIVzkD70yFDPOGu7CmRY6irsXb1BFubPFUvIeE4T7K3q/+errFaG+ZyjKHKVDI1MywrxAyk8tq1xdxql6NGZWwuuSXHBwC2JKJCGdSecyJOG/4XDS4xSBDzda4tipLjtsTksNyXYEWzbnjNOCs5jy+stl2Aiy06eMziC73fO8CmvRoAVBTIy+sTY5bM/f9ogxkkDN/r8n2L0vX59pmmPGGPMrrGdP4kxXCAoeaAXQxjwVD2ujuLfXScubYqCgxg/462lUUgVBeyTjGJYrVZSeC4St/z+mX2H3sQRt3tTanA4/gMGP6IC2AQAAA==\"},\"shape\":[155],\"dtype\":\"float64\",\"order\":\"little\"}],[\"Whisker.low\",{\"type\":\"ndarray\",\"array\":{\"type\":\"bytes\",\"data\":\"H4sIAAEAAAAC/x1UaVATZxgOoKJJINnNJsvmmlHRiaWKNFTUNvYRrQGK4lWBMWopim3xCIK1RlKUFixxnIxydKIOOkYpCo144ESsikdQ7IqKYrAimIpRoSpq4wGj6aa/v+99rveZ94g+Y6e4V4Wzvm8aFt1W4YGp7PAnW1RYo+MP5B1TwWMqC07Zp0KFLT3j21kqLM3KklveKbHAuViV914JVVFNqv6BErHaXFd2uxJznZ3LfitXopkVJu73KXDDPl76z3kFZnhM4+L2KzCV71Zv2qfAgN+PkRUKBPNwI2iWAifVo05u+1iBVjY5p6ZUjmjt0aqZ8XLcsdcNb/hCjt/1niLbWDkG8Xgi3wg5NIarbfKhcg53sju/j8HyrNGVuaFy7LKl7ylpZVCj99RfWsPA5aseOXsRw/mxNMVkMuiw110j1jOc7ihy0EIGXtNN9eVlDCZoc9mBBQwYx8UJnhMRaPRVL58uZLDXqMs89DYCp9WDHUuu0/heZ7m3nozg/m1eyUgiUGV8J+vup3GJFdacfEljhc7SkNZKI4jX2PPeTmO3Lf2Yt4JG6bm1Gzduo1FAPV1XsInm9FwuLrT8/353YjnN5aY2PL4jA+HY7D6wjEY+5WD5iTSOqV3zaTGNFOfi6Fw1jXC3/VlRCI1b9r6EMJLGGd+jmLZeGfYZ3927+VqGVGvwg9BhAZ38DQPPZBivfRnSf18GqUPf//ywDKMMoiH3f5Dhtt049ZpShkl8d9orhQxOtSu+doQMxb3ExbrXUuTp+F1+sxQdJsp5p1KK7CzvqxV7pajVZ0R3lUoDPMa4eCm3L/b4rzHSgJ/Gf7sp9M1503Krn8IVlk0pHUPhjaYj7+8mCnuM5pJmF4WHcyIOjnlEBXy9SDxOYZxB1BV3iOJyNKfJiijUqwcXjPqF4nI3lybvpDCg2TX/fC0FiWPz0B05VCDnqPafKMx2dtZMK+ZwbcznpmwKek//2QvpFMptzPBOHYXP+KmSIylUYN+3n39KIU6r3fAHj+L66xUMOSsJ+P6o0yPBaV91VJJLwuWUm6iqlXA5hQbHrpSgQe1qt2+VINSd2S3sIcGy7BThQxILrYX+6FoS0zwN91LLSITwEJRUQHJ61LFvp5O4a+9zH11C4uusqlVtqSTXr/mlmZEkxzt6aYucDPTgq/pCAo/nTNyrukIgzRo/0TmTQI7Osuugl0CTr3qsvYvgcDfuVJQQHN+5/XPzCZT0Er4yM4FrrHD1PG5+mNt+P3MWwfU8Y7syksBdU94Gx1ACkUVRrewNMSptzCGyTowEj8n6Z7MYB4zmZv5VMdZRT8f3G8VYpbuc9NcCMczU0xMdk8XI1vEfY60ISZ7JkfWEGAZr4Y4zQ8QgHfonTQ0ibn+6Vv/PIozVavdkbxXhlE9TkuMNR4JT/d2FI+Fcr6xFu6PC8UxjyG/cLkSswbp1oSIMN1k27PXxMFQaT036clpYYG5E/RZhwK/YWyFEslPNxLgE3B3gtX74QoAWu3FeW5UAb/z+1TOSBXilMaSdXy1AO5v84skHAhT0Xg+hYwS45NNYNFI+ymy2nh+7h0Gj1Qb1eAZzdyCrZUrUIPwH2YLAhtgEAAA=\"},\"shape\":[155],\"dtype\":\"float64\",\"order\":\"little\"}],[\"GDP\",{\"type\":\"ndarray\",\"array\":{\"type\":\"bytes\",\"data\":\"H4sIAAEAAAAC/yVTXWwUVRS+LRaW1pZaakCx2WkTa6sYY4QHo/EsRIgPGJNGDQRw5w2xYmspCWjoLiVoNSBSKo0v7qKQFNsoxEjVZNnxjxBMrdjoguDu0FKXtdv9mZ2fbUsd73c6Lzfnnu+c833fPVMqRNDz9wxVC+GLDTt0x3Vp6KxD9wghmspn6C4h9PhKh+6V+abqIqVl/vfPHSoRIvzzfpvmXTdUmnKoVOKaNYfKZN2xEptmXNe/9fs8zkDjLw65Mn4rUqQaIZR1vUVaIoTW86tDy4VQT7c6mOMTiTlyXDeaqXZomey3o8KkcjknWDZLi2Xfb4bzJA/fiVMW3S3rirYBPon23Qb4aseWz1FRDqrpsqhW1nvfLtAiWd+enKI5ef9GpECWPJdN2uCraBUGdKsNOZt5dDXarHsgMw9c4tn6PPR52/YXoV+pu2SRKfn1KrNUkPnRNRbw6nu/OVQpfbwyYGJe0OxPQp9v26IcfFLNB6bBW2seNNEv8M7DKfTxP95iL9x3m+x7Q9U0fKIvB20yJO5dj4W5+sa9efDTFq82MUfduMum/2T+dksSPiifSp1c/8W/NCv7nllhIE68f4TxunHYgp9q3x4L89TnPsxRlfTlxyUF4L3pcxZlZF1LgwWfAusPGJST/e6E8/Bdq19dQF1wc2wavN2BsSK//4aOKbybll6VB5+Q/3wWvvsOHDcX8J9MY47Sf7QA3f6jHRnMC3RuYjydXJ9k/buvZ6E7UVllgK94MMf56MH70vBTeWiPAX6Bug15+BqOnDThv7fxCebns8ot8NEn27LA63+pSY67PXneu4uP9cMP76WnUsiLntoU+9x5WUesvfhSGjyUp2snmI//6zj2Qv+gLYf90yr0HPDRH+py/L4Hp/5Bf+WzwSx4el/+yCCP9HVtX4z36nLVOPbYf6TbYJ9G9Szu1VUXx3kfTt/IYE64I3uT+X83P4J7X6QrBp5RdyjOvr65/RZ0R786xX4E4o/wPusl5//AfxXa3JSDr3T2Spr761tSqA80a7cQi6UTKc63tmY4LusbpqWyb2RfHH18j26a4P97YN3Egr77J4FPJLdMIvbOh9PAq9t2XkV9sP61P6FTKX77E+ZHd90cYR47PDegNxSvvMrvtmZIZ53P7J3i/3/k3DX0c1eaed7T5InrjH+ldwz9gi/0s25vTXYcuMCh169hb/RD+y7gDO58fhQ48erhMd7fno9jrKs9fht1oSe36uAXPt45jDx//wNatDQA2AQAAA==\"},\"shape\":[155],\"dtype\":\"float64\",\"order\":\"little\"}],[\"Family\",{\"type\":\"ndarray\",\"array\":{\"type\":\"bytes\",\"data\":\"H4sIAAEAAAAC/yVUe2gcdRBetW00aWxsmmB95BJEExEFJRCl1jmMEQVba6Ot1uodJLb1AUkQhUqTW6xpLaEoppZYhLvWWKkpUhGM/cdbxIbYKsQHQkl0lzamd7nmHvv47Ya0Xeebu3+G3+zMN998M3NeGIbPHgioStOs7t8DCsKQsj8v0hLbjg7xG+dHA7pO0+KFGUUOxx/5zqc6TYvuOhOQH4axg8d9WsFxTfcGtEzTUk8tV1TJeIdPKOJwKrzs03wYJq+NK6rhuL15yUv0feQjTjv2mk83Ml77Zp+u17RGveSTHYbpV4ZcusL4be1iI0fnFC0yzoMlhTp6/Uqf8lzgVMyhBa7zyAmPKhj/wymfivzeM6KAk7DqXfSTHgk8cvn9QqvwM6qmFOU4//5mJd/79gbAjwx2ubSa+93ao6iaea077NJKrvdGnQJv83SzS/XM+/SaAP1Y79wnuGHmoEs3cFzPiEuXGe/uQ2LDpayNOuaxJtHJGp4MaBXbnQ0+FZjnA+/70D29Z0MJ+fH1Swp6pwaHfaplPTJbJD/2/W4FHRKvV9t0lfPeq3DpJv4+scMW3M5Rh27h/OJFH3Uj8XsU8KJrl2zoE/tgvegaq9Md9JXavs1B37Ga2wTP7EuJnuZAQznu0x884Fs9Oz3Mx/j7TtmDaHer6GFV1bjwp4aaXNFh458OeEZ293t4px6e9ega8x1fzAvul602cOnsJzb8yW/2/Sc8G7td6Eo/zckczK4pB3X0U+cyZf17beitP9Mr/cRH/3KQZxZX27CJXaZHGn53iH7RzzbYmEdyf6fgaCdrL0Hn9JFeV+Z+7m0He2Zlt8p8Ei19HvY68ttGRSW2L/5rY/5GjHXE+9YWhXjtwC85zMnc329j/xqfzhVgrTZH5mJWDhRQX5vsyKO/SMWZOdnns+NZ6Bs+tO+S+LcMl8BX76wXG5+cyeHOohNBCfWSyywbOI03VxeRl/x1U0H8b3JdxjNeHcthL7R/WlxaznlfNRSl7h93ZcAjfHSbK/dxe2q+vCePX8Be6Gu+duTO5nVX/J5zuXy/a4uYZ/TQWw5wjFVeDvGpFZtUmVetjTnEn/y2KHxnJqRPQ+2woK9xZTCPPYlvf76E/uhopUOK9Rgbk3kY2ucXZG/6hxzcl+lMT+N/IfFu2wJs8uOBWfBJH88vyBwrH7sounZlcug3bj2XlXtQX0wjLrauPS93/uNL59G/fnWsiLrmE82z5T3g3/8RjqMZ2AQAAA==\"},\"shape\":[155],\"dtype\":\"float64\",\"order\":\"little\"}],[\"Health..Life.Expectancy.\",{\"type\":\"ndarray\",\"array\":{\"type\":\"bytes\",\"data\":\"H4sIAAEAAAAC/yVTbUhTYRS+usoU+pIoKmirtA/DJCpoRZ2Fv4pMsn4EacqwFME+BPVPuFVEBRVZ9EXgbpSQlD8SjczkLuzDEjWnWcuP3W3XO7epZWX0fXvP4/6c3fO+5znPeZ7zmiTJvaMiTH8MI7cuO0wxkuQsfRAhk8h3lkZJkiS5SgvTFPHHOh7mvK2uPkKGYdDQ0gjnnWeuIaqLY6KM41rfE+G6PD1jmPPy6vkR+mcYyreXw4xvaw6H+dwSU4kodaZG6K9hmH8moN6X+SLM9x2pVvDIG9sW4rzR9iTIeO6CpGHUX9qqM56a/FinWBG32MeYl5GTEeG81G0Kccyr3u7HPD03dMahgalRxneteaRxX9fuQvBw5pSMIG9u1DlvlCcEwbsiEMD89XdUrlc2bEIdNXSgr61c1/ieMbc9yOeOVTrOc5s+D3F0XE0MMi/zQrsOneqCPv7OndgZxTyBU37GsYx39uN77eZR8Npv0aCHrSUIPsuOAFe50DHCebPeH+C+5q6RIZomeExkDsKXehNwbA/zJ/seboD+Rtku+GzOStFYD/liEaIlFBdFv66t4OdeUYi801qtsi5qeoHG0b3xXICjrTJ1jPGo/+sA5tjUjfmpfR/0cqyMBU7etlPg7/p2dFL3K3v88OdBYwh7sbzJS7/F+fWT0IOqFfirDu4fYt8sJZYg6yLF74I+cs5BzEvLR7EfSutp+KueLw8zf1/gEvxwF94NwPeiOxoNC375a5qxp5WDkz7NTKrFfBWfVPhz/KkP/UYb/MDrXYK8ku310y9Rv+XLK+zXYRf4yOMLoIM7V+jD+j6u0WlE8JrTVkYJ4t6t2GfQrahUw3nNwRBHR+Zs7KH69v47vDdvbzf5RL4+own8Yo954Zu07iP3Ndudb6HT/XgV+5fm6cXc6VW9eF+JMfBFvnlIo3iB25g8gP1dle5BrLno4b7KvNfYG8c0Zyt9Fjxf1r7Au5JD9yhO9Lt8oo+miu+SKg/9EPeeRD3Yi47iAOa197VRosBvldv4npyW1sV1zuKUHrzLW7Oquc64kPYa75l/7IP9bA3z8DUshX7OLN87+i76/xt8A973TB8Yz3Jb6aKfgm/Oh24aFziLRp9jPyeK22m64Gf1ttIM3svbnXzPl6T1YM8OTFH5W1m89z30/V3QQl8FTrL1Cv0HxqEQCNgEAAA=\"},\"shape\":[155],\"dtype\":\"float64\",\"order\":\"little\"}],[\"Freedom\",{\"type\":\"ndarray\",\"array\":{\"type\":\"bytes\",\"data\":\"H4sIAAEAAAAC/yVUW0iTcRT/7KaVlpVlEbWVWF7QVRLRQ5xhaz2ERcUiiNoUFmgF9pBdJJZBFCvs+jAf7NuD2D0sSqOgDS9l0tac092+7bvMtMiim2Waff3P2V4O///O+d3Of5tUVVe5aRAmVRUgbRD+qqq5bd4gTOU4/c1gAs+i/lUCUtj5xAsF/qmqLaee7nlrM91zCxqpag/oEzCT45xtE2HCq76iYFVzChX83j1DJ2E982mPAuxazOYIDzxbZKzm69kJ7Hdlb5bgNztnaEJ4tl05noAJNrBJjcJ0Nn/nkAhTOE4qaRZhGuMtrIrgWb/NIRNfUVDBe2e5narWxsnIK/U2yJDK5pcvjgOTrU25qqAPl2FlEHW7T+RHUJdtlilBelZfjsMY89naLWCfjXdIeO/61yEijuX+Fz/hphbJMM76nr4MY7+tpUlAfOfvFTGslrIHUZpvapaomjPfwwymt6XShzhc5kiQcl93TkZ+fmGxhPk7t094MAf+e8yD+Ko1FEB+8U2dj/jW+7zol78EMfQp5chykrczgnmBnuWFeyvJi5Mv+y4FeaXQWwH+sDlHtUh+cp8PkI9Fd+M4ZxsY9tMernljlL8J+lCn80cZ4bhSD4u076znCsxhua1p6yFfla8j6F/z+OwrSGP36fviSZwDPtybu/62L5lraZz2c2GpF31aKs0CZLK9FLV2wE/Wf3C0G3VoDBraq7OiNox9ku9hco/BumfI45p93I+8amRIhHSmR8nvIZ6vxgHMwd0UDVDlDQnEsSwyKoijHTaGcU6zqph0uB3ptBexZ1mM3tlYkUC8tzaG6b2O34sTr9buR3ynrsyHObqz5/hxD66us370pdqtAdQFpy9GyZ/n4zvMC05WhahaG+OEu5u9A4YjZY0LtNetXZST2lYj4bwo6UKUy0d7jPofMZ/MB7d2so/8nSqIkK5jozLMZX1cxRvENxuyCIeXG56RrppglPybPX2Qwd7BRImX3sVlvg+ruOGWQPtoNAzCCJvLba2n36UwPwoahmusddF7ytsvoF/L0fYA4mt0xiDp/SzHcG9O/nUn8e483485goMLk178fGA6bhS/wDzOXC0gf+Y/pVH6H2nY0I375o1LeHxHliNf3qFf7Td/O73TkbJ+9MuV7hggXUN7Q5RzzU3ao9QpPsHvtRm/QpTLjnsPkVc6aeqF/5fdoknYBAAA\"},\"shape\":[155],\"dtype\":\"float64\",\"order\":\"little\"}],[\"Generosity\",{\"type\":\"ndarray\",\"array\":{\"type\":\"bytes\",\"data\":\"H4sIAAEAAAAC/yVUbWxTZRR+neBW2IcMBtFIekXSkepAY0YICzk1UbMYMwyJi0aSXggkKHHLDMFNYlqjRBjRJZIIJnO9hMjcnArKx4Zju+1Gu5Z1/aAt2wq7ZeDSEJi48bFN4Po+h19vznnP+zzPOee5N08ItfzFS/SEPG90p+g/0yRH7RjNmab5weE4zRdCn9sZQd75xXNjqBPjRpqelPkFIkPzhNC2tA9TjhAZz3eP7xcrSbynT+ovkEUIpeS1BOXJ+hxlhGZM08jdmqanZL52bxKnPnEkjHfKUWuc8Zr3G6hzWbIJeiBxOp65xPmrgX7wKvZvT9ML8p06v5sM0/Ssn+2h+7K+amWKHkqdr2wbB6/74Id+knLcHSvjdEfWfT0domnTtBY068gryapx6FLn9kXRp3i7egB8xh5bEnmRLe5DvbHkbx94HT/HEuDx/LAujH6Vtz7z0pTUJ571452rs20UvOqRqot0W9aNr+1jnjN5J+mexGmu7EecafCM0tOyn5nlfuBmNvnaqRh6OodoVupPX+kBrrU89hWZ4POf4P3cOcR6qGpXCPyON7tCtECeq5d5uc+XjEHMvbfxYQSnc2YkiLwQS2KUK/GVogj9I3VoFTrizH45V1xXbI4Bz519pwt4+oF0H/Sotk/7uC9btpWKZN3M8UGeF93nd4788wNcX1I2SIXy/W8WP3C054tPon+n71aYfdLUE4F+3dvAPlAbXT/yfl9/OYF9uUoOXgOeqvx0HPXC9m6QfRH/XGMfNpa10l15Nk0GHvcDLbIP380oYv3Ye52YE9nzkzQp87UVQ8hrLRuiPM+l7XH2Z83iIXok+X5tCvN+Sg32tZGtHuO9Xf44DRyrsW4EejPb25K0UOa1lBf+UHfUtcGHYtf6c8DpfbRbpwmJs3a2G/PUVnvjyFtzaQh17u8HhnkPnv4g8LTd+Twft6X3T/jIeaj+Ms9rqyfBuF/GbkCHlt0TgC5zw1SE/pU8p78JInZZdh4DjqM+J8Fz2PiRwf03OE/h3lNwNMx1mVSQFsk6++0e1rOw9RfMz3nlQAT9uG31AcRk8wXB67j3xzDzllUH2Nd1dVHoM36vjOE+8/5IAv3p9sIofExr3gjzO7Eljr2rLW0X2Kej5QNUIOvHVvWD1zi1qIu/wxN3LyJ2TtR08fdb2BJiH/SeCXF++UYD37My3XqW+6up5P+Oo7Qoxn3+NRXl7+X6q0GeV2lZlOe/5rAB/xgrOlKIPZP2EPvo6myM/gdTkEP72AQAAA==\"},\"shape\":[155],\"dtype\":\"float64\",\"order\":\"little\"}],[\"Trust..Government.Corruption.\",{\"type\":\"ndarray\",\"array\":{\"type\":\"bytes\",\"data\":\"H4sIAAEAAAAC/yVUe0zTVxS+gKJGfBAeYpS0mBkTdRpGUFTM6R+GmKCGKAtZprYYt+kygm5LTAykDcEHaMBHsKBoG+RhRGppaUuBPoBSDI5RiouVQVp1GT4SCXuAyOPnOYffPyf33nO+8333fPcXKYTKnfYM5iVJvbP+BUVZV303LBFCHlX4HBZhtBQEYEaSdElr/DCHeZkn/RAphD5aEwAJ8+eqAhCBeZUZQ7zO81sgTohQhd4O/0uSqyXzN8LRVx/thI+I05cwBALPpy2DhKMJi/dBOMYnPzAPqWfWR+eKodUWzsv3PIN/JQlunumg/rLwlzWUL3bfMsAKjM55N+GINNsorMK6Rm03/IP57X1eqtePecwQhlFsNZEOKI/1UlRe2a6n/dD6HOMC700m+IT8zieOEJ586q8G4i3eqQdhAOs2Hi0i/rJvSp8Srrutr5J0i9xffISjSH1qZJ4n2tykQ/dhvBNmEXhuqY34urXHDNRHl142QPWq78zVVOcuCulpX11ibyXeuvWTHpjAGHHwMtdnmLuIh+rbMRP3y0wxwhvMdzwshtfIJ2r6LEzjPY9PGqiP/pXWBwmIe7jECSux7t6rbua3cV0D3Z9yMP4Bz9lfWcf6v0isI91K86+9MIVxTbiH9jUHLTbmG1NsJ76ahCwbLMU4MODnPr48O889Z6KW++Q1OtkXMV01PMeVBx4Rf2V1dD3Xv/+piXgGc3O0IMP8jD9csAzrtcfLWX9hkZF9WHHDSutg3TkrRCHvqs29EEK+xVschB+K2VxP5xCRep94B2MV1wifP+Sj8XhNtJa3jxiIrzs8hvm6k/KtsJx86LrNPi7o6IJxxM1O9pIOhTK5lnVfNJhY9/XAwlxmyk2spyDFyue7/rSSz0IJ+x20r9xec5HfSWYKzyc0su8h9ZPvmHpA+fK407UQjfjTjS7aD50P2Hj+X181wiTi90x5yTeypC1PIIh6fGUO4qfrX9zC91X4czvPrf+cmfTKGr7sYR6zwws6S7PuUF/Vtmob++b3S53Mfzi3hfkdWuejOvV/z9l/6uxgG80FRuvYp3Ayv5nwAQTzEr0TVfzel1VoKUp705rgLa79/c6F/0NHJ7/DPXdN7IO4/EbCVV74sZXuRTNb4GTdyS+a6T+iiM16zO/PlW7ne4//6jHVqRJ3NPP7TLtuJ526e6ubyLdi298O9nvkxH14ibinvu/g96QpbGW/HdkwSjiuHGU3824aMxKeorXUQn3E2slH8BmsmZ8r2AQAAA==\"},\"shape\":[155],\"dtype\":\"float64\",\"order\":\"little\"}],[\"Dystopia.Residual\",{\"type\":\"ndarray\",\"array\":{\"type\":\"bytes\",\"data\":\"H4sIAAEAAAAC/y1Tf2hVdRQ/99733rRcry0nkoMNKkdZOmmUSL1zCpMylGpQmwmblX/YMIhwGEn3Es5BkqXYwELUYfVaUSItC6L7UmMJgvTDfPnPtqJyrbX3Zm/v/v52zvd1/zl8zz0/Pp/POaeilNt9r0mKv12vmXQdQGH6kEkVfn9+j0kpALBetKiqFJ552qQ0gLPHNrS9tQckHs6MgcTjGwNAEddT2zPE7sL29jry2P/hMoMsADr1tUGzStnntkbIfvVoay3/mQSkvz0w5Wv/inUhZjj/+E0p6Wt3fRMixzk72/6ve8SiWKmjr0ylKOD6r57KEMfDmv5r+C/nX73qSTwt3WpQqFTPyeV1YvG2nTWeqxeBrjP1GEi+u8EydJ+lxQRLbH/onEPm3To6k5I4gL1AC9jU7wC6xv9XYoD8bsXvQPRxhuwAr2fbvBCI7bHB5pTw7T3xhCl6qN2n07SE818+G0keLG6MkY3TacWaV9N7BpmMJ3dDmhbx++zFCvrMr/ijIbwmXno9VZvDHwr/YR51SxI0mN9z/RnhdXT584bwGL+0z9I6H+6MUXSe3h9hHdfrPu+h8O6yKihxu/OG6OduvD3EGfYPl3xkXmrzFxXMMo4tB0NM+H/Hlhi5XmGgIdF9W6uB9IX97qS81fk3lc57oE2Jbm4+H+E8v4/0hyi8my74oiPBxzEyv96hJiCuT+33a1zHUk9lqMx1bxmfx4Xc58TxSOq550ZCFF7r37doiuu03B3hHPMZbK4gx7sXo1DjSreEWM/8Gr4si66FJ9cnwk+N8by4ntM26Qtv993SAmrivvltVWTe44//bZLw++ztWOuyOjeHi5lX35AnuGDvgwlOc78rY2XBY39ypyf7CLtyicTjbDZB2ff6+zRPu2diVvg5RneaOL9300cmCa7vg6rgpF+KVeR7oT/zqrZfo1WtX/sLgey73VPUd1VYWywLPvXscCR5zqq1MTJuJ3dzRfjRyB16fpjju2H86qHLV2R+drbLQz3PTR7KnS7bESDvG2WHQvHbb4H2t5y+YJC+j5OB5KG/J9bz//XTEjZy/zVJoPUo53yZs9OX/Uv0pbDPkznCyHBtrpfCWOO2PwB9V78fqM31kQO1PXpnYr62fz/5ssd4ucPQd/DVqqLU6d23IpE7dQ9u9rU+h9tCbOB+hwYrojONNiZ63mPfBoJbrfvZk72yN2yLtd4rH54UHeyOqCT5sHHiN7yR8Y/MBNLPvmsQ6D8jI83p2AQAAA==\"},\"shape\":[155],\"dtype\":\"float64\",\"order\":\"little\"}]]}}},\"view\":{\"type\":\"object\",\"name\":\"CDSView\",\"id\":\"p1248\",\"attributes\":{\"filter\":{\"type\":\"object\",\"name\":\"AllIndices\",\"id\":\"p1249\"}}},\"glyph\":{\"type\":\"object\",\"name\":\"Scatter\",\"id\":\"p1244\",\"attributes\":{\"x\":{\"type\":\"field\",\"field\":\"Happiness_Score\"},\"y\":{\"type\":\"field\",\"field\":\"GDP\"},\"size\":{\"type\":\"value\",\"value\":10},\"line_color\":{\"type\":\"value\",\"value\":\"firebrick\"},\"line_alpha\":{\"type\":\"value\",\"value\":0.5},\"fill_color\":{\"type\":\"value\",\"value\":\"firebrick\"},\"fill_alpha\":{\"type\":\"value\",\"value\":0.5},\"hatch_color\":{\"type\":\"value\",\"value\":\"firebrick\"},\"hatch_alpha\":{\"type\":\"value\",\"value\":0.5}}},\"nonselection_glyph\":{\"type\":\"object\",\"name\":\"Scatter\",\"id\":\"p1245\",\"attributes\":{\"x\":{\"type\":\"field\",\"field\":\"Happiness_Score\"},\"y\":{\"type\":\"field\",\"field\":\"GDP\"},\"size\":{\"type\":\"value\",\"value\":10},\"line_color\":{\"type\":\"value\",\"value\":\"firebrick\"},\"line_alpha\":{\"type\":\"value\",\"value\":0.1},\"fill_color\":{\"type\":\"value\",\"value\":\"firebrick\"},\"fill_alpha\":{\"type\":\"value\",\"value\":0.1},\"hatch_color\":{\"type\":\"value\",\"value\":\"firebrick\"},\"hatch_alpha\":{\"type\":\"value\",\"value\":0.1}}},\"muted_glyph\":{\"type\":\"object\",\"name\":\"Scatter\",\"id\":\"p1246\",\"attributes\":{\"x\":{\"type\":\"field\",\"field\":\"Happiness_Score\"},\"y\":{\"type\":\"field\",\"field\":\"GDP\"},\"size\":{\"type\":\"value\",\"value\":10},\"line_color\":{\"type\":\"value\",\"value\":\"firebrick\"},\"line_alpha\":{\"type\":\"value\",\"value\":0.2},\"fill_color\":{\"type\":\"value\",\"value\":\"firebrick\"},\"fill_alpha\":{\"type\":\"value\",\"value\":0.2},\"hatch_color\":{\"type\":\"value\",\"value\":\"firebrick\"},\"hatch_alpha\":{\"type\":\"value\",\"value\":0.2}}}}}],\"toolbar\":{\"type\":\"object\",\"name\":\"Toolbar\",\"id\":\"p1214\",\"attributes\":{\"tools\":[{\"type\":\"object\",\"name\":\"PanTool\",\"id\":\"p1227\"},{\"type\":\"object\",\"name\":\"WheelZoomTool\",\"id\":\"p1228\",\"attributes\":{\"renderers\":\"auto\"}},{\"type\":\"object\",\"name\":\"BoxZoomTool\",\"id\":\"p1229\",\"attributes\":{\"dimensions\":\"both\",\"overlay\":{\"type\":\"object\",\"name\":\"BoxAnnotation\",\"id\":\"p1230\",\"attributes\":{\"syncable\":false,\"line_color\":\"black\",\"line_alpha\":1.0,\"line_width\":2,\"line_dash\":[4,4],\"fill_color\":\"lightgrey\",\"fill_alpha\":0.5,\"level\":\"overlay\",\"visible\":false,\"left\":{\"type\":\"number\",\"value\":\"nan\"},\"right\":{\"type\":\"number\",\"value\":\"nan\"},\"top\":{\"type\":\"number\",\"value\":\"nan\"},\"bottom\":{\"type\":\"number\",\"value\":\"nan\"},\"left_units\":\"canvas\",\"right_units\":\"canvas\",\"top_units\":\"canvas\",\"bottom_units\":\"canvas\",\"handles\":{\"type\":\"object\",\"name\":\"BoxInteractionHandles\",\"id\":\"p1236\",\"attributes\":{\"all\":{\"type\":\"object\",\"name\":\"AreaVisuals\",\"id\":\"p1235\",\"attributes\":{\"fill_color\":\"white\",\"hover_fill_color\":\"lightgray\"}}}}}}}},{\"type\":\"object\",\"name\":\"SaveTool\",\"id\":\"p1237\"},{\"type\":\"object\",\"name\":\"ResetTool\",\"id\":\"p1238\"},{\"type\":\"object\",\"name\":\"HelpTool\",\"id\":\"p1239\"},{\"type\":\"object\",\"name\":\"HoverTool\",\"id\":\"p1240\",\"attributes\":{\"renderers\":\"auto\",\"tooltips\":[[\"Country\",\"@Country\"],[\"GDP\",\"@GDP\"],[\"Happiness Score\",\"@Happiness_Score\"]],\"sort_by\":null}}]}},\"left\":[{\"type\":\"object\",\"name\":\"LinearAxis\",\"id\":\"p1222\",\"attributes\":{\"ticker\":{\"type\":\"object\",\"name\":\"BasicTicker\",\"id\":\"p1223\",\"attributes\":{\"mantissas\":[1,2,5]}},\"formatter\":{\"type\":\"object\",\"name\":\"BasicTickFormatter\",\"id\":\"p1224\"},\"axis_label\":\"GDP per Capita\",\"major_label_policy\":{\"type\":\"object\",\"name\":\"AllLabels\",\"id\":\"p1225\"}}}],\"below\":[{\"type\":\"object\",\"name\":\"LinearAxis\",\"id\":\"p1217\",\"attributes\":{\"ticker\":{\"type\":\"object\",\"name\":\"BasicTicker\",\"id\":\"p1218\",\"attributes\":{\"mantissas\":[1,2,5]}},\"formatter\":{\"type\":\"object\",\"name\":\"BasicTickFormatter\",\"id\":\"p1219\"},\"axis_label\":\"Happiness Score\",\"major_label_policy\":{\"type\":\"object\",\"name\":\"AllLabels\",\"id\":\"p1220\"}}}],\"center\":[{\"type\":\"object\",\"name\":\"Grid\",\"id\":\"p1221\",\"attributes\":{\"axis\":{\"id\":\"p1217\"}}},{\"type\":\"object\",\"name\":\"Grid\",\"id\":\"p1226\",\"attributes\":{\"dimension\":1,\"axis\":{\"id\":\"p1222\"}}}]}}]}};\n",
       "  const render_items = [{\"docid\":\"cfb4c7de-d40c-46d3-84c3-c8fc85ddc72d\",\"roots\":{\"p1205\":\"c30d76a8-9f1b-4dc8-8b34-4d92624e78e3\"},\"root_ids\":[\"p1205\"]}];\n",
       "  void root.Bokeh.embed.embed_items_notebook(docs_json, render_items);\n",
       "  }\n",
       "  if (root.Bokeh !== undefined) {\n",
       "    embed_document(root);\n",
       "  } else {\n",
       "    let attempts = 0;\n",
       "    const timer = setInterval(function(root) {\n",
       "      if (root.Bokeh !== undefined) {\n",
       "        clearInterval(timer);\n",
       "        embed_document(root);\n",
       "      } else {\n",
       "        attempts++;\n",
       "        if (attempts > 100) {\n",
       "          clearInterval(timer);\n",
       "          console.log(\"Bokeh: ERROR: Unable to run BokehJS code because BokehJS library is missing\");\n",
       "        }\n",
       "      }\n",
       "    }, 10, root)\n",
       "  }\n",
       "})(window);"
      ],
      "application/vnd.bokehjs_exec.v0+json": ""
     },
     "metadata": {
      "application/vnd.bokehjs_exec.v0+json": {
       "id": "p1205"
      }
     },
     "output_type": "display_data"
    }
   ],
   "source": [
    "from bokeh.models import ColumnDataSource\n",
    "from bokeh.layouts import gridplot\n",
    "\n",
    "\n",
    "df = pd.read_csv('https://raw.githubusercontent.com/jfkoehler/nyu_bootcamp_fa24/refs/heads/main/data/2017.csv')\n",
    "df.rename({'Happiness.Score': 'Happiness_Score',\n",
    "           'Economy..GDP.per.Capita.': 'GDP'}, axis = 'columns', inplace = True)\n",
    "source = ColumnDataSource(df)\n",
    "tooltips = [('Country', '@Country'),\n",
    "            ('GDP', '@GDP'),\n",
    "            ('Happiness Score', '@Happiness_Score')]\n",
    "p1 = figure(title=\"Happiness and Economy\", width = 600, height = 300, tooltips = tooltips)\n",
    "p1.scatter(\"Happiness_Score\", \"GDP\", color=\"firebrick\", size = 10,\n",
    "          alpha = 0.5,\n",
    "          source=source)\n",
    "p1.xaxis[0].axis_label = \"Happiness Score\"\n",
    "p1.yaxis[0].axis_label = \"GDP per Capita\"\n",
    "\n",
    "show(p1)"
   ]
  },
  {
   "cell_type": "code",
   "execution_count": null,
   "metadata": {},
   "outputs": [],
   "source": []
  },
  {
   "cell_type": "code",
   "execution_count": null,
   "metadata": {},
   "outputs": [],
   "source": []
  },
  {
   "cell_type": "code",
   "execution_count": null,
   "metadata": {},
   "outputs": [],
   "source": []
  },
  {
   "cell_type": "code",
   "execution_count": null,
   "metadata": {},
   "outputs": [],
   "source": []
  },
  {
   "cell_type": "code",
   "execution_count": null,
   "metadata": {},
   "outputs": [],
   "source": []
  },
  {
   "cell_type": "code",
   "execution_count": null,
   "metadata": {},
   "outputs": [],
   "source": []
  },
  {
   "cell_type": "code",
   "execution_count": null,
   "metadata": {},
   "outputs": [],
   "source": []
  },
  {
   "cell_type": "code",
   "execution_count": null,
   "metadata": {},
   "outputs": [],
   "source": []
  },
  {
   "cell_type": "code",
   "execution_count": null,
   "metadata": {},
   "outputs": [],
   "source": []
  },
  {
   "cell_type": "code",
   "execution_count": null,
   "metadata": {},
   "outputs": [],
   "source": []
  },
  {
   "cell_type": "code",
   "execution_count": null,
   "metadata": {},
   "outputs": [],
   "source": []
  },
  {
   "cell_type": "code",
   "execution_count": null,
   "metadata": {},
   "outputs": [],
   "source": []
  },
  {
   "cell_type": "code",
   "execution_count": null,
   "metadata": {},
   "outputs": [],
   "source": []
  },
  {
   "cell_type": "code",
   "execution_count": null,
   "metadata": {},
   "outputs": [],
   "source": []
  },
  {
   "cell_type": "code",
   "execution_count": null,
   "metadata": {},
   "outputs": [],
   "source": []
  },
  {
   "cell_type": "code",
   "execution_count": null,
   "metadata": {},
   "outputs": [],
   "source": []
  },
  {
   "cell_type": "code",
   "execution_count": null,
   "metadata": {},
   "outputs": [],
   "source": []
  },
  {
   "cell_type": "markdown",
   "metadata": {
    "id": "yCEB4rfzpSwG"
   },
   "source": [
    "### More Complex Plotting\n",
    "\n",
    "The example below is from the documentation [here](https://docs.bokeh.org/en/latest/docs/user_guide/topics/timeseries.html#range-tool) on the `RangeTool` and how to create subplots with the `column` function.  Your job is to annotate each line of the code and explain what it is doing.  Then, use the example to write a function that takes in any `DataFrame`"
   ]
  },
  {
   "cell_type": "code",
   "execution_count": null,
   "metadata": {
    "id": "kBLbjzyepQ_k"
   },
   "outputs": [],
   "source": []
  },
  {
   "cell_type": "code",
   "execution_count": 14,
   "metadata": {
    "id": "qIVhqN52mlEz"
   },
   "outputs": [
    {
     "name": "stdout",
     "output_type": "stream",
     "text": [
      "Collecting bokeh_sampledata\n",
      "  Downloading bokeh_sampledata-2025.0-py3-none-any.whl.metadata (2.6 kB)\n",
      "Collecting icalendar (from bokeh_sampledata)\n",
      "  Downloading icalendar-6.3.1-py3-none-any.whl.metadata (9.0 kB)\n",
      "Requirement already satisfied: pandas>=1.2 in /Library/Frameworks/Python.framework/Versions/3.12/lib/python3.12/site-packages (from bokeh_sampledata) (2.2.3)\n",
      "Requirement already satisfied: numpy>=1.26.0 in /Library/Frameworks/Python.framework/Versions/3.12/lib/python3.12/site-packages (from pandas>=1.2->bokeh_sampledata) (1.26.4)\n",
      "Requirement already satisfied: python-dateutil>=2.8.2 in /Library/Frameworks/Python.framework/Versions/3.12/lib/python3.12/site-packages (from pandas>=1.2->bokeh_sampledata) (2.8.2)\n",
      "Requirement already satisfied: pytz>=2020.1 in /Library/Frameworks/Python.framework/Versions/3.12/lib/python3.12/site-packages (from pandas>=1.2->bokeh_sampledata) (2023.3.post1)\n",
      "Requirement already satisfied: tzdata>=2022.7 in /Library/Frameworks/Python.framework/Versions/3.12/lib/python3.12/site-packages (from pandas>=1.2->bokeh_sampledata) (2023.3)\n",
      "Requirement already satisfied: six>=1.5 in /Library/Frameworks/Python.framework/Versions/3.12/lib/python3.12/site-packages (from python-dateutil>=2.8.2->pandas>=1.2->bokeh_sampledata) (1.16.0)\n",
      "Downloading bokeh_sampledata-2025.0-py3-none-any.whl (17.7 MB)\n",
      "\u001b[2K   \u001b[90m━━━━━━━━━━━━━━━━━━━━━━━━━━━━━━━━━━━━━━━━\u001b[0m \u001b[32m17.7/17.7 MB\u001b[0m \u001b[31m43.6 MB/s\u001b[0m eta \u001b[36m0:00:00\u001b[0m00:01\u001b[0m0:01\u001b[0m\n",
      "\u001b[?25hDownloading icalendar-6.3.1-py3-none-any.whl (242 kB)\n",
      "Installing collected packages: icalendar, bokeh_sampledata\n",
      "Successfully installed bokeh_sampledata-2025.0 icalendar-6.3.1\n",
      "\n",
      "\u001b[1m[\u001b[0m\u001b[34;49mnotice\u001b[0m\u001b[1;39;49m]\u001b[0m\u001b[39;49m A new release of pip is available: \u001b[0m\u001b[31;49m24.3.1\u001b[0m\u001b[39;49m -> \u001b[0m\u001b[32;49m25.2\u001b[0m\n",
      "\u001b[1m[\u001b[0m\u001b[34;49mnotice\u001b[0m\u001b[1;39;49m]\u001b[0m\u001b[39;49m To update, run: \u001b[0m\u001b[32;49mpip install --upgrade pip\u001b[0m\n",
      "Note: you may need to restart the kernel to use updated packages.\n"
     ]
    }
   ],
   "source": [
    "pip install bokeh_sampledata"
   ]
  },
  {
   "cell_type": "code",
   "execution_count": 15,
   "metadata": {
    "id": "BeEBbrpYm7x1"
   },
   "outputs": [],
   "source": [
    "from bokeh.sampledata.stocks import GOOG"
   ]
  },
  {
   "cell_type": "code",
   "execution_count": 16,
   "metadata": {
    "id": "W5dEVxztnZHw"
   },
   "outputs": [],
   "source": [
    "goog = pd.DataFrame(GOOG)"
   ]
  },
  {
   "cell_type": "code",
   "execution_count": 17,
   "metadata": {
    "colab": {
     "base_uri": "https://localhost:8080/",
     "height": 206
    },
    "id": "9X7kRf3nm7ut",
    "outputId": "c9cfa572-322c-4b6d-9033-1827deb01614"
   },
   "outputs": [
    {
     "data": {
      "text/html": [
       "<div>\n",
       "<style scoped>\n",
       "    .dataframe tbody tr th:only-of-type {\n",
       "        vertical-align: middle;\n",
       "    }\n",
       "\n",
       "    .dataframe tbody tr th {\n",
       "        vertical-align: top;\n",
       "    }\n",
       "\n",
       "    .dataframe thead th {\n",
       "        text-align: right;\n",
       "    }\n",
       "</style>\n",
       "<table border=\"1\" class=\"dataframe\">\n",
       "  <thead>\n",
       "    <tr style=\"text-align: right;\">\n",
       "      <th></th>\n",
       "      <th>date</th>\n",
       "      <th>open</th>\n",
       "      <th>high</th>\n",
       "      <th>low</th>\n",
       "      <th>close</th>\n",
       "      <th>volume</th>\n",
       "      <th>adj_close</th>\n",
       "    </tr>\n",
       "  </thead>\n",
       "  <tbody>\n",
       "    <tr>\n",
       "      <th>0</th>\n",
       "      <td>2004-08-19</td>\n",
       "      <td>100.00</td>\n",
       "      <td>104.06</td>\n",
       "      <td>95.96</td>\n",
       "      <td>100.34</td>\n",
       "      <td>22351900</td>\n",
       "      <td>100.34</td>\n",
       "    </tr>\n",
       "    <tr>\n",
       "      <th>1</th>\n",
       "      <td>2004-08-20</td>\n",
       "      <td>101.01</td>\n",
       "      <td>109.08</td>\n",
       "      <td>100.50</td>\n",
       "      <td>108.31</td>\n",
       "      <td>11428600</td>\n",
       "      <td>108.31</td>\n",
       "    </tr>\n",
       "    <tr>\n",
       "      <th>2</th>\n",
       "      <td>2004-08-23</td>\n",
       "      <td>110.75</td>\n",
       "      <td>113.48</td>\n",
       "      <td>109.05</td>\n",
       "      <td>109.40</td>\n",
       "      <td>9137200</td>\n",
       "      <td>109.40</td>\n",
       "    </tr>\n",
       "    <tr>\n",
       "      <th>3</th>\n",
       "      <td>2004-08-24</td>\n",
       "      <td>111.24</td>\n",
       "      <td>111.60</td>\n",
       "      <td>103.57</td>\n",
       "      <td>104.87</td>\n",
       "      <td>7631300</td>\n",
       "      <td>104.87</td>\n",
       "    </tr>\n",
       "    <tr>\n",
       "      <th>4</th>\n",
       "      <td>2004-08-25</td>\n",
       "      <td>104.96</td>\n",
       "      <td>108.00</td>\n",
       "      <td>103.88</td>\n",
       "      <td>106.00</td>\n",
       "      <td>4598900</td>\n",
       "      <td>106.00</td>\n",
       "    </tr>\n",
       "  </tbody>\n",
       "</table>\n",
       "</div>"
      ],
      "text/plain": [
       "         date    open    high     low   close    volume  adj_close\n",
       "0  2004-08-19  100.00  104.06   95.96  100.34  22351900     100.34\n",
       "1  2004-08-20  101.01  109.08  100.50  108.31  11428600     108.31\n",
       "2  2004-08-23  110.75  113.48  109.05  109.40   9137200     109.40\n",
       "3  2004-08-24  111.24  111.60  103.57  104.87   7631300     104.87\n",
       "4  2004-08-25  104.96  108.00  103.88  106.00   4598900     106.00"
      ]
     },
     "execution_count": 17,
     "metadata": {},
     "output_type": "execute_result"
    }
   ],
   "source": [
    "goog.head()"
   ]
  },
  {
   "cell_type": "code",
   "execution_count": 18,
   "metadata": {
    "id": "yA0EfaGRoGcm"
   },
   "outputs": [],
   "source": [
    "from bokeh.layouts import column\n",
    "from bokeh.models import RangeTool"
   ]
  },
  {
   "cell_type": "code",
   "execution_count": 19,
   "metadata": {
    "colab": {
     "base_uri": "https://localhost:8080/",
     "height": 467
    },
    "id": "WLMbLQ7nm7oN",
    "outputId": "1bf8ce7a-fbb6-435b-aa82-85d1be472b57"
   },
   "outputs": [
    {
     "data": {
      "text/html": [
       "\n",
       "  <div id=\"e8845869-0f7c-4f23-b4bc-81bbc8bf9a7e\" data-root-id=\"p1365\" style=\"display: contents;\"></div>\n"
      ]
     },
     "metadata": {},
     "output_type": "display_data"
    },
    {
     "data": {
      "application/javascript": [
       "(function(root) {\n",
       "  function embed_document(root) {\n",
       "  const docs_json = {\"43075368-46d6-46e8-8244-023420baf799\":{\"version\":\"3.8.0\",\"title\":\"Bokeh Application\",\"config\":{\"type\":\"object\",\"name\":\"DocumentConfig\",\"id\":\"p1366\",\"attributes\":{\"notifications\":{\"type\":\"object\",\"name\":\"Notifications\",\"id\":\"p1367\"}}},\"roots\":[{\"type\":\"object\",\"name\":\"Column\",\"id\":\"p1365\",\"attributes\":{\"children\":[{\"type\":\"object\",\"name\":\"Figure\",\"id\":\"p1267\",\"attributes\":{\"width\":800,\"height\":300,\"x_range\":{\"type\":\"object\",\"name\":\"Range1d\",\"id\":\"p1276\",\"attributes\":{\"start\":1155513600000.0,\"end\":1218153600000.0}},\"y_range\":{\"type\":\"object\",\"name\":\"DataRange1d\",\"id\":\"p1269\"},\"x_scale\":{\"type\":\"object\",\"name\":\"LinearScale\",\"id\":\"p1277\"},\"y_scale\":{\"type\":\"object\",\"name\":\"LinearScale\",\"id\":\"p1278\"},\"title\":{\"type\":\"object\",\"name\":\"Title\",\"id\":\"p1274\"},\"renderers\":[{\"type\":\"object\",\"name\":\"GlyphRenderer\",\"id\":\"p1310\",\"attributes\":{\"data_source\":{\"type\":\"object\",\"name\":\"ColumnDataSource\",\"id\":\"p1264\",\"attributes\":{\"selected\":{\"type\":\"object\",\"name\":\"Selection\",\"id\":\"p1265\",\"attributes\":{\"indices\":[],\"line_indices\":[]}},\"selection_policy\":{\"type\":\"object\",\"name\":\"UnionRenderers\",\"id\":\"p1266\"},\"data\":{\"type\":\"map\",\"entries\":[[\"date\",{\"type\":\"ndarray\",\"array\":{\"type\":\"bytes\",\"data\":\"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\"},\"shape\":[2148],\"dtype\":\"float64\",\"order\":\"little\"}],[\"close\",{\"type\":\"ndarray\",\"array\":{\"type\":\"bytes\",\"data\":\"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\"},\"shape\":[2148],\"dtype\":\"float64\",\"order\":\"little\"}]]}}},\"view\":{\"type\":\"object\",\"name\":\"CDSView\",\"id\":\"p1311\",\"attributes\":{\"filter\":{\"type\":\"object\",\"name\":\"AllIndices\",\"id\":\"p1312\"}}},\"glyph\":{\"type\":\"object\",\"name\":\"Line\",\"id\":\"p1307\",\"attributes\":{\"x\":{\"type\":\"field\",\"field\":\"date\"},\"y\":{\"type\":\"field\",\"field\":\"close\"},\"line_color\":\"#1f77b4\"}},\"nonselection_glyph\":{\"type\":\"object\",\"name\":\"Line\",\"id\":\"p1308\",\"attributes\":{\"x\":{\"type\":\"field\",\"field\":\"date\"},\"y\":{\"type\":\"field\",\"field\":\"close\"},\"line_color\":\"#1f77b4\",\"line_alpha\":0.1}},\"muted_glyph\":{\"type\":\"object\",\"name\":\"Line\",\"id\":\"p1309\",\"attributes\":{\"x\":{\"type\":\"field\",\"field\":\"date\"},\"y\":{\"type\":\"field\",\"field\":\"close\"},\"line_color\":\"#1f77b4\",\"line_alpha\":0.2}}}}],\"toolbar\":{\"type\":\"object\",\"name\":\"Toolbar\",\"id\":\"p1275\",\"attributes\":{\"tools\":[{\"type\":\"object\",\"name\":\"PanTool\",\"id\":\"p1303\",\"attributes\":{\"dimensions\":\"width\"}}]}},\"toolbar_location\":null,\"left\":[{\"type\":\"object\",\"name\":\"LinearAxis\",\"id\":\"p1298\",\"attributes\":{\"ticker\":{\"type\":\"object\",\"name\":\"BasicTicker\",\"id\":\"p1299\",\"attributes\":{\"mantissas\":[1,2,5]}},\"formatter\":{\"type\":\"object\",\"name\":\"BasicTickFormatter\",\"id\":\"p1300\"},\"axis_label\":\"Price\",\"major_label_policy\":{\"type\":\"object\",\"name\":\"AllLabels\",\"id\":\"p1301\"}}}],\"above\":[{\"type\":\"object\",\"name\":\"DatetimeAxis\",\"id\":\"p1279\",\"attributes\":{\"ticker\":{\"type\":\"object\",\"name\":\"DatetimeTicker\",\"id\":\"p1280\",\"attributes\":{\"num_minor_ticks\":5,\"tickers\":[{\"type\":\"object\",\"name\":\"AdaptiveTicker\",\"id\":\"p1281\",\"attributes\":{\"num_minor_ticks\":0,\"mantissas\":[1,2,5],\"max_interval\":500.0}},{\"type\":\"object\",\"name\":\"AdaptiveTicker\",\"id\":\"p1282\",\"attributes\":{\"num_minor_ticks\":0,\"base\":60,\"mantissas\":[1,2,5,10,15,20,30],\"min_interval\":1000.0,\"max_interval\":1800000.0}},{\"type\":\"object\",\"name\":\"AdaptiveTicker\",\"id\":\"p1283\",\"attributes\":{\"num_minor_ticks\":0,\"base\":24,\"mantissas\":[1,2,4,6,8,12],\"min_interval\":3600000.0,\"max_interval\":43200000.0}},{\"type\":\"object\",\"name\":\"DaysTicker\",\"id\":\"p1284\",\"attributes\":{\"days\":[1,2,3,4,5,6,7,8,9,10,11,12,13,14,15,16,17,18,19,20,21,22,23,24,25,26,27,28,29,30,31]}},{\"type\":\"object\",\"name\":\"DaysTicker\",\"id\":\"p1285\",\"attributes\":{\"days\":[1,4,7,10,13,16,19,22,25,28]}},{\"type\":\"object\",\"name\":\"DaysTicker\",\"id\":\"p1286\",\"attributes\":{\"days\":[1,8,15,22]}},{\"type\":\"object\",\"name\":\"DaysTicker\",\"id\":\"p1287\",\"attributes\":{\"days\":[1,15]}},{\"type\":\"object\",\"name\":\"MonthsTicker\",\"id\":\"p1288\",\"attributes\":{\"months\":[0,1,2,3,4,5,6,7,8,9,10,11]}},{\"type\":\"object\",\"name\":\"MonthsTicker\",\"id\":\"p1289\",\"attributes\":{\"months\":[0,2,4,6,8,10]}},{\"type\":\"object\",\"name\":\"MonthsTicker\",\"id\":\"p1290\",\"attributes\":{\"months\":[0,4,8]}},{\"type\":\"object\",\"name\":\"MonthsTicker\",\"id\":\"p1291\",\"attributes\":{\"months\":[0,6]}},{\"type\":\"object\",\"name\":\"YearsTicker\",\"id\":\"p1292\"}]}},\"formatter\":{\"type\":\"object\",\"name\":\"DatetimeTickFormatter\",\"id\":\"p1295\",\"attributes\":{\"seconds\":\"%T\",\"minsec\":\"%T\",\"minutes\":\"%H:%M\",\"hours\":\"%H:%M\",\"days\":\"%b %d\",\"months\":\"%b %Y\",\"strip_leading_zeros\":[\"microseconds\",\"milliseconds\",\"seconds\"],\"boundary_scaling\":false,\"context\":{\"type\":\"object\",\"name\":\"DatetimeTickFormatter\",\"id\":\"p1294\",\"attributes\":{\"microseconds\":\"%T\",\"milliseconds\":\"%T\",\"seconds\":\"%b %d, %Y\",\"minsec\":\"%b %d, %Y\",\"minutes\":\"%b %d, %Y\",\"hourmin\":\"%b %d, %Y\",\"hours\":\"%b %d, %Y\",\"days\":\"%Y\",\"months\":\"\",\"years\":\"\",\"boundary_scaling\":false,\"hide_repeats\":true,\"context\":{\"type\":\"object\",\"name\":\"DatetimeTickFormatter\",\"id\":\"p1293\",\"attributes\":{\"microseconds\":\"%b %d, %Y\",\"milliseconds\":\"%b %d, %Y\",\"seconds\":\"\",\"minsec\":\"\",\"minutes\":\"\",\"hourmin\":\"\",\"hours\":\"\",\"days\":\"\",\"months\":\"\",\"years\":\"\",\"boundary_scaling\":false,\"hide_repeats\":true}},\"context_which\":\"all\"}},\"context_which\":\"all\"}},\"major_label_policy\":{\"type\":\"object\",\"name\":\"AllLabels\",\"id\":\"p1296\"}}}],\"center\":[{\"type\":\"object\",\"name\":\"Grid\",\"id\":\"p1297\",\"attributes\":{\"axis\":{\"id\":\"p1279\"}}},{\"type\":\"object\",\"name\":\"Grid\",\"id\":\"p1302\",\"attributes\":{\"dimension\":1,\"axis\":{\"id\":\"p1298\"}}}],\"background_fill_color\":\"#efefef\"}},{\"type\":\"object\",\"name\":\"Figure\",\"id\":\"p1313\",\"attributes\":{\"width\":800,\"height\":130,\"x_range\":{\"type\":\"object\",\"name\":\"DataRange1d\",\"id\":\"p1315\"},\"y_range\":{\"id\":\"p1269\"},\"x_scale\":{\"type\":\"object\",\"name\":\"LinearScale\",\"id\":\"p1323\"},\"y_scale\":{\"type\":\"object\",\"name\":\"LinearScale\",\"id\":\"p1324\"},\"title\":{\"type\":\"object\",\"name\":\"Title\",\"id\":\"p1316\",\"attributes\":{\"text\":\"Drag the middle and edges of the selection box to change the range above\"}},\"renderers\":[{\"type\":\"object\",\"name\":\"GlyphRenderer\",\"id\":\"p1362\",\"attributes\":{\"data_source\":{\"id\":\"p1264\"},\"view\":{\"type\":\"object\",\"name\":\"CDSView\",\"id\":\"p1363\",\"attributes\":{\"filter\":{\"type\":\"object\",\"name\":\"AllIndices\",\"id\":\"p1364\"}}},\"glyph\":{\"type\":\"object\",\"name\":\"Line\",\"id\":\"p1359\",\"attributes\":{\"x\":{\"type\":\"field\",\"field\":\"date\"},\"y\":{\"type\":\"field\",\"field\":\"close\"},\"line_color\":\"#1f77b4\"}},\"nonselection_glyph\":{\"type\":\"object\",\"name\":\"Line\",\"id\":\"p1360\",\"attributes\":{\"x\":{\"type\":\"field\",\"field\":\"date\"},\"y\":{\"type\":\"field\",\"field\":\"close\"},\"line_color\":\"#1f77b4\",\"line_alpha\":0.1}},\"muted_glyph\":{\"type\":\"object\",\"name\":\"Line\",\"id\":\"p1361\",\"attributes\":{\"x\":{\"type\":\"field\",\"field\":\"date\"},\"y\":{\"type\":\"field\",\"field\":\"close\"},\"line_color\":\"#1f77b4\",\"line_alpha\":0.2}}}}],\"toolbar\":{\"type\":\"object\",\"name\":\"Toolbar\",\"id\":\"p1322\",\"attributes\":{\"tools\":[{\"type\":\"object\",\"name\":\"RangeTool\",\"id\":\"p1344\",\"attributes\":{\"x_range\":{\"id\":\"p1276\"},\"overlay\":{\"type\":\"object\",\"name\":\"BoxAnnotation\",\"id\":\"p1349\",\"attributes\":{\"syncable\":false,\"line_color\":\"black\",\"line_alpha\":1.0,\"line_width\":0.5,\"line_dash\":[2,2],\"fill_color\":\"navy\",\"fill_alpha\":0.2,\"level\":\"overlay\",\"propagate_hover\":true,\"left\":{\"type\":\"number\",\"value\":\"nan\"},\"right\":{\"type\":\"number\",\"value\":\"nan\"},\"top\":{\"type\":\"number\",\"value\":\"nan\"},\"bottom\":{\"type\":\"number\",\"value\":\"nan\"},\"left_limit\":{\"type\":\"object\",\"name\":\"Node\",\"id\":\"p1345\",\"attributes\":{\"target\":\"frame\",\"symbol\":\"left\"}},\"right_limit\":{\"type\":\"object\",\"name\":\"Node\",\"id\":\"p1346\",\"attributes\":{\"target\":\"frame\",\"symbol\":\"right\"}},\"top_limit\":{\"type\":\"object\",\"name\":\"Node\",\"id\":\"p1347\",\"attributes\":{\"target\":\"frame\",\"symbol\":\"top\"}},\"bottom_limit\":{\"type\":\"object\",\"name\":\"Node\",\"id\":\"p1348\",\"attributes\":{\"target\":\"frame\",\"symbol\":\"bottom\"}},\"editable\":true,\"handles\":{\"type\":\"object\",\"name\":\"BoxInteractionHandles\",\"id\":\"p1355\",\"attributes\":{\"all\":{\"type\":\"object\",\"name\":\"AreaVisuals\",\"id\":\"p1354\",\"attributes\":{\"fill_color\":\"white\",\"hover_fill_color\":\"lightgray\"}}}}}}}}]}},\"toolbar_location\":null,\"below\":[{\"type\":\"object\",\"name\":\"DatetimeAxis\",\"id\":\"p1325\",\"attributes\":{\"ticker\":{\"type\":\"object\",\"name\":\"DatetimeTicker\",\"id\":\"p1326\",\"attributes\":{\"num_minor_ticks\":5,\"tickers\":[{\"type\":\"object\",\"name\":\"AdaptiveTicker\",\"id\":\"p1327\",\"attributes\":{\"num_minor_ticks\":0,\"mantissas\":[1,2,5],\"max_interval\":500.0}},{\"type\":\"object\",\"name\":\"AdaptiveTicker\",\"id\":\"p1328\",\"attributes\":{\"num_minor_ticks\":0,\"base\":60,\"mantissas\":[1,2,5,10,15,20,30],\"min_interval\":1000.0,\"max_interval\":1800000.0}},{\"type\":\"object\",\"name\":\"AdaptiveTicker\",\"id\":\"p1329\",\"attributes\":{\"num_minor_ticks\":0,\"base\":24,\"mantissas\":[1,2,4,6,8,12],\"min_interval\":3600000.0,\"max_interval\":43200000.0}},{\"type\":\"object\",\"name\":\"DaysTicker\",\"id\":\"p1330\",\"attributes\":{\"days\":[1,2,3,4,5,6,7,8,9,10,11,12,13,14,15,16,17,18,19,20,21,22,23,24,25,26,27,28,29,30,31]}},{\"type\":\"object\",\"name\":\"DaysTicker\",\"id\":\"p1331\",\"attributes\":{\"days\":[1,4,7,10,13,16,19,22,25,28]}},{\"type\":\"object\",\"name\":\"DaysTicker\",\"id\":\"p1332\",\"attributes\":{\"days\":[1,8,15,22]}},{\"type\":\"object\",\"name\":\"DaysTicker\",\"id\":\"p1333\",\"attributes\":{\"days\":[1,15]}},{\"type\":\"object\",\"name\":\"MonthsTicker\",\"id\":\"p1334\",\"attributes\":{\"months\":[0,1,2,3,4,5,6,7,8,9,10,11]}},{\"type\":\"object\",\"name\":\"MonthsTicker\",\"id\":\"p1335\",\"attributes\":{\"months\":[0,2,4,6,8,10]}},{\"type\":\"object\",\"name\":\"MonthsTicker\",\"id\":\"p1336\",\"attributes\":{\"months\":[0,4,8]}},{\"type\":\"object\",\"name\":\"MonthsTicker\",\"id\":\"p1337\",\"attributes\":{\"months\":[0,6]}},{\"type\":\"object\",\"name\":\"YearsTicker\",\"id\":\"p1338\"}]}},\"formatter\":{\"type\":\"object\",\"name\":\"DatetimeTickFormatter\",\"id\":\"p1341\",\"attributes\":{\"seconds\":\"%T\",\"minsec\":\"%T\",\"minutes\":\"%H:%M\",\"hours\":\"%H:%M\",\"days\":\"%b %d\",\"months\":\"%b %Y\",\"strip_leading_zeros\":[\"microseconds\",\"milliseconds\",\"seconds\"],\"boundary_scaling\":false,\"context\":{\"type\":\"object\",\"name\":\"DatetimeTickFormatter\",\"id\":\"p1340\",\"attributes\":{\"microseconds\":\"%T\",\"milliseconds\":\"%T\",\"seconds\":\"%b %d, %Y\",\"minsec\":\"%b %d, %Y\",\"minutes\":\"%b %d, %Y\",\"hourmin\":\"%b %d, %Y\",\"hours\":\"%b %d, %Y\",\"days\":\"%Y\",\"months\":\"\",\"years\":\"\",\"boundary_scaling\":false,\"hide_repeats\":true,\"context\":{\"type\":\"object\",\"name\":\"DatetimeTickFormatter\",\"id\":\"p1339\",\"attributes\":{\"microseconds\":\"%b %d, %Y\",\"milliseconds\":\"%b %d, %Y\",\"seconds\":\"\",\"minsec\":\"\",\"minutes\":\"\",\"hourmin\":\"\",\"hours\":\"\",\"days\":\"\",\"months\":\"\",\"years\":\"\",\"boundary_scaling\":false,\"hide_repeats\":true}},\"context_which\":\"all\"}},\"context_which\":\"all\"}},\"major_label_policy\":{\"type\":\"object\",\"name\":\"AllLabels\",\"id\":\"p1342\"}}}],\"center\":[{\"type\":\"object\",\"name\":\"Grid\",\"id\":\"p1343\",\"attributes\":{\"axis\":{\"id\":\"p1325\"}}}],\"background_fill_color\":\"#efefef\"}}]}}]}};\n",
       "  const render_items = [{\"docid\":\"43075368-46d6-46e8-8244-023420baf799\",\"roots\":{\"p1365\":\"e8845869-0f7c-4f23-b4bc-81bbc8bf9a7e\"},\"root_ids\":[\"p1365\"]}];\n",
       "  void root.Bokeh.embed.embed_items_notebook(docs_json, render_items);\n",
       "  }\n",
       "  if (root.Bokeh !== undefined) {\n",
       "    embed_document(root);\n",
       "  } else {\n",
       "    let attempts = 0;\n",
       "    const timer = setInterval(function(root) {\n",
       "      if (root.Bokeh !== undefined) {\n",
       "        clearInterval(timer);\n",
       "        embed_document(root);\n",
       "      } else {\n",
       "        attempts++;\n",
       "        if (attempts > 100) {\n",
       "          clearInterval(timer);\n",
       "          console.log(\"Bokeh: ERROR: Unable to run BokehJS code because BokehJS library is missing\");\n",
       "        }\n",
       "      }\n",
       "    }, 10, root)\n",
       "  }\n",
       "})(window);"
      ],
      "application/vnd.bokehjs_exec.v0+json": ""
     },
     "metadata": {
      "application/vnd.bokehjs_exec.v0+json": {
       "id": "p1365"
      }
     },
     "output_type": "display_data"
    }
   ],
   "source": [
    "dates = np.array(goog['date'], dtype=np.datetime64)\n",
    "source = ColumnDataSource(data=dict(date=dates, close=goog['adj_close']))\n",
    "\n",
    "p = figure(height=300, width=800, tools=\"xpan\", toolbar_location=None,\n",
    "           x_axis_type=\"datetime\", x_axis_location=\"above\",\n",
    "           background_fill_color=\"#efefef\", x_range=(dates[500], dates[1000]))\n",
    "\n",
    "p.line('date', 'close', source=source)\n",
    "p.yaxis.axis_label = 'Price'\n",
    "\n",
    "select = figure(title=\"Drag the middle and edges of the selection box to change the range above\",\n",
    "                height=130, width=800, y_range=p.y_range,\n",
    "                x_axis_type=\"datetime\", y_axis_type=None,\n",
    "                tools=\"\", toolbar_location=None, background_fill_color=\"#efefef\")\n",
    "\n",
    "range_tool = RangeTool(x_range=p.x_range)\n",
    "range_tool.overlay.fill_color = \"navy\"\n",
    "range_tool.overlay.fill_alpha = 0.2\n",
    "\n",
    "select.line('date', 'close', source=source)\n",
    "select.ygrid.grid_line_color = None\n",
    "select.add_tools(range_tool)\n",
    "\n",
    "show(column(p, select))"
   ]
  },
  {
   "cell_type": "markdown",
   "metadata": {
    "id": "P2IEB0cG7S43"
   },
   "source": [
    "#### Candlestick Charts\n",
    "\n",
    "A popular tool in financial visualizations are **Candlestick Charts**.  These show the distribution of prices over a unit of time for a stock.  Below, a candlestick chart is created for Microsoft stock data.  Your task is to add commentary for each line of code, explaining what each line is doing.  Then, modularize the code in a function to use the **Alpha Vantage** api where the function takes in a ticker symbol and optional start and stop dates, returning a candlestick chart of the ticker."
   ]
  },
  {
   "cell_type": "code",
   "execution_count": 20,
   "metadata": {
    "colab": {
     "base_uri": "https://localhost:8080/",
     "height": 437
    },
    "id": "gfS4FGGZoPkH",
    "outputId": "36ce8500-ec4f-4fae-f72b-4a9c2be5c701"
   },
   "outputs": [
    {
     "data": {
      "text/html": [
       "\n",
       "  <div id=\"f03d76b8-41ef-49e2-9bbb-1d74531e5e11\" data-root-id=\"p1370\" style=\"display: contents;\"></div>\n"
      ]
     },
     "metadata": {},
     "output_type": "display_data"
    },
    {
     "data": {
      "application/javascript": [
       "(function(root) {\n",
       "  function embed_document(root) {\n",
       "  const docs_json = {\"4183b95d-84f9-4f13-965d-41a1e1d3262a\":{\"version\":\"3.8.0\",\"title\":\"Bokeh Application\",\"config\":{\"type\":\"object\",\"name\":\"DocumentConfig\",\"id\":\"p1536\",\"attributes\":{\"notifications\":{\"type\":\"object\",\"name\":\"Notifications\",\"id\":\"p1537\"}}},\"roots\":[{\"type\":\"object\",\"name\":\"Figure\",\"id\":\"p1370\",\"attributes\":{\"width\":1000,\"height\":400,\"x_range\":{\"type\":\"object\",\"name\":\"DataRange1d\",\"id\":\"p1371\"},\"y_range\":{\"type\":\"object\",\"name\":\"DataRange1d\",\"id\":\"p1372\"},\"x_scale\":{\"type\":\"object\",\"name\":\"LinearScale\",\"id\":\"p1380\"},\"y_scale\":{\"type\":\"object\",\"name\":\"LinearScale\",\"id\":\"p1381\"},\"title\":{\"type\":\"object\",\"name\":\"Title\",\"id\":\"p1373\",\"attributes\":{\"text\":\"MSFT Candlestick\"}},\"renderers\":[{\"type\":\"object\",\"name\":\"BoxAnnotation\",\"id\":\"p1418\",\"attributes\":{\"fill_color\":\"#bbbbbb\",\"fill_alpha\":0.2,\"left\":959385600000.0,\"right\":959644800000.0,\"top\":{\"type\":\"object\",\"name\":\"Node\",\"id\":\"p1421\",\"attributes\":{\"target\":\"frame\",\"symbol\":\"top\"}},\"bottom\":{\"type\":\"object\",\"name\":\"Node\",\"id\":\"p1422\",\"attributes\":{\"target\":\"frame\",\"symbol\":\"bottom\"}},\"handles\":{\"type\":\"object\",\"name\":\"BoxInteractionHandles\",\"id\":\"p1424\",\"attributes\":{\"all\":{\"type\":\"object\",\"name\":\"AreaVisuals\",\"id\":\"p1423\",\"attributes\":{\"fill_color\":\"white\",\"hover_fill_color\":\"lightgray\"}}}}}},{\"type\":\"object\",\"name\":\"BoxAnnotation\",\"id\":\"p1425\",\"attributes\":{\"fill_color\":\"#bbbbbb\",\"fill_alpha\":0.2,\"left\":959990400000.0,\"right\":960163200000.0,\"top\":{\"type\":\"object\",\"name\":\"Node\",\"id\":\"p1428\",\"attributes\":{\"target\":\"frame\",\"symbol\":\"top\"}},\"bottom\":{\"type\":\"object\",\"name\":\"Node\",\"id\":\"p1429\",\"attributes\":{\"target\":\"frame\",\"symbol\":\"bottom\"}},\"handles\":{\"type\":\"object\",\"name\":\"BoxInteractionHandles\",\"id\":\"p1431\",\"attributes\":{\"all\":{\"type\":\"object\",\"name\":\"AreaVisuals\",\"id\":\"p1430\",\"attributes\":{\"fill_color\":\"white\",\"hover_fill_color\":\"lightgray\"}}}}}},{\"type\":\"object\",\"name\":\"BoxAnnotation\",\"id\":\"p1432\",\"attributes\":{\"fill_color\":\"#bbbbbb\",\"fill_alpha\":0.2,\"left\":960595200000.0,\"right\":960768000000.0,\"top\":{\"type\":\"object\",\"name\":\"Node\",\"id\":\"p1435\",\"attributes\":{\"target\":\"frame\",\"symbol\":\"top\"}},\"bottom\":{\"type\":\"object\",\"name\":\"Node\",\"id\":\"p1436\",\"attributes\":{\"target\":\"frame\",\"symbol\":\"bottom\"}},\"handles\":{\"type\":\"object\",\"name\":\"BoxInteractionHandles\",\"id\":\"p1438\",\"attributes\":{\"all\":{\"type\":\"object\",\"name\":\"AreaVisuals\",\"id\":\"p1437\",\"attributes\":{\"fill_color\":\"white\",\"hover_fill_color\":\"lightgray\"}}}}}},{\"type\":\"object\",\"name\":\"BoxAnnotation\",\"id\":\"p1439\",\"attributes\":{\"fill_color\":\"#bbbbbb\",\"fill_alpha\":0.2,\"left\":961200000000.0,\"right\":961372800000.0,\"top\":{\"type\":\"object\",\"name\":\"Node\",\"id\":\"p1442\",\"attributes\":{\"target\":\"frame\",\"symbol\":\"top\"}},\"bottom\":{\"type\":\"object\",\"name\":\"Node\",\"id\":\"p1443\",\"attributes\":{\"target\":\"frame\",\"symbol\":\"bottom\"}},\"handles\":{\"type\":\"object\",\"name\":\"BoxInteractionHandles\",\"id\":\"p1445\",\"attributes\":{\"all\":{\"type\":\"object\",\"name\":\"AreaVisuals\",\"id\":\"p1444\",\"attributes\":{\"fill_color\":\"white\",\"hover_fill_color\":\"lightgray\"}}}}}},{\"type\":\"object\",\"name\":\"BoxAnnotation\",\"id\":\"p1446\",\"attributes\":{\"fill_color\":\"#bbbbbb\",\"fill_alpha\":0.2,\"left\":961804800000.0,\"right\":961977600000.0,\"top\":{\"type\":\"object\",\"name\":\"Node\",\"id\":\"p1449\",\"attributes\":{\"target\":\"frame\",\"symbol\":\"top\"}},\"bottom\":{\"type\":\"object\",\"name\":\"Node\",\"id\":\"p1450\",\"attributes\":{\"target\":\"frame\",\"symbol\":\"bottom\"}},\"handles\":{\"type\":\"object\",\"name\":\"BoxInteractionHandles\",\"id\":\"p1452\",\"attributes\":{\"all\":{\"type\":\"object\",\"name\":\"AreaVisuals\",\"id\":\"p1451\",\"attributes\":{\"fill_color\":\"white\",\"hover_fill_color\":\"lightgray\"}}}}}},{\"type\":\"object\",\"name\":\"BoxAnnotation\",\"id\":\"p1453\",\"attributes\":{\"fill_color\":\"#bbbbbb\",\"fill_alpha\":0.2,\"left\":962409600000.0,\"right\":962582400000.0,\"top\":{\"type\":\"object\",\"name\":\"Node\",\"id\":\"p1456\",\"attributes\":{\"target\":\"frame\",\"symbol\":\"top\"}},\"bottom\":{\"type\":\"object\",\"name\":\"Node\",\"id\":\"p1457\",\"attributes\":{\"target\":\"frame\",\"symbol\":\"bottom\"}},\"handles\":{\"type\":\"object\",\"name\":\"BoxInteractionHandles\",\"id\":\"p1459\",\"attributes\":{\"all\":{\"type\":\"object\",\"name\":\"AreaVisuals\",\"id\":\"p1458\",\"attributes\":{\"fill_color\":\"white\",\"hover_fill_color\":\"lightgray\"}}}}}},{\"type\":\"object\",\"name\":\"BoxAnnotation\",\"id\":\"p1460\",\"attributes\":{\"fill_color\":\"#bbbbbb\",\"fill_alpha\":0.2,\"left\":962668800000.0,\"right\":962755200000.0,\"top\":{\"type\":\"object\",\"name\":\"Node\",\"id\":\"p1463\",\"attributes\":{\"target\":\"frame\",\"symbol\":\"top\"}},\"bottom\":{\"type\":\"object\",\"name\":\"Node\",\"id\":\"p1464\",\"attributes\":{\"target\":\"frame\",\"symbol\":\"bottom\"}},\"handles\":{\"type\":\"object\",\"name\":\"BoxInteractionHandles\",\"id\":\"p1466\",\"attributes\":{\"all\":{\"type\":\"object\",\"name\":\"AreaVisuals\",\"id\":\"p1465\",\"attributes\":{\"fill_color\":\"white\",\"hover_fill_color\":\"lightgray\"}}}}}},{\"type\":\"object\",\"name\":\"BoxAnnotation\",\"id\":\"p1467\",\"attributes\":{\"fill_color\":\"#bbbbbb\",\"fill_alpha\":0.2,\"left\":963014400000.0,\"right\":963187200000.0,\"top\":{\"type\":\"object\",\"name\":\"Node\",\"id\":\"p1470\",\"attributes\":{\"target\":\"frame\",\"symbol\":\"top\"}},\"bottom\":{\"type\":\"object\",\"name\":\"Node\",\"id\":\"p1471\",\"attributes\":{\"target\":\"frame\",\"symbol\":\"bottom\"}},\"handles\":{\"type\":\"object\",\"name\":\"BoxInteractionHandles\",\"id\":\"p1473\",\"attributes\":{\"all\":{\"type\":\"object\",\"name\":\"AreaVisuals\",\"id\":\"p1472\",\"attributes\":{\"fill_color\":\"white\",\"hover_fill_color\":\"lightgray\"}}}}}},{\"type\":\"object\",\"name\":\"BoxAnnotation\",\"id\":\"p1474\",\"attributes\":{\"fill_color\":\"#bbbbbb\",\"fill_alpha\":0.2,\"left\":963619200000.0,\"right\":963792000000.0,\"top\":{\"type\":\"object\",\"name\":\"Node\",\"id\":\"p1477\",\"attributes\":{\"target\":\"frame\",\"symbol\":\"top\"}},\"bottom\":{\"type\":\"object\",\"name\":\"Node\",\"id\":\"p1478\",\"attributes\":{\"target\":\"frame\",\"symbol\":\"bottom\"}},\"handles\":{\"type\":\"object\",\"name\":\"BoxInteractionHandles\",\"id\":\"p1480\",\"attributes\":{\"all\":{\"type\":\"object\",\"name\":\"AreaVisuals\",\"id\":\"p1479\",\"attributes\":{\"fill_color\":\"white\",\"hover_fill_color\":\"lightgray\"}}}}}},{\"type\":\"object\",\"name\":\"BoxAnnotation\",\"id\":\"p1481\",\"attributes\":{\"fill_color\":\"#bbbbbb\",\"fill_alpha\":0.2,\"left\":964224000000.0,\"right\":964396800000.0,\"top\":{\"type\":\"object\",\"name\":\"Node\",\"id\":\"p1484\",\"attributes\":{\"target\":\"frame\",\"symbol\":\"top\"}},\"bottom\":{\"type\":\"object\",\"name\":\"Node\",\"id\":\"p1485\",\"attributes\":{\"target\":\"frame\",\"symbol\":\"bottom\"}},\"handles\":{\"type\":\"object\",\"name\":\"BoxInteractionHandles\",\"id\":\"p1487\",\"attributes\":{\"all\":{\"type\":\"object\",\"name\":\"AreaVisuals\",\"id\":\"p1486\",\"attributes\":{\"fill_color\":\"white\",\"hover_fill_color\":\"lightgray\"}}}}}},{\"type\":\"object\",\"name\":\"BoxAnnotation\",\"id\":\"p1488\",\"attributes\":{\"fill_color\":\"#bbbbbb\",\"fill_alpha\":0.2,\"left\":964828800000.0,\"right\":965001600000.0,\"top\":{\"type\":\"object\",\"name\":\"Node\",\"id\":\"p1491\",\"attributes\":{\"target\":\"frame\",\"symbol\":\"top\"}},\"bottom\":{\"type\":\"object\",\"name\":\"Node\",\"id\":\"p1492\",\"attributes\":{\"target\":\"frame\",\"symbol\":\"bottom\"}},\"handles\":{\"type\":\"object\",\"name\":\"BoxInteractionHandles\",\"id\":\"p1494\",\"attributes\":{\"all\":{\"type\":\"object\",\"name\":\"AreaVisuals\",\"id\":\"p1493\",\"attributes\":{\"fill_color\":\"white\",\"hover_fill_color\":\"lightgray\"}}}}}},{\"type\":\"object\",\"name\":\"BoxAnnotation\",\"id\":\"p1495\",\"attributes\":{\"fill_color\":\"#bbbbbb\",\"fill_alpha\":0.2,\"left\":965433600000.0,\"right\":965606400000.0,\"top\":{\"type\":\"object\",\"name\":\"Node\",\"id\":\"p1498\",\"attributes\":{\"target\":\"frame\",\"symbol\":\"top\"}},\"bottom\":{\"type\":\"object\",\"name\":\"Node\",\"id\":\"p1499\",\"attributes\":{\"target\":\"frame\",\"symbol\":\"bottom\"}},\"handles\":{\"type\":\"object\",\"name\":\"BoxInteractionHandles\",\"id\":\"p1501\",\"attributes\":{\"all\":{\"type\":\"object\",\"name\":\"AreaVisuals\",\"id\":\"p1500\",\"attributes\":{\"fill_color\":\"white\",\"hover_fill_color\":\"lightgray\"}}}}}},{\"type\":\"object\",\"name\":\"BoxAnnotation\",\"id\":\"p1502\",\"attributes\":{\"fill_color\":\"#bbbbbb\",\"fill_alpha\":0.2,\"left\":966038400000.0,\"right\":966211200000.0,\"top\":{\"type\":\"object\",\"name\":\"Node\",\"id\":\"p1505\",\"attributes\":{\"target\":\"frame\",\"symbol\":\"top\"}},\"bottom\":{\"type\":\"object\",\"name\":\"Node\",\"id\":\"p1506\",\"attributes\":{\"target\":\"frame\",\"symbol\":\"bottom\"}},\"handles\":{\"type\":\"object\",\"name\":\"BoxInteractionHandles\",\"id\":\"p1508\",\"attributes\":{\"all\":{\"type\":\"object\",\"name\":\"AreaVisuals\",\"id\":\"p1507\",\"attributes\":{\"fill_color\":\"white\",\"hover_fill_color\":\"lightgray\"}}}}}},{\"type\":\"object\",\"name\":\"GlyphRenderer\",\"id\":\"p1515\",\"attributes\":{\"data_source\":{\"type\":\"object\",\"name\":\"ColumnDataSource\",\"id\":\"p1509\",\"attributes\":{\"selected\":{\"type\":\"object\",\"name\":\"Selection\",\"id\":\"p1510\",\"attributes\":{\"indices\":[],\"line_indices\":[]}},\"selection_policy\":{\"type\":\"object\",\"name\":\"UnionRenderers\",\"id\":\"p1511\"},\"data\":{\"type\":\"map\",\"entries\":[[\"x0\",{\"type\":\"ndarray\",\"array\":{\"type\":\"bytes\",\"data\":\"H4sIAAEAAAAC/yXITSjDcRyA8f+GtdE2jFk2L5PDHLSVWslLXy8HctnNaQehZFK7Oe1EqZUiBzswJVKWEgeS/E4rZTcnp0mRMIvlbYQ9Tk+fR9PUWtF9qFfTZHL7vysdmULVaJqKd+4Jf7ZkcdDxjD0nVHIjL/jUkMPRHaoeY6/4qPsNz15TCcy/Y2frB44483hQUake/8Jp0zdO7FJlWf3Blz3aVMGbN1TCUR3u9OlxvL6Y+idK+DqzAaf2qPKuG3G+34STd1SWFkpxsK0MK7cZR5NUhkMW3FRuxZkDqgIbFdg1UIlvH6jsL9pwxF+Fr5rtOHFGZWa6BvfZHNh6SFV4qxZ3DTmxMUvlYtmF4+11WO9pwKlzKrFwIx6zu7Hv+K+/U/cgcuABAAA=\"},\"shape\":[60],\"dtype\":\"float64\",\"order\":\"little\"}],[\"y0\",{\"type\":\"ndarray\",\"array\":{\"type\":\"bytes\",\"data\":\"H4sIAAEAAAAC/2NgAAKDAIdCW67riwP8HTweVomsYw9wmDUTCG76O4CkGRoCIPSGAIi8eCCELg+EikP57EEOMf2HvmrkQMUdoDQDlD4QCJHXCYKodw9yWFIAtLg4CCJ/Aaq/JwRqbwhEnjkEaj6ChomD1e8JhtqDpv57MNQ9UP52qHww1HwFKO0QAtcPpj4EQ9Q9hpr7AEonBMPdCfFPENzfMP9B1EHDoz0QYs5nKP84lN8MDYc5UPHpiPCEqQPLr4Gavx0aTs1BqOEXDrXXAUoLQGkGqLo7gQ4AjjmjeuABAAA=\"},\"shape\":[60],\"dtype\":\"float64\",\"order\":\"little\"}],[\"x1\",{\"type\":\"ndarray\",\"array\":{\"type\":\"bytes\",\"data\":\"H4sIAAEAAAAC/yXITSjDcRyA8f+GtdE2jFk2L5PDHLSVWslLXy8HctnNaQehZFK7Oe1EqZUiBzswJVKWEgeS/E4rZTcnp0mRMIvlbYQ9Tk+fR9PUWtF9qFfTZHL7vysdmULVaJqKd+4Jf7ZkcdDxjD0nVHIjL/jUkMPRHaoeY6/4qPsNz15TCcy/Y2frB44483hQUake/8Jp0zdO7FJlWf3Blz3aVMGbN1TCUR3u9OlxvL6Y+idK+DqzAaf2qPKuG3G+34STd1SWFkpxsK0MK7cZR5NUhkMW3FRuxZkDqgIbFdg1UIlvH6jsL9pwxF+Fr5rtOHFGZWa6BvfZHNh6SFV4qxZ3DTmxMUvlYtmF4+11WO9pwKlzKrFwIx6zu7Hv+K+/U/cgcuABAAA=\"},\"shape\":[60],\"dtype\":\"float64\",\"order\":\"little\"}],[\"y1\",{\"type\":\"ndarray\",\"array\":{\"type\":\"bytes\",\"data\":\"H4sIAAEAAAAC/yu05bq+eIKfQyGINvBzYAADfwePh1Ui69ih9HN/iLhDAIRuCHBYUgDU8DkAIn8cKi4QCBEXDoSIT4fKt0PlE6DiywMh/AdQmiEIQhcEOcT0H/qqYRMMMedyMNReKJ0QDDUXSi+HqnMOhujTgYpfh6qfAKUXQNUph6DKL4Dq84HqC4fy5yDsA/NjoPqNgyDq3KH0d6j7G6D+EofyL0D9+wDq/3SoeEAgxDweKF8Bqo8dTbwAzVx3aPh8gPKfQ+nriHAEu28xgobpBwByVw374AEAAA==\"},\"shape\":[60],\"dtype\":\"float64\",\"order\":\"little\"}]]}}},\"view\":{\"type\":\"object\",\"name\":\"CDSView\",\"id\":\"p1516\",\"attributes\":{\"filter\":{\"type\":\"object\",\"name\":\"AllIndices\",\"id\":\"p1517\"}}},\"glyph\":{\"type\":\"object\",\"name\":\"Segment\",\"id\":\"p1512\",\"attributes\":{\"x0\":{\"type\":\"field\",\"field\":\"x0\"},\"y0\":{\"type\":\"field\",\"field\":\"y0\"},\"x1\":{\"type\":\"field\",\"field\":\"x1\"},\"y1\":{\"type\":\"field\",\"field\":\"y1\"}}},\"nonselection_glyph\":{\"type\":\"object\",\"name\":\"Segment\",\"id\":\"p1513\",\"attributes\":{\"x0\":{\"type\":\"field\",\"field\":\"x0\"},\"y0\":{\"type\":\"field\",\"field\":\"y0\"},\"x1\":{\"type\":\"field\",\"field\":\"x1\"},\"y1\":{\"type\":\"field\",\"field\":\"y1\"},\"line_alpha\":{\"type\":\"value\",\"value\":0.1}}},\"muted_glyph\":{\"type\":\"object\",\"name\":\"Segment\",\"id\":\"p1514\",\"attributes\":{\"x0\":{\"type\":\"field\",\"field\":\"x0\"},\"y0\":{\"type\":\"field\",\"field\":\"y0\"},\"x1\":{\"type\":\"field\",\"field\":\"x1\"},\"y1\":{\"type\":\"field\",\"field\":\"y1\"},\"line_alpha\":{\"type\":\"value\",\"value\":0.2}}}}},{\"type\":\"object\",\"name\":\"GlyphRenderer\",\"id\":\"p1524\",\"attributes\":{\"data_source\":{\"type\":\"object\",\"name\":\"ColumnDataSource\",\"id\":\"p1518\",\"attributes\":{\"selected\":{\"type\":\"object\",\"name\":\"Selection\",\"id\":\"p1519\",\"attributes\":{\"indices\":[],\"line_indices\":[]}},\"selection_policy\":{\"type\":\"object\",\"name\":\"UnionRenderers\",\"id\":\"p1520\"},\"data\":{\"type\":\"map\",\"entries\":[[\"x\",{\"type\":\"ndarray\",\"array\":{\"type\":\"bytes\",\"data\":\"H4sIAAEAAAAC/2NgODCP+XW2EwODQ9YKMH0g+cE7ML2f7QtYvHs1mD7wduY3MC2t+xNMP+D8C5Zfsw5C33JkyAGJL30Gph0KuxnBtFkGK1hcfwEHmI415gaLH1DkBdPh2Xxg+t0WfrB8wGJBMF/GQwjMf/4GQteZiYDFH6qIgflrToJpB/4dEmB+4TIpMP/KFBkwzaQhDxY/ewZMO8wsVADTBrsVc5wAlrjYjfgAAAA=\"},\"shape\":[31],\"dtype\":\"float64\",\"order\":\"little\"}],[\"top\",{\"type\":\"ndarray\",\"array\":{\"type\":\"bytes\",\"data\":\"H4sIAAEAAAAC/1tSYMt1XTnAweNhlcg6dn+HoB1yra8v+jssAYk/DoSIpwc6MICAA5SvHgShw0McYvoPfdX4EwyRvwClD0DpCcEQdd+DIep0QiDiDxDyYHuYofwNQVA+lN4cCKGdAyH690DpHihdA6VjEOJg9cVQ/cJBEHMZoO79DnX/8UAHAEtYw674AAAA\"},\"shape\":[31],\"dtype\":\"float64\",\"order\":\"little\"}],[\"bottom\",{\"type\":\"ndarray\",\"array\":{\"type\":\"bytes\",\"data\":\"H4sIAAEAAAAC/2NgAIIDfg475FpfB+7wc/B4WCWyzt3fYUmBLdd140A4DRbfHgDhKwdB+N+DHWL6D33VyAmGiG+G8vdAaZ9gB5DxDAug/Dto8j3BUPuCIPqFofTiQIg+B6j9nwOg9kD5xYEQvg7UXe5Q9Q1QvnoQRJ4H6s7nUPkDCBoA4qbsS/gAAAA=\"},\"shape\":[31],\"dtype\":\"float64\",\"order\":\"little\"}]]}}},\"view\":{\"type\":\"object\",\"name\":\"CDSView\",\"id\":\"p1525\",\"attributes\":{\"filter\":{\"type\":\"object\",\"name\":\"AllIndices\",\"id\":\"p1526\"}}},\"glyph\":{\"type\":\"object\",\"name\":\"VBar\",\"id\":\"p1521\",\"attributes\":{\"x\":{\"type\":\"field\",\"field\":\"x\"},\"width\":{\"type\":\"value\",\"value\":57600000.0},\"bottom\":{\"type\":\"field\",\"field\":\"bottom\"},\"top\":{\"type\":\"field\",\"field\":\"top\"},\"line_color\":{\"type\":\"value\",\"value\":\"#eb3c40\"},\"fill_color\":{\"type\":\"value\",\"value\":\"#eb3c40\"},\"hatch_color\":{\"type\":\"value\",\"value\":\"#eb3c40\"}}},\"nonselection_glyph\":{\"type\":\"object\",\"name\":\"VBar\",\"id\":\"p1522\",\"attributes\":{\"x\":{\"type\":\"field\",\"field\":\"x\"},\"width\":{\"type\":\"value\",\"value\":57600000.0},\"bottom\":{\"type\":\"field\",\"field\":\"bottom\"},\"top\":{\"type\":\"field\",\"field\":\"top\"},\"line_color\":{\"type\":\"value\",\"value\":\"#eb3c40\"},\"line_alpha\":{\"type\":\"value\",\"value\":0.1},\"fill_color\":{\"type\":\"value\",\"value\":\"#eb3c40\"},\"fill_alpha\":{\"type\":\"value\",\"value\":0.1},\"hatch_color\":{\"type\":\"value\",\"value\":\"#eb3c40\"},\"hatch_alpha\":{\"type\":\"value\",\"value\":0.1}}},\"muted_glyph\":{\"type\":\"object\",\"name\":\"VBar\",\"id\":\"p1523\",\"attributes\":{\"x\":{\"type\":\"field\",\"field\":\"x\"},\"width\":{\"type\":\"value\",\"value\":57600000.0},\"bottom\":{\"type\":\"field\",\"field\":\"bottom\"},\"top\":{\"type\":\"field\",\"field\":\"top\"},\"line_color\":{\"type\":\"value\",\"value\":\"#eb3c40\"},\"line_alpha\":{\"type\":\"value\",\"value\":0.2},\"fill_color\":{\"type\":\"value\",\"value\":\"#eb3c40\"},\"fill_alpha\":{\"type\":\"value\",\"value\":0.2},\"hatch_color\":{\"type\":\"value\",\"value\":\"#eb3c40\"},\"hatch_alpha\":{\"type\":\"value\",\"value\":0.2}}}}},{\"type\":\"object\",\"name\":\"GlyphRenderer\",\"id\":\"p1533\",\"attributes\":{\"data_source\":{\"type\":\"object\",\"name\":\"ColumnDataSource\",\"id\":\"p1527\",\"attributes\":{\"selected\":{\"type\":\"object\",\"name\":\"Selection\",\"id\":\"p1528\",\"attributes\":{\"indices\":[],\"line_indices\":[]}},\"selection_policy\":{\"type\":\"object\",\"name\":\"UnionRenderers\",\"id\":\"p1529\"},\"data\":{\"type\":\"map\",\"entries\":[[\"x\",{\"type\":\"ndarray\",\"array\":{\"type\":\"bytes\",\"data\":\"H4sIAAEAAAAC/2NgcJhh/S7biYHBQb/1PYg+8EvzA5gfK/EJzNfYC6YdviR+BtM77b6DxVseg2mHgI4fYLpO+jdY3PMAmHYQTf0D5vPN/Q+mbQyYckDi8+VYQPQBRl42MP/sRgj924UTLH7sJZh2mNTHBeZ3H+MF00oC/GDxzROFwXRFnjhY3FlYAsy39ZYG8zk+QOgUMcUcJwAYBcmG4AAAAA==\"},\"shape\":[28],\"dtype\":\"float64\",\"order\":\"little\"}],[\"top\",{\"type\":\"ndarray\",\"array\":{\"type\":\"bytes\",\"data\":\"H4sIAAEAAAAC/9sh1/o60MLfweNhlcg68QAHBhBoCHAAcd0bAxxi+g991eAJhIgHQOkNAQ5LCmy5rhcHQujNUFo5CGJOeRBEnUMwhE4Ihsg7B0PMexMMUbc9GGJPYAjUHKj6CcFwPlhdOlRfDNT871D7lQPh7gPzm6HuK4CqOx7oAADwaIoT4AAAAA==\"},\"shape\":[28],\"dtype\":\"float64\",\"order\":\"little\"}],[\"bottom\",{\"type\":\"ndarray\",\"array\":{\"type\":\"bytes\",\"data\":\"H4sIAAEAAAAC/yu05bq+eIO/w5ICIEM5AEJPDnDweFglsm47lE4PdGAAgQWBEP73AFS+eJBDTP+hrxo5UHoPlNYJgah7EAyhGULgNFjeBspvCIGYczwYYr8wVP4PVN8CqPjmIIi68EA4DZafAOW3B0H5QRD1jwMdAPygY0HgAAAA\"},\"shape\":[28],\"dtype\":\"float64\",\"order\":\"little\"}]]}}},\"view\":{\"type\":\"object\",\"name\":\"CDSView\",\"id\":\"p1534\",\"attributes\":{\"filter\":{\"type\":\"object\",\"name\":\"AllIndices\",\"id\":\"p1535\"}}},\"glyph\":{\"type\":\"object\",\"name\":\"VBar\",\"id\":\"p1530\",\"attributes\":{\"x\":{\"type\":\"field\",\"field\":\"x\"},\"width\":{\"type\":\"value\",\"value\":57600000.0},\"bottom\":{\"type\":\"field\",\"field\":\"bottom\"},\"top\":{\"type\":\"field\",\"field\":\"top\"},\"line_color\":{\"type\":\"value\",\"value\":\"#49a3a3\"},\"line_width\":{\"type\":\"value\",\"value\":2},\"fill_color\":{\"type\":\"value\",\"value\":\"white\"}}},\"nonselection_glyph\":{\"type\":\"object\",\"name\":\"VBar\",\"id\":\"p1531\",\"attributes\":{\"x\":{\"type\":\"field\",\"field\":\"x\"},\"width\":{\"type\":\"value\",\"value\":57600000.0},\"bottom\":{\"type\":\"field\",\"field\":\"bottom\"},\"top\":{\"type\":\"field\",\"field\":\"top\"},\"line_color\":{\"type\":\"value\",\"value\":\"#49a3a3\"},\"line_alpha\":{\"type\":\"value\",\"value\":0.1},\"line_width\":{\"type\":\"value\",\"value\":2},\"fill_color\":{\"type\":\"value\",\"value\":\"white\"},\"fill_alpha\":{\"type\":\"value\",\"value\":0.1},\"hatch_alpha\":{\"type\":\"value\",\"value\":0.1}}},\"muted_glyph\":{\"type\":\"object\",\"name\":\"VBar\",\"id\":\"p1532\",\"attributes\":{\"x\":{\"type\":\"field\",\"field\":\"x\"},\"width\":{\"type\":\"value\",\"value\":57600000.0},\"bottom\":{\"type\":\"field\",\"field\":\"bottom\"},\"top\":{\"type\":\"field\",\"field\":\"top\"},\"line_color\":{\"type\":\"value\",\"value\":\"#49a3a3\"},\"line_alpha\":{\"type\":\"value\",\"value\":0.2},\"line_width\":{\"type\":\"value\",\"value\":2},\"fill_color\":{\"type\":\"value\",\"value\":\"white\"},\"fill_alpha\":{\"type\":\"value\",\"value\":0.2},\"hatch_alpha\":{\"type\":\"value\",\"value\":0.2}}}}}],\"toolbar\":{\"type\":\"object\",\"name\":\"Toolbar\",\"id\":\"p1379\",\"attributes\":{\"tools\":[{\"type\":\"object\",\"name\":\"PanTool\",\"id\":\"p1406\"},{\"type\":\"object\",\"name\":\"WheelZoomTool\",\"id\":\"p1407\",\"attributes\":{\"renderers\":\"auto\"}},{\"type\":\"object\",\"name\":\"BoxZoomTool\",\"id\":\"p1408\",\"attributes\":{\"dimensions\":\"both\",\"overlay\":{\"type\":\"object\",\"name\":\"BoxAnnotation\",\"id\":\"p1409\",\"attributes\":{\"syncable\":false,\"line_color\":\"black\",\"line_alpha\":1.0,\"line_width\":2,\"line_dash\":[4,4],\"fill_color\":\"lightgrey\",\"fill_alpha\":0.5,\"level\":\"overlay\",\"visible\":false,\"left\":{\"type\":\"number\",\"value\":\"nan\"},\"right\":{\"type\":\"number\",\"value\":\"nan\"},\"top\":{\"type\":\"number\",\"value\":\"nan\"},\"bottom\":{\"type\":\"number\",\"value\":\"nan\"},\"left_units\":\"canvas\",\"right_units\":\"canvas\",\"top_units\":\"canvas\",\"bottom_units\":\"canvas\",\"handles\":{\"type\":\"object\",\"name\":\"BoxInteractionHandles\",\"id\":\"p1415\",\"attributes\":{\"all\":{\"type\":\"object\",\"name\":\"AreaVisuals\",\"id\":\"p1414\",\"attributes\":{\"fill_color\":\"white\",\"hover_fill_color\":\"lightgray\"}}}}}}}},{\"type\":\"object\",\"name\":\"ResetTool\",\"id\":\"p1416\"},{\"type\":\"object\",\"name\":\"SaveTool\",\"id\":\"p1417\"}]}},\"left\":[{\"type\":\"object\",\"name\":\"LinearAxis\",\"id\":\"p1401\",\"attributes\":{\"ticker\":{\"type\":\"object\",\"name\":\"BasicTicker\",\"id\":\"p1402\",\"attributes\":{\"mantissas\":[1,2,5]}},\"formatter\":{\"type\":\"object\",\"name\":\"BasicTickFormatter\",\"id\":\"p1403\"},\"major_label_policy\":{\"type\":\"object\",\"name\":\"AllLabels\",\"id\":\"p1404\"}}}],\"below\":[{\"type\":\"object\",\"name\":\"DatetimeAxis\",\"id\":\"p1382\",\"attributes\":{\"ticker\":{\"type\":\"object\",\"name\":\"DatetimeTicker\",\"id\":\"p1383\",\"attributes\":{\"num_minor_ticks\":5,\"tickers\":[{\"type\":\"object\",\"name\":\"AdaptiveTicker\",\"id\":\"p1384\",\"attributes\":{\"num_minor_ticks\":0,\"mantissas\":[1,2,5],\"max_interval\":500.0}},{\"type\":\"object\",\"name\":\"AdaptiveTicker\",\"id\":\"p1385\",\"attributes\":{\"num_minor_ticks\":0,\"base\":60,\"mantissas\":[1,2,5,10,15,20,30],\"min_interval\":1000.0,\"max_interval\":1800000.0}},{\"type\":\"object\",\"name\":\"AdaptiveTicker\",\"id\":\"p1386\",\"attributes\":{\"num_minor_ticks\":0,\"base\":24,\"mantissas\":[1,2,4,6,8,12],\"min_interval\":3600000.0,\"max_interval\":43200000.0}},{\"type\":\"object\",\"name\":\"DaysTicker\",\"id\":\"p1387\",\"attributes\":{\"days\":[1,2,3,4,5,6,7,8,9,10,11,12,13,14,15,16,17,18,19,20,21,22,23,24,25,26,27,28,29,30,31]}},{\"type\":\"object\",\"name\":\"DaysTicker\",\"id\":\"p1388\",\"attributes\":{\"days\":[1,4,7,10,13,16,19,22,25,28]}},{\"type\":\"object\",\"name\":\"DaysTicker\",\"id\":\"p1389\",\"attributes\":{\"days\":[1,8,15,22]}},{\"type\":\"object\",\"name\":\"DaysTicker\",\"id\":\"p1390\",\"attributes\":{\"days\":[1,15]}},{\"type\":\"object\",\"name\":\"MonthsTicker\",\"id\":\"p1391\",\"attributes\":{\"months\":[0,1,2,3,4,5,6,7,8,9,10,11]}},{\"type\":\"object\",\"name\":\"MonthsTicker\",\"id\":\"p1392\",\"attributes\":{\"months\":[0,2,4,6,8,10]}},{\"type\":\"object\",\"name\":\"MonthsTicker\",\"id\":\"p1393\",\"attributes\":{\"months\":[0,4,8]}},{\"type\":\"object\",\"name\":\"MonthsTicker\",\"id\":\"p1394\",\"attributes\":{\"months\":[0,6]}},{\"type\":\"object\",\"name\":\"YearsTicker\",\"id\":\"p1395\"}]}},\"formatter\":{\"type\":\"object\",\"name\":\"DatetimeTickFormatter\",\"id\":\"p1398\",\"attributes\":{\"seconds\":\"%T\",\"minsec\":\"%T\",\"minutes\":\"%H:%M\",\"hours\":\"%H:%M\",\"days\":\"%b %d\",\"months\":\"%b %Y\",\"strip_leading_zeros\":[\"microseconds\",\"milliseconds\",\"seconds\"],\"boundary_scaling\":false,\"context\":{\"type\":\"object\",\"name\":\"DatetimeTickFormatter\",\"id\":\"p1397\",\"attributes\":{\"microseconds\":\"%T\",\"milliseconds\":\"%T\",\"seconds\":\"%b %d, %Y\",\"minsec\":\"%b %d, %Y\",\"minutes\":\"%b %d, %Y\",\"hourmin\":\"%b %d, %Y\",\"hours\":\"%b %d, %Y\",\"days\":\"%Y\",\"months\":\"\",\"years\":\"\",\"boundary_scaling\":false,\"hide_repeats\":true,\"context\":{\"type\":\"object\",\"name\":\"DatetimeTickFormatter\",\"id\":\"p1396\",\"attributes\":{\"microseconds\":\"%b %d, %Y\",\"milliseconds\":\"%b %d, %Y\",\"seconds\":\"\",\"minsec\":\"\",\"minutes\":\"\",\"hourmin\":\"\",\"hours\":\"\",\"days\":\"\",\"months\":\"\",\"years\":\"\",\"boundary_scaling\":false,\"hide_repeats\":true}},\"context_which\":\"all\"}},\"context_which\":\"all\"}},\"major_label_orientation\":0.8,\"major_label_policy\":{\"type\":\"object\",\"name\":\"AllLabels\",\"id\":\"p1399\"}}}],\"center\":[{\"type\":\"object\",\"name\":\"Grid\",\"id\":\"p1400\",\"attributes\":{\"axis\":{\"id\":\"p1382\"}}},{\"type\":\"object\",\"name\":\"Grid\",\"id\":\"p1405\",\"attributes\":{\"dimension\":1,\"axis\":{\"id\":\"p1401\"}}}],\"background_fill_color\":\"#efefef\"}}]}};\n",
       "  const render_items = [{\"docid\":\"4183b95d-84f9-4f13-965d-41a1e1d3262a\",\"roots\":{\"p1370\":\"f03d76b8-41ef-49e2-9bbb-1d74531e5e11\"},\"root_ids\":[\"p1370\"]}];\n",
       "  void root.Bokeh.embed.embed_items_notebook(docs_json, render_items);\n",
       "  }\n",
       "  if (root.Bokeh !== undefined) {\n",
       "    embed_document(root);\n",
       "  } else {\n",
       "    let attempts = 0;\n",
       "    const timer = setInterval(function(root) {\n",
       "      if (root.Bokeh !== undefined) {\n",
       "        clearInterval(timer);\n",
       "        embed_document(root);\n",
       "      } else {\n",
       "        attempts++;\n",
       "        if (attempts > 100) {\n",
       "          clearInterval(timer);\n",
       "          console.log(\"Bokeh: ERROR: Unable to run BokehJS code because BokehJS library is missing\");\n",
       "        }\n",
       "      }\n",
       "    }, 10, root)\n",
       "  }\n",
       "})(window);"
      ],
      "application/vnd.bokehjs_exec.v0+json": ""
     },
     "metadata": {
      "application/vnd.bokehjs_exec.v0+json": {
       "id": "p1370"
      }
     },
     "output_type": "display_data"
    }
   ],
   "source": [
    "import pandas as pd\n",
    "\n",
    "from bokeh.models import BoxAnnotation\n",
    "from bokeh.plotting import figure, show\n",
    "from bokeh.sampledata.stocks import MSFT\n",
    "\n",
    "df = pd.DataFrame(MSFT)[60:120]\n",
    "df[\"date\"] = pd.to_datetime(df[\"date\"])\n",
    "\n",
    "inc = df.close > df.open\n",
    "dec = df.open > df.close\n",
    "\n",
    "non_working_days = df[['date']].assign(diff=df['date'].diff()-pd.Timedelta('1D'))\n",
    "non_working_days = non_working_days[non_working_days['diff']>=pd.Timedelta('1D')]\n",
    "\n",
    "df['date'] += pd.Timedelta('12h') # move candles to the center of the day\n",
    "\n",
    "TOOLS = \"pan,wheel_zoom,box_zoom,reset,save\"\n",
    "\n",
    "p = figure(x_axis_type=\"datetime\", tools=TOOLS, width=1000, height=400,\n",
    "           title=\"MSFT Candlestick\", background_fill_color=\"#efefef\")\n",
    "p.xaxis.major_label_orientation = 0.8 # radians\n",
    "\n",
    "boxes = [\n",
    "    BoxAnnotation(fill_color=\"#bbbbbb\", fill_alpha=0.2, left=date-diff, right=date)\n",
    "    for date, diff in non_working_days.values\n",
    "]\n",
    "p.renderers.extend(boxes)\n",
    "\n",
    "p.segment(df.date, df.high, df.date, df.low, color=\"black\")\n",
    "\n",
    "p.vbar(df.date[dec], pd.Timedelta('16h'), df.open[dec], df.close[dec], color=\"#eb3c40\")\n",
    "p.vbar(df.date[inc], pd.Timedelta('16h'), df.open[inc], df.close[inc], fill_color=\"white\",\n",
    "       line_color=\"#49a3a3\", line_width=2)\n",
    "\n",
    "show(p)"
   ]
  },
  {
   "cell_type": "code",
   "execution_count": null,
   "metadata": {
    "id": "FgHX-1VnoPgf"
   },
   "outputs": [],
   "source": []
  },
  {
   "cell_type": "code",
   "execution_count": null,
   "metadata": {
    "id": "JMg7F3wZoPdW"
   },
   "outputs": [],
   "source": []
  },
  {
   "cell_type": "code",
   "execution_count": null,
   "metadata": {
    "id": "hLY0Q7o1oPZ8"
   },
   "outputs": [],
   "source": []
  },
  {
   "cell_type": "code",
   "execution_count": null,
   "metadata": {
    "id": "X3CMqRBcmg7n"
   },
   "outputs": [],
   "source": []
  },
  {
   "cell_type": "code",
   "execution_count": null,
   "metadata": {
    "id": "MiTtSPdYmg3-"
   },
   "outputs": [],
   "source": []
  },
  {
   "cell_type": "code",
   "execution_count": null,
   "metadata": {
    "id": "v9jcfKBGdRQ0",
    "outputId": "535a564c-9701-4567-e229-06b3ba7988ca"
   },
   "outputs": [
    {
     "data": {
      "text/html": [
       "\n",
       "\n",
       "\n",
       "\n",
       "\n",
       "\n",
       "  <div class=\"bk-root\" id=\"8ed7ec67-498d-45b5-b829-969a1a7036b5\" data-root-id=\"1327\"></div>\n"
      ]
     },
     "metadata": {},
     "output_type": "display_data"
    },
    {
     "data": {
      "application/javascript": [
       "(function(root) {\n",
       "  function embed_document(root) {\n",
       "    \n",
       "  var docs_json = {\"047114c6-49be-41eb-a891-bfabc591865b\":{\"roots\":{\"references\":[{\"attributes\":{\"below\":[{\"id\":\"1338\"}],\"center\":[{\"id\":\"1341\"},{\"id\":\"1345\"}],\"left\":[{\"id\":\"1342\"}],\"plot_height\":300,\"renderers\":[{\"id\":\"1363\"}],\"title\":{\"id\":\"1328\"},\"toolbar\":{\"id\":\"1353\"},\"x_range\":{\"id\":\"1330\"},\"x_scale\":{\"id\":\"1334\"},\"y_range\":{\"id\":\"1332\"},\"y_scale\":{\"id\":\"1336\"}},\"id\":\"1327\",\"subtype\":\"Figure\",\"type\":\"Plot\"},{\"attributes\":{},\"id\":\"1346\",\"type\":\"PanTool\"},{\"attributes\":{},\"id\":\"1336\",\"type\":\"LinearScale\"},{\"attributes\":{\"source\":{\"id\":\"1326\"}},\"id\":\"1364\",\"type\":\"CDSView\"},{\"attributes\":{\"text\":\"Happiness and Economy\"},\"id\":\"1328\",\"type\":\"Title\"},{\"attributes\":{},\"id\":\"1349\",\"type\":\"SaveTool\"},{\"attributes\":{\"axis_label\":\"GDP per Capita\",\"formatter\":{\"id\":\"1396\"},\"ticker\":{\"id\":\"1343\"}},\"id\":\"1342\",\"type\":\"LinearAxis\"},{\"attributes\":{\"fill_alpha\":{\"value\":0.1},\"fill_color\":{\"value\":\"firebrick\"},\"line_alpha\":{\"value\":0.1},\"line_color\":{\"value\":\"firebrick\"},\"size\":{\"units\":\"screen\",\"value\":10},\"x\":{\"field\":\"Happiness Score\"},\"y\":{\"field\":\"Economy (GDP per Capita)\"}},\"id\":\"1362\",\"type\":\"Circle\"},{\"attributes\":{\"data\":{\"Country\":[\"Switzerland\",\"Iceland\",\"Denmark\",\"Norway\",\"Canada\",\"Finland\",\"Netherlands\",\"Sweden\",\"New Zealand\",\"Australia\",\"Israel\",\"Costa Rica\",\"Austria\",\"Mexico\",\"United States\",\"Brazil\",\"Luxembourg\",\"Ireland\",\"Belgium\",\"United Arab Emirates\",\"United Kingdom\",\"Oman\",\"Venezuela\",\"Singapore\",\"Panama\",\"Germany\",\"Chile\",\"Qatar\",\"France\",\"Argentina\",\"Czech Republic\",\"Uruguay\",\"Colombia\",\"Thailand\",\"Saudi Arabia\",\"Spain\",\"Malta\",\"Taiwan\",\"Kuwait\",\"Suriname\",\"Trinidad and Tobago\",\"El Salvador\",\"Guatemala\",\"Uzbekistan\",\"Slovakia\",\"Japan\",\"South Korea\",\"Ecuador\",\"Bahrain\",\"Italy\",\"Bolivia\",\"Moldova\",\"Paraguay\",\"Kazakhstan\",\"Slovenia\",\"Lithuania\",\"Nicaragua\",\"Peru\",\"Belarus\",\"Poland\",\"Malaysia\",\"Croatia\",\"Libya\",\"Russia\",\"Jamaica\",\"North Cyprus\",\"Cyprus\",\"Algeria\",\"Kosovo\",\"Turkmenistan\",\"Mauritius\",\"Hong Kong\",\"Estonia\",\"Indonesia\",\"Vietnam\",\"Turkey\",\"Kyrgyzstan\",\"Nigeria\",\"Bhutan\",\"Azerbaijan\",\"Pakistan\",\"Jordan\",\"Montenegro\",\"China\",\"Zambia\",\"Romania\",\"Serbia\",\"Portugal\",\"Latvia\",\"Philippines\",\"Somaliland region\",\"Morocco\",\"Macedonia\",\"Mozambique\",\"Albania\",\"Bosnia and Herzegovina\",\"Lesotho\",\"Dominican Republic\",\"Laos\",\"Mongolia\",\"Swaziland\",\"Greece\",\"Lebanon\",\"Hungary\",\"Honduras\",\"Tajikistan\",\"Tunisia\",\"Palestinian Territories\",\"Bangladesh\",\"Iran\",\"Ukraine\",\"Iraq\",\"South Africa\",\"Ghana\",\"Zimbabwe\",\"Liberia\",\"India\",\"Sudan\",\"Haiti\",\"Congo (Kinshasa)\",\"Nepal\",\"Ethiopia\",\"Sierra Leone\",\"Mauritania\",\"Kenya\",\"Djibouti\",\"Armenia\",\"Botswana\",\"Myanmar\",\"Georgia\",\"Malawi\",\"Sri Lanka\",\"Cameroon\",\"Bulgaria\",\"Egypt\",\"Yemen\",\"Angola\",\"Mali\",\"Congo (Brazzaville)\",\"Comoros\",\"Uganda\",\"Senegal\",\"Gabon\",\"Niger\",\"Cambodia\",\"Tanzania\",\"Madagascar\",\"Central African Republic\",\"Chad\",\"Guinea\",\"Ivory Coast\",\"Burkina Faso\",\"Afghanistan\",\"Rwanda\",\"Benin\",\"Syria\",\"Burundi\",\"Togo\"],\"Dystopia Residual\":{\"__ndarray__\":\"+dUcIJgjBEA9uDtrt50FQDqX4qqy7wNAmgMEc/S4A0CvIM1YNJ0DQPfkYaHW9ARARPrt68C5A0Bk0XR2MvgCQHe+nxovHQJAi4nNx7UhAkBMGqN1VLUIQAnh0cYRawlATtGRXP5DBEBU6LzGLtEMQIbmOo20FARATRB1H4AUCkAy/n3GhYP/P7FQa5p3nP8/xZRIopdRA0DtZHCUvPoBQNxQMc7fhP8/XJTZIJPMA0CcLouJzYcJQJog6j4AKf4/C3va4a/JBkA/y/Pg7uwAQEcDeAskaAVAKgDGM2jo+D+pnzcVqbABQOSlm8QgsAZAB5lk5CxsBUAZPiKmRJICQHmSdM3k2wZAWKg1zTuOAkAYz6Chf4IDQHf4a7JG/QBAGlHaG3xh+j9LsDic+ZUCQIXTghd9Bf4/MsnIWdhTBkD1FaQZiyYCQEjhehSuRwhAjSjtDb7wBUBm8s02N+YBQNV9AFKb+AFAF0hQ/Bjz+j/ghEIEHMIBQHF31m67UARArd12obnO+z8yG2SSkTMAQLzoK0gzlgZA7PoFu2HbCEBsBOJ1/YIBQNEF9S1z+gFAtFTejnDa+T+n7V9ZaZIDQPLqHAOylwJAqMZLN4nBBEAHX5hMFQwBQLaEfNCz2f0/XtIYraMq/j/x12SNeggGQGBxOPOruQBAqYdodAcxAkAAV7JjI5ACQNqn4zEDlfk/lxdgH506/j/bbRea63QDQKrU7IFWIAZA0QoMWd3q/T+QoPgx5i78P+MxA5Xx7+Q/nfS+8bVn+T/7IqEt59L9PwX6RJ4knQFA5gXYR6euAEDNO07RkdwBQPfpeMxAJQdAvvbMkgA1+j82AvG6fgEAQELUfQBS2whATZzc71AU/j+TUtDtJc0AQIenV8oyxP0/idLe4AsTBUAueNFXkOb+PzMzMzMzMwBAXeFdLuI79D9qTfOOU/T5P+Y/pN++Dvw//cHAc+/hAEBvtrkxPaEDQBQ6r7FL1Ps/0/avrDRpCEBSD9HoDmL+P/zjvWplggBAF/GdmPViBkDUmuYdp2jzP5FmLJrOzvs/j6omiLqP9T/3AUht4uQDQKhNnNzv0Pw/U8vW+iIh+T+1bK0vEtrzP6hSswdagf0/fpHQlnPpAEBz9Pi9Tf8AQJoNMsnIWQBAavZAKzAkBEB4eqUsQxz7P03zjlN0JPk//kP67etA/z/5J7hYUYP7P34AUps4eQJA8DMuHAiJA0APEMzR4zcGQBYwgVt3MwJA7GmHvyarAUBXsmMjEO8BQACpTZzc7wZAIgIOoUpN/z8QBp57D5cDQBQi4BCqFARAjBAebRzxAED99nXgnJH8Pylcj8L1aABAwOeHEcIj/D/Bc+/hkmP3Pxx8YTJVsPY/u2HbosyG+T8Q5KCEmXYGQGH9n8N8eeU/vK5fsBs2/z/O/GoOEMzsPy2VtyOclvk/vk1/9iPF/j8cZJKRszD/P8dGIF7Xr/w/1xLyQc/m+j/cSxqjdVT/P/LqHAOy1/Y/fPKwUGsa9z+62or9ZffvP3NLqyFxD/4/ldQJaCJs7z8rTUpBtxf2PwRWDi2ynf0/1zTvOEXHBUCC+pY5XRb/Pz2gbMoV3v8/sI9OXfms9j/GounsZHD3P3lYqDXNO/8/wLLSpBR05T/DX5M16iH6P9eoh2h0B9U/a5+OxwxU/T9sQ8U4fxP5Pw==\",\"dtype\":\"float64\",\"order\":\"little\",\"shape\":[158]},\"Economy (GDP per Capita)\":{\"__ndarray__\":\"ZJeo3hpY9j/Z0w5/Tdb0P4UIOIQqNfU/8tJNYhBY9z9/MPDcezj1P76fGi/dpPQ/aOif4GJF9T87GRwlr071P/7PYb68APQ/Sphp+1dW9T8rjC0EOajzP9l3RfC/le4/aK7TSEtl9T9OKETAIVTwP48ev7fpT/Y/g92wbVFm7z+hMv59xgX5PwA6zJcXYPU/IuAQqtTs9D+g/UgRGdb2PxcrajANQ/Q/pWYPtALD9T/3zJIANbXwP+9yEd+JWfg/vwmFCDgE8T/lRLsKKT/1Py1DHOvitvE/shGI1/UL+z/gufdwyXH0P7MkQE0t2/A/kzXqIRrd8j+xijcyj/zwP/fpeMxAZe0/qRPQRNjw7j+ILqhvmVP2P5G4x9KHrvM/4QuTqYJR8z8rpPyk2qf0Pz2gbMoV3vg/C9KMRdPZ7z+k/KTap2PzP557D5ccd+g/7PoFu2Hb5z/p1JXP8jzkP0963/jas/I/MIFbd/NU9D+ZZOQs7OnzP6HgYkUNpus/IAw89x4u9T+iemtgqwT0P+gTeZJ0zeU/2QjE6/oF4z//snvysFDoP7w6x4Ds9fE/EqCmlq318j9e1y/YDVvyP5ZDi2zn++I/rfVFQlvO7D/DacGLvoLwP240gLdAAvI/yEEJM23/8T8Zyol2FVLxP3zysFBrGvI/a/EpAMYz8j+to6oJou7pPzKx+bg2VPM/TRB1H4BU8z8Ct+7mqQ7uPxK9jGK5pek/z04GR8mr7j8C9tGpKx/wP1oqb0c4LfY/r+sX7IZt8j/iQEgWMIHqPwrcupunOuQ/fVwbKsb58D98ZkmAmlrePzhnRGlv8OQ/8+UF2Een6D8ZOQt72mHwPz3VITfDDeM/r6w0KQXd7D8fDDz3Hi7vPyR/MPDce+w/mFEst7Qa3j/gLZCg+LHwP4WUn1T7dO0/kNrEyf2O8j9XYMjqVs/xP/zepj/7keY/q3gj88gfyD/dsG1RZoPnPxWRYRVvZO0/TaHzGrtEtT8EPj+MEB7sP6cAGM+goeo/8x/Sb18H2D+DOXr83qbsP4PF4cyv5uI/xvmbUIiA6j+3RZkNMsnmP7vyWZ4Hd/I/04IXfQVp8D+scwzIXu/xP3fzVIfcDOM/dmwE4nX92D+KyLCKNzLsPw4V4/xNKOM/xXJLqyFx2T/cRgN4CyTwP/zepj/7kek/DB8RUyKJ7z/3cMlxp3TtP/dAKzBkdeE/8tJNYhBY0T+1pnnHKTqyP8DnhxHCo+Q/sacd/pqs4D9SLLe0GhLRPwAAAAAAAAAAtaFinL8J1z+12y4012nIP8Mv9fOmItU/5A8GnnsP3T/Wi6GcaFfXP5MYBFYOLdw/orlOIy2V6D8JG55eKcvvPylhpu1fWdE/duCcEaW95z+xG7YtymyQPwr0iTxJuuo/CtejcD0K2z8ZHCWvzjHwPw+cM6K0N+w/zOmymNh84T8dA7LXuz/oPx2UMNP2r9A/uk4jLZW35T+2EOSghJnOP1ClZg+0Ass/z2vsEtVb1z+fk943vvbwP4enV8oyxLE/9ODurN123T/GbTSAt0DSP4EJ3Lqbp8o/f2q8dJMYtD+nXOFdLuLVP3rf+NozS8Y/KlJhbCHI3T+hYpy/CYXQP4DUJk7ud9Q/Pz+MEB5tzD9jf9k9eVjSP2Kh1jTvOOU/S8gHPZtVjz/ZJaq3BrbKPw==\",\"dtype\":\"float64\",\"order\":\"little\",\"shape\":[158]},\"Family\":{\"__ndarray__\":\"1v85zJeX9T9yhXe5iG/2P4V3uYjvxPU/escpOpJL9T8MzXUaaSn1P9b/OcyXF/U/CCC1iZN79D9WE0TdB6D0P3cyOEpeHfU/whIPKJvy9D8TfqmfN5XzP631RUJbzvM/VKnZA63A9D/Brbt5qkPtP6M7iJ0p9PM/KIOj5NW58z8WhzO/moPzP9NqSNxj6fU/4GdcOBCS9D9QjZduEgPyP+GX+nlTkfQ/HooCfSJP8T+4WFGDaRj0P1K4HoXrUfA/kxgEVg4t8z/SdHYyOMr0P3ZUNUHU/fE/GXPXEvJB8T8JhQg4hCr0P2ItPgXA+PM/y5wui4lN8z+BJsKGp1fzP9Vz0vvG1/M/BBxClZo99D/Vc9L7xlfxP0z9vKlIBfU/95LGaB3V9D8r+64I/jfxP2SSkbOwp/I/tMh2vp8a7z8dIJijx+/yP4PF4cyvZvA/w552+Guy8D+KPEm6ZnL1P+DzwwjhUfQ/Plxy3Ckd9D/1RUJbzqXuP9UhN8MN+O8/hGQBE7h18z8nFCLgECrzPx6KAn0iT+8/rYbEPZY+8D+q1OyBVuD0P/dAKzBk9fE/UiegibBh9D/mriXkgx70P/c7FAX6RPI/x0YgXtcv7z8LDFnd6rnzP2ItPgXAePQ/VisTfqkf8T+Xi/hOzHrpP6FsyhXe5fE/ur2kMVrH8z+1q5Dyk2ryP6yowTQMH/E/9x4uOe6U7D8D7KNTVz7xP88xIHu9++k/OIQqNXug8z8tJjYf14bvPx+A1CZO7vA/2ubG9ISl8z++K4L/rWTxP+JdLuI7Me0/gJ9x4UBI7j96pSxDHGvyP4/MI38w8Ow/C7Wmecep8T8y/n3GhQPuP3GUvDrHgNo/6ZrJN9vc8D+Zo8fvbfrsP7Kd76fGS+4/xsTm49pQ7T99xoUDIVnsPyu8y0V8J/A/XynLEMc68j8Pf03WqIfxP6sJou4DkPA/ba0vEtpy7j/f4AuTqYLkPwwHQrKACfA/XRYTm49r8D8hq1s9J73pP9NSeTvCae0/Y3rCEg+o8D9xICQLmMDyP67wLhfxnec/c9cS8kHP9D9Dc51GWirxPz0ipkQSve0/fSJPkq6Z6T+yLm6jATzzP4h7LH3ogu4/Uj9vKlJh6z9KmGn7V1bjPx+duvJZnu0/2UenrnyW2z9c5nRZTGzhP62GxD2WPvM/o68gzVg06j+/mgMEc/TyP+VciqvKvuU/Et+JWS+G8D/bxMn9DkXpP3XN5Jttbtg/ml/NAYI58D/0wwjh0cbnP00VjErqBPA/YAK37uap6z/cSxqjdVTjP6K5TiMtle4/HXIz3IDP6z/ZsRGI1/XvP8Mq3sg88uI/PaBsyhXe6D+xpx3+mqzxP1RSJ6CJsOY/yr4rgv+t2D9PWOIBZVPaPyDSb18HTvA/gX106spn7D9Qwkzbv7LxP4GVQ4ts5+c/YLAbti3K5T8OT6+UZYjrPxy2LcpskPA/vJaQD3o25T/L2xFOC17pP+IeSx+6IPI/6dSVz/I87z/VITfDDfjsPwskKH6Mueg/pTFaR1UT5D8JpwUv+grwP6rU7IFWYOU/AAAAAAAAAABl3xXB/1boP1g5tMh2vt0/zO7Jw0Kt6D80uoPYmULrP4v9ZffkYdM/UkmdgCbC6D8vNNdppKXWP9uizAaZZN4/IM1YNJ2d2j8noImw4enBPw==\",\"dtype\":\"float64\",\"order\":\"little\",\"shape\":[158]},\"Freedom\":{\"__ndarray__\":\"6lvmdFlM5T/lllZD4h7kP7ql1ZC4x+Q/dc3km21u5T/+KytNSkHkP5tyhXe5iOQ/MuvFUE604z9b07zjFB3lP2jttgvNdeQ/8xq7RPXW5D/8MEJ4tHHaPytqMA3DR+Q/fCx96IL64z9LsDic+dXeP9PZyeAoeeE/avZAKzBk3z9pqbwd4bTjP75lTpfFxOM/TmIQWDm04j/yBwPPvYfkPxSuR+F6FOM/j9/b9Gc/5D8SiNf1C3bbPyOhLedSXOE/1CtlGeJY4T8/+5EiMqzjP62GxD2WPtw/A3gLJCh+5D9fe2ZJgJrhP5v+7EeKyNw/IoRHG0es3T/FxObj2lDjP+tWz0nvG+E/cad0sP7P4T8f+YOB597TP2PWi6GcaN0/cF8HzhlR4z+si9toAG/ZP99sc2N6wuE/gcr49xkX4z/gSnZsBOLhP23n+6nx0tk/Yf2fw3x54j8dzvxqDhDlPxnKiXYVUtQ//kP67evA3z+q9ul4zEDVP4L6ljldFt8/6PaSxmgd3T/t0/GYgcrQPwFqatlaX+I/xuHMr+YA1T+P39v0Zz/hP9fAVgkWh+A/t2J/2T154z8Z+ie4WFHLP42XbhKDwOE/dXtJY7SO2j8rajANw0fYP1Zl3xXB/+A/R/5g4Ln34D/GUE60q5DQPwltOZfiqto/Yf2fw3x51z+jWG5pNSTgP1RvDWyVYN8/gEOoUrMH2j+YhuEjYkrSPyEkC5jArc8/1QloImx43j+NnIU97fDhP/uWOV0WE+M/0QX1LXO63D/4qpUJv9TdP0vl7QinBeM/FYxK6gQ0zT/6CtKMRdPbPykn2lVI+dU/9U9wsaIG4T/7XG3F/rLXP5dzKa4q+74/9X8O8+UF2j/l8h/Sb1/HP3prYKsEi+A/AIxn0NA/3z82H9eGinHWP811GmmpvMk/8YCyKVd44D+vWpnwS/3SP/kP6bevA+Q/cad0sP7P3T/nBdhHp67aPwtBDkqYadU/f4eiQJ/I1T+uTPilft7WPybkg57Nqrc/huY6jbRU1D8xX16AfXTiP+F/K9mxEeM/s2MjEK/r2z875Ga4AZ/TP2h5HtydtbM/hiAHJcy01T9224XmOo3UP4vgfyvZsdk/1q2ek9433j/IDFTGv8/QP89r7BLVW88/coqO5PIf2j/VfQBSmzjTP4eKcf4mFNA/AAAAAAAAAADi5H6HokDVP306HjNQGds/sMka9RCN0D9RMc7fhELSP2a9GMqJdtk/OxkcJa/OuT/dJAaBlUPPP+VhodY078w/VU0QdR+A2D8CK4cW2c7bP/rt68A5I9o/FFeVfVcEzz/caABvgQTbP+lg/Z/DfN0/81meB3dnyT/M7snDQq3fP12Kq8q+K9w/uKrsuyL42T91q+ek943bP+JdLuI7MeE/VwT/W8mO3z8W9rTDX5PTPxv1EI3uIMY/3Aw34PPD1j+GQgQcQpW6P+Y6jbRU3tg/KGa9GMqJ2j+EtpxLcVXNP2pI3GPpQ90/m3KFd7mI1z+xG7YtymzUP4O7s3bbhd4/pg9dUN8y5T9fDOVEuwrVPyBGCI82jsg/Yign2lVI3z+i0R3EzhTOP76fGi/dJNg/A2A8g4b+3T/YZI16iEbZP4C8V61M+M0/b/Wc9L7x4j81XrpJDALfP6UxWkdVE8Q/vHSTGARWvj/cSxqjdVTXPw==\",\"dtype\":\"float64\",\"order\":\"little\",\"shape\":[158]},\"Generosity\":{\"__ndarray__\":\"INeGinH+0j/Oqs/VVuzbP7ecS3FV2dU/on+CixU11j+oHf6arFHdP6T8pNqn480/1QloImx43j+FCDiEKjXXPy540VeQZt4//vFetTLh2z+zdtuF5jrVP/2C3bBtUdA/d6G5TiMt1T/dmJ6wxAPCPybkg57Nqtk/gQncupunwj9UrvAuF/HRP45donprYN0/exSuR+F6zD8LKT+p9unQP3hi1ouhnOA/wcBz7+GSyz/WyoRf6uetP2PuWkI+6NM/2GSNeohGzz8fLjnulA7SPwu6vaQxWtU/f95UpMLY1D8ZVvFG5pG/PzehEAGHUL0/syRATS1buz86kst/SL/NP+eHEcKjjcc/4umVsgxx4j9BfcucLovBP6NdhZSfVMc/VtRgGoaP4D8EHEKVmj3QP6G+ZU6XxcQ/x7WhYpy/xT9TP28qUmHUP1fPSe8bX7s/D9b/OcyX0T9BmrFoOjvNP48ZqIx/n8U/umsJ+aBnuz84Mo/8wcDHP86goX+Ci70/DDz3Hi45xj+DqPsApDbNPygK9Ik8Sco/xawXQznRyj8noImw4enVP0kRGVbxRr4/vcYuUb010D+0QSYZOQubPz55WKg1zdE/PrMkQE0twz8PI4RHG0e8P2x9kdCWc8U/XrpJDAIr1T85QDBHj9+rP0LPZtXnasc/k8ZoHVVNYD8ibHh6pSzLP+Us7GmHv9A/s4AJ3Lqb0z+Do+TVOQa0P67YX3ZPHtI/JAuYwK27xT+A8Qwa+ifYPzJaR1UTRNk/8fRKWYY4tj+Sy39Iv33gP02EDU+vlMU/rmTHRiBevz+ASL99HTjTPz0P7s7abdE/K/uuCP633j8QQGoTJ/ezPz8djxmojNU/zhQ6r7FLvD/whclUwajEPzJ3LSEf9LQ/T8x6MZQTyT9+Uu3T8ZjBPyDNWDSdncg/c0urIXGPwT8UOq+xS1THPwXAeAYN/c8/fQqA8Qwa4D9AGHjuPVyyP8o329yYnsw//reSHRuBzD9qGD4ipkTCP8ZVZd8Vwc8/J/c7FAX6xD9TeTvCacHLP/7PYb68ANs/v30dOGdE1T9Xz0nvG1/HPwAAAAAAAAAAYhVvZB75yz/8qfHSTWLAP2D9n8N8ec0/DqFKzR5ozT9KRs7CnnawP+cTeZJ0zbw/tU/HYwYqyz8csRafAmDYP1pkO99PjcM/4wFlU67wxj/XnlkSoKa+P5NS0O0ljc0/Ieo+AKlNyD8BZVOu8C7PP4ts5/up8dA/oFT7dDxmyD+sOUAwR4/dPyjyJOmayc8/XaJ6a2Cr1D+JQWDl0CLPP+JASBYwgcs/1HjpJjEIzD+e6pCb4QbYP3/Bbti2KMc/B84ZUdobtD+5pdWQuMe6P51LcVXZd+k/LnjRV5BmrD+IaHQHsTPVP6kY529CIdo/iG2LMhtkyj9NLVvri4S+PyswZHWr57w/ADrMlxdgtz9hqwSLw5m/P4+qJoi6D8g/EOSghJm2vz/BNAwfEVPGP9FXkGYsmtI/Ba3AkNWtyj/04O6s3XaxP3F31m670Mg/aoe/JmvU2T+NI9biUwDWPyC6oL5lTss/bjSAt0CCzj+bcoV3uYjHPyzxgLIpV9I/5IOezarPyT8tOe6UDtbLPyBB8WPMXdc/n5PeN772zD/l8h/Sb1/HPxkcJa/OMd4/jq89syRAyT9DqFKzB1rFPw==\",\"dtype\":\"float64\",\"order\":\"little\",\"shape\":[158]},\"Happiness Rank\":[1,2,3,4,5,6,7,8,9,10,11,12,13,14,15,16,17,18,19,20,21,22,23,24,25,26,27,28,29,30,31,32,33,34,35,36,37,38,39,40,41,42,43,44,45,46,47,48,49,50,51,52,53,54,55,56,57,58,59,60,61,62,63,64,65,66,67,68,69,70,71,72,73,74,75,76,77,78,79,80,81,82,82,84,85,86,87,88,89,90,91,92,93,94,95,96,97,98,99,100,101,102,103,104,105,106,107,108,109,110,111,112,113,114,115,116,117,118,119,120,121,122,123,124,125,126,127,128,129,130,131,132,133,134,135,136,137,138,139,140,141,142,143,144,145,146,147,148,149,150,151,152,153,154,155,156,157,158],\"Happiness Score\":{\"__ndarray__\":\"DQIrhxZZHkBYObTIdj4eQM/3U+OlGx5ASgwCK4cWHkBpke18P7UdQDq0yHa+nx1AT42XbhKDHUDb+X5qvHQdQL+fGi/dJB1AiUFg5dAiHUDpJjEIrBwdQIGVQ4ts5xxAzczMzMzMHEBzaJHtfL8cQGDl0CLbeRxAO99PjZfuG0BjEFg5tMgbQMP1KFyPwhtAc2iR7Xy/G0C0yHa+n5obQCyHFtnOdxtAtvP91HhpG0A9CtejcD0bQP3UeOkmMRtAv58aL90kG0AAAAAAAAAbQK5H4XoUrhpAjGzn+6lxGkDNzMzMzEwaQLKd76fGSxpAhetRuB4FGkBxPQrXo/AZQJzEILBy6BlAUrgehevRGUC/nxov3aQZQDeJQWDlUBlAaZHtfD81GUD91HjpJjEZQK5H4XoULhlA+n5qvHQTGUB46SYxCKwYQIXrUbgehRhAyqFFtvN9GEBPjZduEgMYQHsUrkfh+hdAppvEILDyF0BWDi2yne8XQGZmZmZm5hdA16NwPQrXF0CXbhKDwMoXQI/C9ShcjxdAdJMYBFaOF0BPjZduEoMXQOxRuB6FaxdAMQisHFpkF0ChRbbz/VQXQBxaZDvfTxdAsp3vp8ZLF0CNl24Sg0AXQESLbOf7KRdAFK5H4XoUF0Dvp8ZLNwkXQGq8dJMYBBdAd76fGi/dFkC8dJMYBNYWQEjhehSuxxZAqMZLN4nBFkDsUbgehWsWQEFg5dAiWxZA/dR46SYxFkCcxCCwcugVQEw3iUFg5RVAne+nxku3FUB/arx0k5gVQHE9CtejcBVAiBbZzvdTFUC/nxov3SQVQN9PjZduEhVAT42XbhIDFUANAiuHFtkUQC2yne+nxhRA+FPjpZvEFED4U+Olm8QUQI/C9ShcjxRAarx0kxiEFEDl0CLb+X4UQMqhRbbzfRRAnMQgsHJoFEAxCKwcWmQUQJhuEoPAShRA7Xw/NV46FEBaZDvfTw0UQLpJDAIrBxRA/Knx0k3iE0C8dJMYBNYTQLKd76fGyxNAZDvfT42XE0AK16NwPYoTQBsv3SQGgRNA5dAi2/l+E0ArhxbZzncTQCGwcmiRbRNAQWDl0CJbE0AzMzMzMzMTQPT91HjpJhNAv58aL90kE0Db+X5qvPQSQFyPwvUo3BJALbKd76fGEkBYObTIdr4SQNNNYhBYuRJAaJHtfD+1EkDEILByaJESQNV46SYxiBJAcT0K16NwEkBjEFg5tEgSQMP1KFyPQhJAMzMzMzMzEkDfT42XbhISQMQgsHJoERJAdJMYBFYOEkA/NV66SQwSQLpJDAIrBxJAWDm0yHa+EUCTGARWDq0RQGDl0CLbeRFAZmZmZmZmEUCHFtnO91MRQO18PzVeOhFA46WbxCAwEUBeukkMAisRQC/dJAaBFRFANV66SQwCEUCsHFpkO98QQC2yne+nxhBAAiuHFtlOEEBvEoPAyiEQQPYoXI/C9Q9AtvP91HjpD0DazvdT46UPQKabxCCwcg9ACKwcWmQ7D0BfukkMAisPQMP1KFyPwg5AWmQ730+NDkBzaJHtfD8OQKabxCCwcg1ABoGVQ4tsDUC8dJMYBFYNQHNoke18Pw1APQrXo3A9DUAYBFYOLbIMQJqZmZmZmQxAuB6F61G4C0C4HoXrUbgKQEA1XrpJDAhAPQrXo3A9B0CDwMqhRbYGQA==\",\"dtype\":\"float64\",\"order\":\"little\",\"shape\":[158]},\"Health (Life Expectancy)\":{\"__ndarray__\":\"GyWvzjEg7j+G5jqNtFTuPwXAeAYN/es/+vIC7KNT7D/s2AjE6/rsP2x9kdCWc+w/w/ARMSWS7D9oCp3X2CXtP1RcVfZdEe0/V2DI6lbP7T/ndFlMbD7tP4Jbd/NUh+s/y4l2FVJ+7D9VvJF55A/qP4eiQJ/Ik+s/rg0V4/xN5j9Hj9/b9GftP/QVpBmLpuw//rypSIWx7D9MN4lBYOXpP3wKgPEMGu0/f03WqIdo6D87pYP1fw7nP4GVQ4tsZ/A/dlQ1QdR96T+1iZP7HYrsP3506spnees/a9RDNLqD6T9qSNxj6UPuPzfDDfj8MOk/8L+V7NgI6z8N4C2QoPjpP3va4a/JGuY/bxKDwMqh5z8/NV66SQznP6Pp7GRwlO4/pOTVOQZk7D+mCkYldQLsPxjshm2LMuc/n6ut2F924z+UMNP2r6zjPyJUqdkDreU/BFYOLbKd5D+qSIWxhSDjPzl6/N6mP+k/SaKXUSy37z+izAaZZOTuP+f7qfHSTek/uCOcFrzo5z+Y4qqy74ruPzcawFsgQeE/RpkNMsnI4z8t7GmHvyblP2LboswGmeQ/NddppKXy6z8RAYdQpWbnP5wui4nNx+c/dqbQeY1d5z92q+ek943nP8tKk1LQ7eg/CYUIOIQq5z8PnDOitDfpP/aX3ZOHheY/tauQ8pNq5T8CMJ5BQ//lP6+ZfLPNje0/r5l8s82N7T/5g4Hn3sPjP2vxKQDGM+Q/A+yjU1c+4T9OYhBYObTmP9gN2xZlNvA/U3k7wmnB6D+ZZOQs7GnkPzDAPjp15ec/J4i6D0Bq5z/52jNLAtTkP1sNiXssfcQ/yatzDMhe4j90JJf/kH7kP0fmkT8YeOA/t11ortNI5j/bbRea6zTnP28qUmFsIeo/Lexph78m0z/tnjws1JroP1FOtKuQ8uc/4Ch5dY4B7D88g4b+CS7nP9S3zOmymOI/h4px/iYU3D+oUrMHWoHjP3/7OnDOiOc/ADrMlxdgtz+gGi/dJAbqPzwx68VQTuk/I0+Srpl8sz/8qfHSTWLlP8PwETElkuE/RYE+kSdJ4z88iJ0pdF6zP19BmrFoOuw/zSN/MPDc6j/u68A5I0roPyBj7lpCPuY/6bKY2Hxc4j/MlxdgH53nP3KKjuTyH+U/4uR+h6JA4z8tIR/0bFbmP+PHmLuWkOU/u+1Cc51G4z+cpzrkZrjRPx3EzhQ6r9k/BoGVQ4ts1T/d6jnpfePVPz2WPnRBfeA/7s7abRea1z8iiV5GsdzYP+62C811Grk/T6p9Oh4z4j/gLZCg+DHcPwAAAAAAAAAALxfxnZj11j8UP8bctYTaPwsMWd3qOdc/ejarPldb5z/dKR2s/3OoP8czaOif4N4/oP1IERlW5z8aaam8HeHMP2Ni83FtqOY/2xFOC170zT/XwFYJFofoPwGkNnFyv+M/Tgte9BWk2T9f7/54r1rFPyqRRC+jWMo/cy7FVWXf0z+utmJ/2T3XP85OBkfJq9U/6Gor9pfd2z9uwOeHEcLbP6Xap+MxA9M/yuAoeXWO4z9MpgpGJXXYP2ZOl8XE5t0/2LYos0EmsT+8lpAPejbDP7NeDOVEu84/j+TyH9Jvwz9cj8L1KFzRP2B2Tx4WatM/5Xlwd9Zu2z+V1AloImzUP30KgPEMGuc/QlvOpbiqzD/5FADjGTTSPw==\",\"dtype\":\"float64\",\"order\":\"little\",\"shape\":[158]},\"Region\":[\"Western Europe\",\"Western Europe\",\"Western Europe\",\"Western Europe\",\"North America\",\"Western Europe\",\"Western Europe\",\"Western Europe\",\"Australia and New Zealand\",\"Australia and New Zealand\",\"Middle East and Northern Africa\",\"Latin America and Caribbean\",\"Western Europe\",\"Latin America and Caribbean\",\"North America\",\"Latin America and Caribbean\",\"Western Europe\",\"Western Europe\",\"Western Europe\",\"Middle East and Northern Africa\",\"Western Europe\",\"Middle East and Northern Africa\",\"Latin America and Caribbean\",\"Southeastern Asia\",\"Latin America and Caribbean\",\"Western Europe\",\"Latin America and Caribbean\",\"Middle East and Northern Africa\",\"Western Europe\",\"Latin America and Caribbean\",\"Central and Eastern Europe\",\"Latin America and Caribbean\",\"Latin America and Caribbean\",\"Southeastern Asia\",\"Middle East and Northern Africa\",\"Western Europe\",\"Western Europe\",\"Eastern Asia\",\"Middle East and Northern Africa\",\"Latin America and Caribbean\",\"Latin America and Caribbean\",\"Latin America and Caribbean\",\"Latin America and Caribbean\",\"Central and Eastern Europe\",\"Central and Eastern Europe\",\"Eastern Asia\",\"Eastern Asia\",\"Latin America and Caribbean\",\"Middle East and Northern Africa\",\"Western Europe\",\"Latin America and Caribbean\",\"Central and Eastern Europe\",\"Latin America and Caribbean\",\"Central and Eastern Europe\",\"Central and Eastern Europe\",\"Central and Eastern Europe\",\"Latin America and Caribbean\",\"Latin America and Caribbean\",\"Central and Eastern Europe\",\"Central and Eastern Europe\",\"Southeastern Asia\",\"Central and Eastern Europe\",\"Middle East and Northern Africa\",\"Central and Eastern Europe\",\"Latin America and Caribbean\",\"Western Europe\",\"Western Europe\",\"Middle East and Northern Africa\",\"Central and Eastern Europe\",\"Central and Eastern Europe\",\"Sub-Saharan Africa\",\"Eastern Asia\",\"Central and Eastern Europe\",\"Southeastern Asia\",\"Southeastern Asia\",\"Middle East and Northern Africa\",\"Central and Eastern Europe\",\"Sub-Saharan Africa\",\"Southern Asia\",\"Central and Eastern Europe\",\"Southern Asia\",\"Middle East and Northern Africa\",\"Central and Eastern Europe\",\"Eastern Asia\",\"Sub-Saharan Africa\",\"Central and Eastern Europe\",\"Central and Eastern Europe\",\"Western Europe\",\"Central and Eastern Europe\",\"Southeastern Asia\",\"Sub-Saharan Africa\",\"Middle East and Northern Africa\",\"Central and Eastern Europe\",\"Sub-Saharan Africa\",\"Central and Eastern Europe\",\"Central and Eastern Europe\",\"Sub-Saharan Africa\",\"Latin America and Caribbean\",\"Southeastern Asia\",\"Eastern Asia\",\"Sub-Saharan Africa\",\"Western Europe\",\"Middle East and Northern Africa\",\"Central and Eastern Europe\",\"Latin America and Caribbean\",\"Central and Eastern Europe\",\"Middle East and Northern Africa\",\"Middle East and Northern Africa\",\"Southern Asia\",\"Middle East and Northern Africa\",\"Central and Eastern Europe\",\"Middle East and Northern Africa\",\"Sub-Saharan Africa\",\"Sub-Saharan Africa\",\"Sub-Saharan Africa\",\"Sub-Saharan Africa\",\"Southern Asia\",\"Sub-Saharan Africa\",\"Latin America and Caribbean\",\"Sub-Saharan Africa\",\"Southern Asia\",\"Sub-Saharan Africa\",\"Sub-Saharan Africa\",\"Sub-Saharan Africa\",\"Sub-Saharan Africa\",\"Sub-Saharan Africa\",\"Central and Eastern Europe\",\"Sub-Saharan Africa\",\"Southeastern Asia\",\"Central and Eastern Europe\",\"Sub-Saharan Africa\",\"Southern Asia\",\"Sub-Saharan Africa\",\"Central and Eastern Europe\",\"Middle East and Northern Africa\",\"Middle East and Northern Africa\",\"Sub-Saharan Africa\",\"Sub-Saharan Africa\",\"Sub-Saharan Africa\",\"Sub-Saharan Africa\",\"Sub-Saharan Africa\",\"Sub-Saharan Africa\",\"Sub-Saharan Africa\",\"Sub-Saharan Africa\",\"Southeastern Asia\",\"Sub-Saharan Africa\",\"Sub-Saharan Africa\",\"Sub-Saharan Africa\",\"Sub-Saharan Africa\",\"Sub-Saharan Africa\",\"Sub-Saharan Africa\",\"Sub-Saharan Africa\",\"Southern Asia\",\"Sub-Saharan Africa\",\"Sub-Saharan Africa\",\"Middle East and Northern Africa\",\"Sub-Saharan Africa\",\"Sub-Saharan Africa\"],\"Standard Error\":{\"__ndarray__\":\"9ODurN12oT/gKHl1jgGpP0TFOH8TCqE/6Gor9pfdoz83ww34/DCiPzJVMCqpE6A/C811GmmpnD/SxhFr8SmgP26oGOdvQqE/KzBkdavnpD+Hp1fKMsShPzxJumbyzaY/asGLvoI0oz/+2Y8UkWGlPyuk/KTap6M/rkz4pX7epD+1w1+TNeqhP24Xmus00qI/KxiV1Alooj+5iO/ErBejP10z+WabG5M//7J78rBQqz8VxhaCHJSwP5jdk4eFWqM/a5p3nKIjqT+xM4XOa+ySPxgEVg4tsq0/v/G1Z5YEsD96/N6mP/uhP+kOYmcKnac/SWjLuRRXpT9agSGrWz2nP3juPVxy3Kk/EfxvJTs2oj9juaXVkLinPxqLprOTwaE/YoTwaOOIpT9ZwARu3c2jP6pla32R0KY/dhppqbwduT/5MeauJeS7P07pYP2fw6w/VgkWhzO/qj9rn47HDFSmP2JnCp3X2KU/L1G9NbBVoj9ehZSfVPukPwJlU67wLqc/aHke3J21qz8nTu53KAqkP20+rg0V46w/pGsm32xzoz941m670FynP8ZoHVVNEKU/+YOB597DpT8F3V7SGK2jP6uy74rgf6s/jLlrCfmgpz9EozuInSmkP4guqG+Z06U/z2bV52orpj9z9Pi9TX+mP5Rqn47HDLQ/Io51cRsNoD8Qr+sX7IbBP+5aQj7o2aw/Ns07TtGRrD+zmNh8XBuqP3CZ02Uxsak/x0s3iUFgpT/qCUs8oGyyP3juPVxy3Kk/QE0tW+uLpD+GQgQcQpWaP1QAjGfQ0J8/f4eiQJ/Ioz/CwHPv4ZKjP2a9GMqJdqU/UI2XbhKDoD+5NlSM8zehPxbe5SK+E6M/JyzxgLIppz+vJeSDns2qPzUpBd1e0pg/pPyk2qfjsT8LKT+p9umwP50MjpJX56g/Z5sb0xOWqD/gnBGlvcGnP4jvxKwXQ6k/CY82jliLrz/f4AuTqYKhP7x5qkNuhqs/ZjGx+bg2tD9f0hito6qpP6YnLPGAsrE/tn9lpUkpuD9yM9yAzw+zP71vfO2ZJbE/EXAIVWr2oD+MLQQ5KGG2P9AKDFnd6qk/TUpBt5c0pj+Hj4gpkUSvP7OTwVHy6qw/j41AvK5foD/jwoGQLGCiP3P0+L1Nf6Y/iqvKviuCnz8rgv+tZMemP0n0MorllqY/DHva4a/Jqj8oDwu1pnmnP51GWipvR6g/SS7/If32pT9oP1JEhlW8P8/abRea65Q/NxrAWyBBsT8xQni0ccSyP0hQ/Bhz16I/ucK7XMR3oj+Y3ZOHhVqjPyo1e6AVGLI/L6NYbmk1pD/p1JXP8jyoP7a+SGjLubQ/F/GdmPViqD+I78SsF0OpP0kRGVbxRqY/ldkgk4ycpT9tVn2utmKvP2rBi76CNKM/+rg2VIzzpz/yDBr6J7ioP8X+snvysKA/svShC+pbpj8HKuPfZ1yoP+cF2Eenrqw/Cf63kh0bsT9W1GAaho+oPwouVtRgGqY/8FAU6BN5oj8O8+UF2EenP6j7AKQ2caI/Tu53KAr0qT+afLPNjempP0Q0uoPYmaI/mFZD4h5Lrz9ApN++DpyjPxpR2ht8YaI/p+1fWWlSqj+IEcKjjSOmP4Zyol2FlJ8/P1JEhlW8oT8r+64I/reiP8zuycNCrak/mNh8XBsqtj/VfQBSmzixPw==\",\"dtype\":\"float64\",\"order\":\"little\",\"shape\":[158]},\"Trust (Government Corruption)\":{\"__ndarray__\":\"zPPg7qzd2j8ldQKaCBvCP/vo1JXP8t4/scQDyqZc1z+5iO/ErBfVPybfbHNjeto/Byrj32dc1D8Ah1ClZg/cP/GAsilXeNs/HqLRHcTO1j+SXP5D+u2zP7mI78SsF7s/DrkZbsDnxz+Azw8jhEfLP5/Nqs/VVsQ/BVH3AUhtxj9xsaIG0zDYP+YivhOzXtI/7lpCPujZzD8aNPRPcLHYP4O7s3bbhdQ/cXfWbrvQ1D+Ehv4JLla8P3Qkl/+Qft8/0NVW7C+7tz9Mjjulg/XLPyk/qfbpeMA/aam8HeG04D8FUfcBSG3KPw6EZAETuLU/Y3rCEg8omz90nUZaKm/PPy1DHOviNqo/NnFyv0NRoD9xd9Zuu9DUP8UbmUf+YLA/3NJqSNxjwT866X3ja8+0P/lJtU/HY9A/3lm77UJzwT/UK2UZ4liHP9nmxvSEJb4/VvFG5pE/uD+0jqomiLrTPzf92Y8UkaE/PSzUmuYdxz8+XHLcKR20P9ZW7C+7J8c/L90kBoGV0z+GIAclzLSdP7tJDAIrh7Y/YVRSJ6CJkD9FTIkkehm1P9wuNNdppLU/FsH/VrJjoz/o9pLGaB2FP7a+SGjLucg/YAK37uaprj8dOGdEaW/IP6nZA63AkKU//MHAc+/huj/D0ytlGeKYP5y/CYUIOLw/2qz6XG3Fnj/tR4rIsIqXP9c07zhFR8I/1jkGZK93rz+qJoi6D0DGP2e4AZ8fRqg/r84xIHu90z9wCFVq9kCzP/zjvWplwtc/AcEcPX5vwz8AAAAAAAAAAJcXYB+duro/8s02N6YnxD/s9e6P96qlP+C+DpwzoqQ/aQBvgQTFwz9xGw3gLZDEPwx72uGvybo/CAPPvYdLwj+xbVFmg0zCP2DNAYI5epw/lxx3Sgfrvz+GQgQcQpV6P3iXi/hOzJo/+WabG9MThj+9xi5RvTWwP3SdRloqb78/r5l8s82N2T+qvB3htOC1P0tBt5c0Rqs/1PGYgcr4wz9eRrHc0mqwPw2mYfiImGI/N45Yi08BwD9k0XR2MjjCP32zzY3pCc8/XAhyUMJMmz9LyAc9m1WfP+k+AKlNnIw/hGQBE7h1pz+SPxh47j2cP0a28/3UeLE/CTNt/8pKwz+C/61kx0awPxQ/xty1hMA/LZW3I5wWwD+FAyFZwASuPxnKiXYVUp4/oOBiRQ2mwT+unpPeN762PyNKe4MvTKY/5gXYR6eutD8rAMYzaOivP+m8xi5RvbU/FvvL7snDwj+WQ4ts5/vFP4XrUbgehbM/53RZTGw+rj/C3Vm77ULDPz1moDL+fbY/0vvG155Zxj9ortNIS+WtP3icoiO5/NE/K4cW2c73oz87x4Ds9e6/PyJxj6UPXcg/Y7SOqiaI2D947j1cctyxPx2PGaiMf7c/HT1+b9OfrT9dp5GWytuBP+ONzCN/MLA/7IZtizIbtD/sNNJSeTuyPzvkZrgBn78/Quc1donqvT9FtvP91HjJP197ZkmAmrI/k6RrJt9suz/boswGmWS8P7/xtWeWBMQ/Pu3w12SNsj/OkgA1tWytP7GFIAclzLQ/Rloqb0c4tT/uCKcFL/qqP4m6D0BqE78/4wFlU67wxj+xG7YtymzAP6iMf59x4bg/RbsKKT+p4T+M22gAb4G0P0+qfToeM8g/NdJSeTvCuT9+pIgMq3i7Pw==\",\"dtype\":\"float64\",\"order\":\"little\",\"shape\":[158]},\"index\":[0,1,2,3,4,5,6,7,8,9,10,11,12,13,14,15,16,17,18,19,20,21,22,23,24,25,26,27,28,29,30,31,32,33,34,35,36,37,38,39,40,41,42,43,44,45,46,47,48,49,50,51,52,53,54,55,56,57,58,59,60,61,62,63,64,65,66,67,68,69,70,71,72,73,74,75,76,77,78,79,80,81,82,83,84,85,86,87,88,89,90,91,92,93,94,95,96,97,98,99,100,101,102,103,104,105,106,107,108,109,110,111,112,113,114,115,116,117,118,119,120,121,122,123,124,125,126,127,128,129,130,131,132,133,134,135,136,137,138,139,140,141,142,143,144,145,146,147,148,149,150,151,152,153,154,155,156,157]},\"selected\":{\"id\":\"1398\"},\"selection_policy\":{\"id\":\"1399\"}},\"id\":\"1326\",\"type\":\"ColumnDataSource\"},{\"attributes\":{\"axis\":{\"id\":\"1342\"},\"dimension\":1,\"ticker\":null},\"id\":\"1345\",\"type\":\"Grid\"},{\"attributes\":{},\"id\":\"1399\",\"type\":\"UnionRenderers\"},{\"attributes\":{},\"id\":\"1343\",\"type\":\"BasicTicker\"},{\"attributes\":{},\"id\":\"1334\",\"type\":\"LinearScale\"},{\"attributes\":{},\"id\":\"1347\",\"type\":\"WheelZoomTool\"},{\"attributes\":{},\"id\":\"1332\",\"type\":\"DataRange1d\"},{\"attributes\":{\"axis_label\":\"Happiness Score\",\"formatter\":{\"id\":\"1394\"},\"ticker\":{\"id\":\"1339\"}},\"id\":\"1338\",\"type\":\"LinearAxis\"},{\"attributes\":{},\"id\":\"1396\",\"type\":\"BasicTickFormatter\"},{\"attributes\":{\"overlay\":{\"id\":\"1352\"}},\"id\":\"1348\",\"type\":\"BoxZoomTool\"},{\"attributes\":{},\"id\":\"1351\",\"type\":\"HelpTool\"},{\"attributes\":{\"fill_alpha\":{\"value\":0.5},\"fill_color\":{\"value\":\"firebrick\"},\"line_alpha\":{\"value\":0.5},\"line_color\":{\"value\":\"firebrick\"},\"size\":{\"units\":\"screen\",\"value\":10},\"x\":{\"field\":\"Happiness Score\"},\"y\":{\"field\":\"Economy (GDP per Capita)\"}},\"id\":\"1361\",\"type\":\"Circle\"},{\"attributes\":{},\"id\":\"1394\",\"type\":\"BasicTickFormatter\"},{\"attributes\":{},\"id\":\"1330\",\"type\":\"DataRange1d\"},{\"attributes\":{\"bottom_units\":\"screen\",\"fill_alpha\":0.5,\"fill_color\":\"lightgrey\",\"left_units\":\"screen\",\"level\":\"overlay\",\"line_alpha\":1.0,\"line_color\":\"black\",\"line_dash\":[4,4],\"line_width\":2,\"right_units\":\"screen\",\"top_units\":\"screen\"},\"id\":\"1352\",\"type\":\"BoxAnnotation\"},{\"attributes\":{\"active_drag\":\"auto\",\"active_inspect\":\"auto\",\"active_multi\":null,\"active_scroll\":\"auto\",\"active_tap\":\"auto\",\"tools\":[{\"id\":\"1346\"},{\"id\":\"1347\"},{\"id\":\"1348\"},{\"id\":\"1349\"},{\"id\":\"1350\"},{\"id\":\"1351\"}]},\"id\":\"1353\",\"type\":\"Toolbar\"},{\"attributes\":{\"axis\":{\"id\":\"1338\"},\"ticker\":null},\"id\":\"1341\",\"type\":\"Grid\"},{\"attributes\":{},\"id\":\"1398\",\"type\":\"Selection\"},{\"attributes\":{\"data_source\":{\"id\":\"1326\"},\"glyph\":{\"id\":\"1361\"},\"hover_glyph\":null,\"muted_glyph\":null,\"nonselection_glyph\":{\"id\":\"1362\"},\"selection_glyph\":null,\"view\":{\"id\":\"1364\"}},\"id\":\"1363\",\"type\":\"GlyphRenderer\"},{\"attributes\":{},\"id\":\"1339\",\"type\":\"BasicTicker\"},{\"attributes\":{},\"id\":\"1350\",\"type\":\"ResetTool\"}],\"root_ids\":[\"1327\"]},\"title\":\"Bokeh Application\",\"version\":\"2.1.1\"}};\n",
       "  var render_items = [{\"docid\":\"047114c6-49be-41eb-a891-bfabc591865b\",\"root_ids\":[\"1327\"],\"roots\":{\"1327\":\"8ed7ec67-498d-45b5-b829-969a1a7036b5\"}}];\n",
       "  root.Bokeh.embed.embed_items_notebook(docs_json, render_items);\n",
       "\n",
       "  }\n",
       "  if (root.Bokeh !== undefined) {\n",
       "    embed_document(root);\n",
       "  } else {\n",
       "    var attempts = 0;\n",
       "    var timer = setInterval(function(root) {\n",
       "      if (root.Bokeh !== undefined) {\n",
       "        clearInterval(timer);\n",
       "        embed_document(root);\n",
       "      } else {\n",
       "        attempts++;\n",
       "        if (attempts > 100) {\n",
       "          clearInterval(timer);\n",
       "          console.log(\"Bokeh: ERROR: Unable to run BokehJS code because BokehJS library is missing\");\n",
       "        }\n",
       "      }\n",
       "    }, 10, root)\n",
       "  }\n",
       "})(window);"
      ],
      "application/vnd.bokehjs_exec.v0+json": ""
     },
     "metadata": {
      "application/vnd.bokehjs_exec.v0+json": {
       "id": "1327"
      }
     },
     "output_type": "display_data"
    }
   ],
   "source": []
  },
  {
   "cell_type": "code",
   "execution_count": null,
   "metadata": {
    "id": "LB5zJZoqdRQ0"
   },
   "outputs": [],
   "source": []
  }
 ],
 "metadata": {
  "colab": {
   "provenance": []
  },
  "kernelspec": {
   "display_name": "Python 3 (ipykernel)",
   "language": "python",
   "name": "python3"
  },
  "language_info": {
   "codemirror_mode": {
    "name": "ipython",
    "version": 3
   },
   "file_extension": ".py",
   "mimetype": "text/x-python",
   "name": "python",
   "nbconvert_exporter": "python",
   "pygments_lexer": "ipython3",
   "version": "3.12.0"
  }
 },
 "nbformat": 4,
 "nbformat_minor": 4
}
