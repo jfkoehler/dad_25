{
 "cells": [
  {
   "cell_type": "markdown",
   "metadata": {},
   "source": [
    "# Assignment 1\n",
    "\n",
    "**Topics**\n",
    "\n",
    "- Numbers and operations\n",
    "- Strings \n",
    "- Lists \n",
    "\n",
    "\n",
    "For each of the problems below use either a code or markdown cell to answer.  "
   ]
  },
  {
   "cell_type": "markdown",
   "metadata": {},
   "source": [
    "### Number and Operation\n",
    "\n",
    "In the problems below, compute the appropriate numerical operations and assign your solution to the given variable."
   ]
  },
  {
   "cell_type": "markdown",
   "metadata": {},
   "source": [
    "**Problem 1**: Sum the first 10 integers.  Assign your solution to `ans1` below."
   ]
  },
  {
   "cell_type": "code",
   "execution_count": 1,
   "metadata": {},
   "outputs": [
    {
     "name": "stdout",
     "output_type": "stream",
     "text": [
      "\n"
     ]
    }
   ],
   "source": [
    "### addition\n",
    "ans1 = ''\n",
    "print(ans1)"
   ]
  },
  {
   "cell_type": "markdown",
   "metadata": {},
   "source": [
    "**Problem 2**: Multiply 1, 2, 3, 4, and 5.  Assign your solution to `ans2` below."
   ]
  },
  {
   "cell_type": "code",
   "execution_count": 2,
   "metadata": {},
   "outputs": [
    {
     "name": "stdout",
     "output_type": "stream",
     "text": [
      "\n"
     ]
    }
   ],
   "source": [
    "### multiplicatin\n",
    "ans2 = ''\n",
    "print(ans2)"
   ]
  },
  {
   "cell_type": "markdown",
   "metadata": {},
   "source": [
    "**Problem 3**: Divide 9 by 3.  Assign your solution to `ans3` below."
   ]
  },
  {
   "cell_type": "code",
   "execution_count": 3,
   "metadata": {},
   "outputs": [
    {
     "name": "stdout",
     "output_type": "stream",
     "text": [
      "\n"
     ]
    }
   ],
   "source": [
    "### division\n",
    "ans3 = ''\n",
    "print(ans3)"
   ]
  },
  {
   "cell_type": "markdown",
   "metadata": {},
   "source": [
    "**Problem 4**: What is the remainder when 7 is divided by 3?  Use the `%` operator to determine this.  Assign your solution to `ans4` below."
   ]
  },
  {
   "cell_type": "code",
   "execution_count": 4,
   "metadata": {},
   "outputs": [
    {
     "name": "stdout",
     "output_type": "stream",
     "text": [
      "\n"
     ]
    }
   ],
   "source": [
    "### modulus\n",
    "ans4 = ''\n",
    "print(ans4)"
   ]
  },
  {
   "cell_type": "markdown",
   "metadata": {},
   "source": [
    "**Problem 5**: What is the integer of the quotient when 12 is divided by 5?  Use the `//` operator to determine this.  Assign your solution to `ans5` below.\n"
   ]
  },
  {
   "cell_type": "code",
   "execution_count": 7,
   "metadata": {},
   "outputs": [],
   "source": [
    "### floor\n",
    "ans5 = ''\n",
    "print(ans5)"
   ]
  },
  {
   "cell_type": "markdown",
   "metadata": {},
   "source": [
    "### Strings and their methods"
   ]
  },
  {
   "cell_type": "markdown",
   "metadata": {},
   "source": [
    "**Problem 6**: Create a string named `firstname` below with your first name.  "
   ]
  },
  {
   "cell_type": "code",
   "execution_count": 8,
   "metadata": {},
   "outputs": [
    {
     "name": "stdout",
     "output_type": "stream",
     "text": [
      "\n"
     ]
    }
   ],
   "source": [
    "### define a string\n",
    "firstname = ''\n",
    "print(firstname)"
   ]
  },
  {
   "cell_type": "markdown",
   "metadata": {},
   "source": [
    "**Problem 7**:   Use the `.upper()` method to uppercase the string `firstname`. Assign your solution to `ans7` below."
   ]
  },
  {
   "cell_type": "code",
   "execution_count": 9,
   "metadata": {},
   "outputs": [],
   "source": [
    "### upper\n",
    "ans7 = ''"
   ]
  },
  {
   "cell_type": "markdown",
   "metadata": {},
   "source": [
    "**Problem 8**: Below, the lyrics from the song Black Site by the American hardcore-punk band Ammo [discography](https://www.discogs.com/artist/6688148-Ammo-15).  Use the split method to split the lyrics and assign them to a variable `tokens`. "
   ]
  },
  {
   "cell_type": "code",
   "execution_count": 11,
   "metadata": {},
   "outputs": [],
   "source": [
    "### split\n",
    "lyrics = '''\n",
    "Enhanced interrogation\n",
    "Secret strangulation\n",
    "Thirst for information\n",
    "Human ruination\n",
    "'''\n",
    "tokens = ''"
   ]
  },
  {
   "cell_type": "markdown",
   "metadata": {},
   "source": [
    "**Problem 9**: Use the list `tokens` to extract every other word from the lyrics and combine these to be a new string using the `.join()` function.  Assign your answer as `new_lyrics` below. "
   ]
  },
  {
   "cell_type": "code",
   "execution_count": 12,
   "metadata": {},
   "outputs": [
    {
     "name": "stdout",
     "output_type": "stream",
     "text": [
      "\n"
     ]
    }
   ],
   "source": [
    "### slice\n",
    "new_lyrics = ''\n",
    "print(new_lyrics)"
   ]
  },
  {
   "cell_type": "markdown",
   "metadata": {},
   "source": [
    "### Lists\n",
    "\n",
    "The questions below focus on the use of [list](https://docs.python.org/3/tutorial/datastructures.html) objects. Also, they will introduce you to Ann Peebles song *Trouble, Heartaches, and Sadness* from the [album](https://www.discogs.com/master/137000-Ann-Peebles-Straight-From-The-Heart), whose lyrics are assigned to `trouble_heartaches_and_sadness` below. "
   ]
  },
  {
   "cell_type": "code",
   "execution_count": 13,
   "metadata": {},
   "outputs": [],
   "source": [
    "### create\n",
    "trouble_heartaches_and_sadness = '''\n",
    "Whoa\n",
    "Old man trouble\n",
    "Stop knockin' at my door\n",
    "You used to be a good friend of mine\n",
    "But you can't hang around me no more\n",
    "\n",
    "Heartache\n",
    "(heartache)\n",
    "Stop knockin' at my window\n",
    "I don't wanna hear what you have to say\n",
    "You can go join Mister Trouble\n",
    "And be on your merry way\n",
    "\n",
    "\n",
    "'Cause I've found the love\n",
    "I needed all the time\n",
    "I've found the love\n",
    "Help me ease my troubled mind\n",
    "\n",
    "Dark clouds\n",
    "Hanging over my head\n",
    "Aw, but this time\n",
    "Sure won't rain on me\n",
    "He's my sunshine\n",
    "And the love he gives\n",
    "Gonna set me free\n",
    "Yeah\n",
    "\n",
    "Mmm\n",
    "Sadness\n",
    "I have no more use for you\n",
    "I know you can easily\n",
    "Find you another friend\n",
    "Cos I've found someone\n",
    "To take away my trouble\n",
    "Bring my sadness to an end\n",
    "\n",
    "I've found the love\n",
    "I needed all the time\n",
    "I've found the love\n",
    "Help me ease my troubled mind\n",
    "'''"
   ]
  },
  {
   "cell_type": "markdown",
   "metadata": {},
   "source": [
    "**Problem 10**: Create a list of tokens from the lyrics and assign to the variable `peebles_lyrics` below.  Extract the last word of the lyrics and assign to `last_word`. "
   ]
  },
  {
   "cell_type": "code",
   "execution_count": 13,
   "metadata": {},
   "outputs": [
    {
     "name": "stdout",
     "output_type": "stream",
     "text": [
      "[]\n",
      "\n"
     ]
    }
   ],
   "source": [
    "### index\n",
    "peebles_lyrics = []\n",
    "last_word = ''\n",
    "print(peebles_lyrics[:10])\n",
    "print(last_word)"
   ]
  },
  {
   "cell_type": "markdown",
   "metadata": {},
   "source": [
    "**Problem 11**: Use the list `peebles_lyrics` to determine the number of words in the lyrics. Assign your results to `num_words` below."
   ]
  },
  {
   "cell_type": "code",
   "execution_count": 14,
   "metadata": {},
   "outputs": [],
   "source": [
    "### length\n"
   ]
  },
  {
   "cell_type": "markdown",
   "metadata": {},
   "source": [
    "**Problem 12**: There is a kind of collection that we didn't discuss in class -- that of a `set`.  Read the documentation [here](https://docs.python.org/3/tutorial/datastructures.html#sets), and create a set of words from `peebles_lyrics`.  Assign the length of this set to `num_unique_words` below."
   ]
  },
  {
   "cell_type": "code",
   "execution_count": 15,
   "metadata": {},
   "outputs": [],
   "source": [
    "### set\n"
   ]
  },
  {
   "cell_type": "markdown",
   "metadata": {},
   "source": [
    "**Problem 13**: One way to understand the notion of lexical diversity is as the percent of unique words in a text.  What is the lexical diversity of *Trouble, Heartaches, and Sadness*?  Assign your answer as `lexical_diversity` below."
   ]
  },
  {
   "cell_type": "code",
   "execution_count": 16,
   "metadata": {},
   "outputs": [],
   "source": [
    "### lexical diversity\n",
    "lexical_diversity = ''"
   ]
  },
  {
   "cell_type": "markdown",
   "metadata": {},
   "source": [
    "**Problem 14**: Use your function to compare the lexical diversity of *Troubles, Heartaches, and Sadness* to that of the [Drake]() single *Hotline Bling*, assigned to the variable `hotline_bling` below.  Use the `lex_div` function to determine the lexical diversity and decide if *Drake* or *Anne Peebles* song had a higher lexical diversity."
   ]
  },
  {
   "cell_type": "code",
   "execution_count": null,
   "metadata": {},
   "outputs": [],
   "source": [
    "hotline_bling = '''\n",
    "You used to call me on my\n",
    "You used to, you used to\n",
    "Yeah\n",
    "\n",
    "You used to call me on my cell phone\n",
    "Late-night when you need my love\n",
    "Call me on my cell phone\n",
    "Late-night when you need my love\n",
    "And I know when that hotline bling\n",
    "That can only mean one thing\n",
    "I know when that hotline bling\n",
    "That can only mean one thing\n",
    "\n",
    "\n",
    "Ever since I left the city, you\n",
    "Got a reputation for yourself now\n",
    "Everybody knows and I feel left out\n",
    "Girl, you got me down, you got me stressed out\n",
    "'Cause ever since I left the city, you\n",
    "Started wearing less and goin' out more\n",
    "Glasses of champagne out on the dance floor\n",
    "Hangin' with some girls I never seen before\n",
    "\n",
    "\n",
    "You used to call me on my cell phone\n",
    "Late-night when you need my love\n",
    "Call me on my cell phone\n",
    "Late-night when you need my love\n",
    "I know when that hotline bling\n",
    "That can only mean one thing\n",
    "I know when that hotline bling\n",
    "That can only mean one thing\n",
    "\n",
    "\n",
    "Ever since I left the city, you, you, you\n",
    "You and me, we just don't get along\n",
    "You make me feel like I did you wrong\n",
    "Going places where you don't belong\n",
    "Ever since I left the city, you\n",
    "You got exactly what you asked for\n",
    "Running out of pages in your passport\n",
    "Hangin' with some girls I've never seen before\n",
    "'''"
   ]
  },
  {
   "cell_type": "code",
   "execution_count": null,
   "metadata": {},
   "outputs": [],
   "source": []
  },
  {
   "cell_type": "markdown",
   "metadata": {},
   "source": [
    "### Further Problems\n",
    "\n",
    "One great resource for practice are sites like [code wars](https://www.codewars.com/).  They have problems organized by difficulty in *Kata*'s.  Head over to code wars and get set up to practice.  Explore some different problems and locate two that you understand and are able to solve.  State the problems and their solutions below."
   ]
  },
  {
   "cell_type": "markdown",
   "metadata": {},
   "source": [
    "**Problem 15**:  Code Wars Problem I"
   ]
  },
  {
   "cell_type": "code",
   "execution_count": null,
   "metadata": {},
   "outputs": [],
   "source": []
  },
  {
   "cell_type": "markdown",
   "metadata": {},
   "source": [
    "**Problem 16**: Code Wars Problem II"
   ]
  },
  {
   "cell_type": "code",
   "execution_count": null,
   "metadata": {},
   "outputs": [],
   "source": []
  }
 ],
 "metadata": {
  "kernelspec": {
   "display_name": "Python 3 (ipykernel)",
   "language": "python",
   "name": "python3"
  },
  "language_info": {
   "codemirror_mode": {
    "name": "ipython",
    "version": 3
   },
   "file_extension": ".py",
   "mimetype": "text/x-python",
   "name": "python",
   "nbconvert_exporter": "python",
   "pygments_lexer": "ipython3",
   "version": "3.12.0"
  }
 },
 "nbformat": 4,
 "nbformat_minor": 4
}
